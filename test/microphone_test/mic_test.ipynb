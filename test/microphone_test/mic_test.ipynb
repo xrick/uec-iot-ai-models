{
 "cells": [
  {
   "cell_type": "code",
   "execution_count": 13,
   "id": "62ba027a-0a24-47d2-adf5-7c7fcf82e3be",
   "metadata": {},
   "outputs": [],
   "source": [
    "import os\n",
    "import sys\n",
    "import time\n",
    "import pyaudio\n",
    "import wave\n",
    "from queue import Queue\n",
    "from threading import Thread"
   ]
  },
  {
   "cell_type": "code",
   "execution_count": null,
   "id": "a2ce21af-0d06-4dcf-8761-619381105e35",
   "metadata": {},
   "outputs": [],
   "source": [
    "sys.path.append(\"../ipynb_files/\")"
   ]
  },
  {
   "cell_type": "code",
   "execution_count": 15,
   "id": "a7c532f8-a378-4f14-97f9-2a57e51a64b7",
   "metadata": {},
   "outputs": [
    {
     "ename": "SyntaxError",
     "evalue": "unexpected character after line continuation character (2985194539.py, line 4)",
     "output_type": "error",
     "traceback": [
      "\u001b[1;36m  Cell \u001b[1;32mIn[15], line 4\u001b[1;36m\u001b[0m\n\u001b[1;33m    from ..\\common import utils as U\u001b[0m\n\u001b[1;37m            ^\u001b[0m\n\u001b[1;31mSyntaxError\u001b[0m\u001b[1;31m:\u001b[0m unexpected character after line continuation character\n"
     ]
    }
   ],
   "source": [
    "import zipfile\n",
    "import wavio\n",
    "import random\n",
    "from common import utils as U\n",
    "np.set_printoptions(threshold=sys.maxsize)"
   ]
  },
  {
   "cell_type": "code",
   "execution_count": 10,
   "id": "235a5696-aead-410f-930c-fba59c190929",
   "metadata": {},
   "outputs": [],
   "source": [
    "from datetime import datetime\n",
    "def genDataTimeStr():\n",
    "    return datetime.today().strftime('%Y-%m-%d %H:%M:%S').replace('-',\"\").replace(' ',\"\").replace(':',\"\");"
   ]
  },
  {
   "cell_type": "markdown",
   "id": "dc88b0d9-04cb-4ca0-bb3a-aee513ba4405",
   "metadata": {},
   "source": [
    "### List Devices"
   ]
  },
  {
   "cell_type": "code",
   "execution_count": 1,
   "id": "b79e2d55-7b9a-479c-abf6-d34819744a2b",
   "metadata": {},
   "outputs": [],
   "source": [
    "# audio = pyaudio.PyAudio();\n",
    "# result = []\n",
    "# for i in range(audio.get_device_count()):\n",
    "#     device_info = audio.get_device_info_by_index(i)\n",
    "#     result.append(device_info.get(\"name\"))\n",
    "# print(result)"
   ]
  },
  {
   "cell_type": "code",
   "execution_count": 11,
   "id": "07186792-d839-4886-af23-aaec6fd82840",
   "metadata": {},
   "outputs": [],
   "source": [
    "messages = Queue()\n",
    "recordings = Queue()"
   ]
  },
  {
   "cell_type": "code",
   "execution_count": 12,
   "id": "8814cd22-0570-4dbd-95cd-b507cef063eb",
   "metadata": {},
   "outputs": [],
   "source": [
    "CHUNK = 8192\n",
    "FORMAT = pyaudio.paInt16\n",
    "CHANNELS = 1\n",
    "RATE = 20000\n",
    "RECORD_SECONDS = 2\n",
    "SAMPLE_SIZE = 2\n",
    "p = pyaudio.PyAudio()"
   ]
  },
  {
   "cell_type": "markdown",
   "id": "718fd450-e893-47fc-8975-650ad742b773",
   "metadata": {},
   "source": [
    "### code snipet 3"
   ]
  },
  {
   "cell_type": "code",
   "execution_count": null,
   "id": "3466d3a4-6d64-4e4e-b275-1b7f34774e1a",
   "metadata": {},
   "outputs": [],
   "source": [
    "def record_microphone(chunk=1024):\n",
    "    p = pyaudio.PyAudio()\n",
    "\n",
    "    stream = p.open(format=FORMAT,\n",
    "                    channels=CHANNELS,\n",
    "                    rate=RATE,\n",
    "                    input=True,\n",
    "                    # input_device_index=2,\n",
    "                    frames_per_buffer=chunk)\n",
    "\n",
    "    frames = []\n",
    "\n",
    "    while not messages.empty():\n",
    "        data = stream.read(chunk)\n",
    "        frames.append(data)\n",
    "        if len(frames) >= (RATE * RECORD_SECONDS) / chunk:\n",
    "            recordings.put(frames.copy())\n",
    "            frames = []\n",
    "\n",
    "    stream.stop_stream()\n",
    "    stream.close()\n",
    "    p.terminate()"
   ]
  },
  {
   "cell_type": "markdown",
   "id": "bb2cf19a-f586-46bb-b8af-9f90ceec2ffa",
   "metadata": {},
   "source": [
    "### code-snipet 2"
   ]
  },
  {
   "cell_type": "code",
   "execution_count": 3,
   "id": "cdad7870-91da-4b67-a97d-5ef7c7e93a15",
   "metadata": {},
   "outputs": [],
   "source": [
    "# RECORD_SECONDS = 5\n",
    "\n",
    "# WAVE_OUTPUT_FILENAME = \"recording.wav\"\n",
    "\n",
    "# # p = pyaudio.PyAudio()\n",
    "\n",
    "# stream = p.open(format=FORMAT,\n",
    "#                 channels=CHANNELS,\n",
    "#                 rate=RATE,\n",
    "#                 input=True,\n",
    "#                 frames_per_buffer=CHUNK)\n",
    "\n",
    "# print(\"* recording\")\n",
    "\n",
    "# frames = []\n",
    "\n",
    "# for i in range(0, int(RATE / CHUNK * RECORD_SECONDS)):\n",
    "#     data = stream.read(CHUNK)\n",
    "#     frames.append(data)\n",
    "\n",
    "# print(\"* done recording\")\n",
    "\n",
    "# stream.stop_stream()\n",
    "# stream.close()\n",
    "# p.terminate()\n",
    "\n",
    "# wf = wave.open(WAVE_OUTPUT_FILENAME, 'wb')\n",
    "# wf.setnchannels(CHANNELS)\n",
    "# wf.setsampwidth(p.get_sample_size(FORMAT))\n",
    "# wf.setframerate(RATE)\n",
    "# wf.writeframes(b''.join(frames))\n",
    "# wf.close()"
   ]
  },
  {
   "cell_type": "markdown",
   "id": "144c85eb-481f-4a91-af94-1f8580602a3d",
   "metadata": {
    "jp-MarkdownHeadingCollapsed": true
   },
   "source": [
    "### code snipet 1"
   ]
  },
  {
   "cell_type": "code",
   "execution_count": 2,
   "id": "07991794-6fac-4848-aeee-df6272e8f8a3",
   "metadata": {},
   "outputs": [],
   "source": [
    "# DURATION = 2;  # seconds\n",
    "\n",
    "# def callback(in_data, frame_count, time_info, status):\n",
    "#     print(\"data received.....\");\n",
    "#     #return (in_data, pyaudio.paContinue)\n",
    "\n",
    "\n",
    "# stream = p.open(format=p.get_format_from_width(2),\n",
    "#                 channels=1 if sys.platform == 'darwin' else 2,\n",
    "#                 rate=20000,\n",
    "#                 input=True,\n",
    "#                 output=True,\n",
    "#                 stream_callback=callback)\n",
    "\n",
    "# start = time.time()\n",
    "# while stream.is_active() and (time.time() - start) < DURATION:\n",
    "#     pass\n",
    "#     # time.sleep(1)\n",
    "\n",
    "# stream.close()\n",
    "# p.terminate()"
   ]
  },
  {
   "cell_type": "code",
   "execution_count": null,
   "id": "5da257d5-b7c6-4398-83e6-b60227ae8be9",
   "metadata": {},
   "outputs": [],
   "source": []
  }
 ],
 "metadata": {
  "kernelspec": {
   "display_name": "Python 3 (ipykernel)",
   "language": "python",
   "name": "python3"
  },
  "language_info": {
   "codemirror_mode": {
    "name": "ipython",
    "version": 3
   },
   "file_extension": ".py",
   "mimetype": "text/x-python",
   "name": "python",
   "nbconvert_exporter": "python",
   "pygments_lexer": "ipython3",
   "version": "3.10.13"
  }
 },
 "nbformat": 4,
 "nbformat_minor": 5
}
