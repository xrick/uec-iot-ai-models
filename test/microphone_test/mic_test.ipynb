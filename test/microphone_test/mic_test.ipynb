{
 "cells": [
  {
   "cell_type": "code",
   "execution_count": 4,
   "id": "62ba027a-0a24-47d2-adf5-7c7fcf82e3be",
   "metadata": {},
   "outputs": [],
   "source": [
    "import pyaudio"
   ]
  },
  {
   "cell_type": "markdown",
   "id": "dc88b0d9-04cb-4ca0-bb3a-aee513ba4405",
   "metadata": {},
   "source": []
  },
  {
   "cell_type": "code",
   "execution_count": 5,
   "id": "b79e2d55-7b9a-479c-abf6-d34819744a2b",
   "metadata": {},
   "outputs": [
    {
     "name": "stdout",
     "output_type": "stream",
     "text": [
      "['Microsoft Sound Mapper - Input', '麥克風排列 (Realtek(R) Audio)', 'Microsoft Sound Mapper - Output', '耳機 (Realtek(R) Audio)', '喇叭 (Realtek(R) Audio)', '主要音效擷取驅動程式', '麥克風排列 (Realtek(R) Audio)', '主要音效驅動程式', '耳機 (Realtek(R) Audio)', '喇叭 (Realtek(R) Audio)', '耳機 (Realtek(R) Audio)', '喇叭 (Realtek(R) Audio)', '麥克風排列 (Realtek(R) Audio)', 'Headphones 1 (Realtek HD Audio 2nd output with SST)', 'Headphones 2 (Realtek HD Audio 2nd output with SST)', '電腦喇叭 (Realtek HD Audio 2nd output with SST)', 'Speakers 1 (Realtek HD Audio output with SST)', 'Speakers 2 (Realtek HD Audio output with SST)', '電腦喇叭 (Realtek HD Audio output with SST)', '立體聲混音 (Realtek HD Audio Stereo input)', '麥克風排列 (Realtek HD Audio Mic input)', 'VX2476 Series (ACX HD Audio Speaker)']\n"
     ]
    }
   ],
   "source": [
    "audio = pyaudio.PyAudio();\n",
    "result = []\n",
    "for i in range(audio.get_device_count()):\n",
    "    device_info = audio.get_device_info_by_index(i)\n",
    "    result.append(device_info.get(\"name\"))\n",
    "print(result)"
   ]
  },
  {
   "cell_type": "code",
   "execution_count": null,
   "id": "07991794-6fac-4848-aeee-df6272e8f8a3",
   "metadata": {},
   "outputs": [],
   "source": []
  }
 ],
 "metadata": {
  "kernelspec": {
   "display_name": "Python 3 (ipykernel)",
   "language": "python",
   "name": "python3"
  },
  "language_info": {
   "codemirror_mode": {
    "name": "ipython",
    "version": 3
   },
   "file_extension": ".py",
   "mimetype": "text/x-python",
   "name": "python",
   "nbconvert_exporter": "python",
   "pygments_lexer": "ipython3",
   "version": "3.10.13"
  }
 },
 "nbformat": 4,
 "nbformat_minor": 5
}
