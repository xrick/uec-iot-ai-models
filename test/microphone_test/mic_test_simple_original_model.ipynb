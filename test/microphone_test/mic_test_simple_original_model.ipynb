version https://git-lfs.github.com/spec/v1
oid sha256:c034abecfc99b8ed9a8c26579405d43c6a35dec602bac9a531904aa19f4735f8
size 665506
