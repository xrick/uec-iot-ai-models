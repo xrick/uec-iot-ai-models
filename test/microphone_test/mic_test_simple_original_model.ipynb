version https://git-lfs.github.com/spec/v1
oid sha256:53856f71d1962108abdf8c05729279dc84aa0cdc2b3a05a8b7f0442d5e3f894d
size 505070
