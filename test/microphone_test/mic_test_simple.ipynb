version https://git-lfs.github.com/spec/v1
oid sha256:3f8c09b594db0525931611e07a7a28a7d1074dca93e3369f7fb14c8536b5e8d7
size 451876
