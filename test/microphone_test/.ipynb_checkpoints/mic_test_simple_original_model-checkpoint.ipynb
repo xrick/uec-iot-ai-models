version https://git-lfs.github.com/spec/v1
oid sha256:b2f4ff18d5a7b60e425c2fc9aebac27d08ba37924a8d48bacaf4e5f464f56d36
size 504845
