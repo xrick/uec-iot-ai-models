version https://git-lfs.github.com/spec/v1
oid sha256:9789d691e293dce1e6f1717185dfd3f545b488917d2f77e21a86d517e37750ef
size 585951
