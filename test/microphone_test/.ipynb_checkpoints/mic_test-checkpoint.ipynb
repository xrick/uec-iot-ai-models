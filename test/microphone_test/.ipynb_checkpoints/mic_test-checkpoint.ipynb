{
 "cells": [
  {
   "cell_type": "code",
   "execution_count": 1,
   "id": "62ba027a-0a24-47d2-adf5-7c7fcf82e3be",
   "metadata": {},
   "outputs": [],
   "source": [
    "import os\n",
    "import sys\n",
    "import numpy as np\n",
    "import time\n",
    "import pyaudio\n",
    "import wave\n",
    "import zipfile\n",
    "import wavio\n",
    "import random\n",
    "from queue import Queue\n",
    "from threading import Thread\n",
    "np.set_printoptions(threshold=sys.maxsize)"
   ]
  },
  {
   "cell_type": "code",
   "execution_count": 2,
   "id": "cb9ada84-2f1f-4336-bc42-76c2169cfe08",
   "metadata": {},
   "outputs": [
    {
     "name": "stdout",
     "output_type": "stream",
     "text": [
      "WARNING:tensorflow:From C:\\Users\\UEC\\AppData\\Roaming\\Python\\Python310\\site-packages\\keras\\src\\losses.py:2976: The name tf.losses.sparse_softmax_cross_entropy is deprecated. Please use tf.compat.v1.losses.sparse_softmax_cross_entropy instead.\n",
      "\n"
     ]
    }
   ],
   "source": [
    "import tensorflow as tf"
   ]
  },
  {
   "cell_type": "code",
   "execution_count": 3,
   "id": "a2ce21af-0d06-4dcf-8761-619381105e35",
   "metadata": {},
   "outputs": [],
   "source": [
    "sys.path.append(\"../ipynb_files/\")\n",
    "sys.path.append(\"../\")"
   ]
  },
  {
   "cell_type": "code",
   "execution_count": 4,
   "id": "a7c532f8-a378-4f14-97f9-2a57e51a64b7",
   "metadata": {},
   "outputs": [],
   "source": [
    "from common import utils as U\n",
    "from TestSharedLib.bytes import to_bytes, from_bytes, byte_conversion_tests, load_data, load_raw, save_raw, save_scores\n",
    "from TestSharedLib.constants import quant_support, crops, feature_count"
   ]
  },
  {
   "cell_type": "code",
   "execution_count": 5,
   "id": "235a5696-aead-410f-930c-fba59c190929",
   "metadata": {},
   "outputs": [],
   "source": [
    "from datetime import datetime\n",
    "def genDataTimeStr():\n",
    "    return datetime.today().strftime('%Y-%m-%d %H:%M:%S').replace('-',\"\").replace(' ',\"\").replace(':',\"\");"
   ]
  },
  {
   "cell_type": "code",
   "execution_count": null,
   "id": "d378199a-cd37-481d-8cb6-437d38b39ada",
   "metadata": {},
   "outputs": [],
   "source": []
  },
  {
   "cell_type": "code",
   "execution_count": 6,
   "id": "cd8bed44-adbb-401f-a342-c70a11b6c53c",
   "metadata": {},
   "outputs": [],
   "source": [
    "def quantize_int8(x, axis):\n",
    "  '''Quantization into int8_t precision, operating on x along axis'''\n",
    "  scaling_factor_shape = tuple(np.append([len(x)],np.ones(x.ndim - 1, dtype = int)))\n",
    "  epsilon = 0.000000001\n",
    "  x_scaling_factor = (np.max(np.abs(x), axis) / 128) + epsilon\n",
    "  x_scaling_factor = x_scaling_factor.reshape(scaling_factor_shape)\n",
    "  # x_zero_offset = -0.5 #-0.25 #-0.25\n",
    "  result = (x / x_scaling_factor) #+ x_zero_offset\n",
    "  return np.rint(result).astype(np.int8)"
   ]
  },
  {
   "cell_type": "code",
   "execution_count": 7,
   "id": "6a4978d5-1622-4a12-a6f8-26ab38bd25c4",
   "metadata": {},
   "outputs": [
    {
     "name": "stdout",
     "output_type": "stream",
     "text": [
      "model loaded....\n"
     ]
    }
   ],
   "source": [
    "tflite_quant_model_path = \"../../trained_models/step_6_QAT_and_Convert2TFLite/final_qat_model_acc87.46_testacc89_20240418190654/qat_model_acc_93_prunInfo_0.8_0.85_testAcc89_20240418190654.tflite\";\n",
    "quanted_interpreter = tf.lite.Interpreter(model_path=tflite_quant_model_path)\n",
    "print(\"model loaded....\")"
   ]
  },
  {
   "cell_type": "markdown",
   "id": "413c512e-39a6-4a63-abf4-efff3746565f",
   "metadata": {},
   "source": [
    "### Show the model information"
   ]
  },
  {
   "cell_type": "code",
   "execution_count": 8,
   "id": "fa3d3dc9-bd2e-47ae-83b9-44f14205ee21",
   "metadata": {},
   "outputs": [
    {
     "name": "stdout",
     "output_type": "stream",
     "text": [
      "== Input details ==\n",
      "name: input.2_te_transform\n",
      "shape: [    1     1 30225     1]\n",
      "type: <class 'numpy.int8'>\n",
      "\n",
      "== Output details ==\n",
      "name: Xq.1\n",
      "shape: [1 3]\n",
      "type: <class 'numpy.int8'>\n"
     ]
    }
   ],
   "source": [
    "input_details = quanted_interpreter.get_input_details()\n",
    "output_details = quanted_interpreter.get_output_details()\n",
    "\n",
    "print(\"== Input details ==\")\n",
    "print(\"name:\", input_details[0]['name'])\n",
    "print(\"shape:\", input_details[0]['shape'])\n",
    "print(\"type:\", input_details[0]['dtype'])\n",
    "\n",
    "print(\"\\n== Output details ==\")\n",
    "print(\"name:\", output_details[0]['name'])\n",
    "print(\"shape:\", output_details[0]['shape'])\n",
    "print(\"type:\", output_details[0]['dtype'])"
   ]
  },
  {
   "cell_type": "code",
   "execution_count": 9,
   "id": "cec4883d-3cc8-426a-9cf6-76ababe420ab",
   "metadata": {},
   "outputs": [],
   "source": [
    "def doSoundClassification(input_wav=None):\n",
    "    pass"
   ]
  },
  {
   "cell_type": "code",
   "execution_count": null,
   "id": "e4e7c831-6d22-4412-9d80-4f62942d8b9b",
   "metadata": {},
   "outputs": [],
   "source": []
  },
  {
   "cell_type": "code",
   "execution_count": null,
   "id": "e4fdc3a8-44ff-4b7e-bcd1-95d3bc49cc9d",
   "metadata": {},
   "outputs": [],
   "source": []
  },
  {
   "cell_type": "markdown",
   "id": "b362ee28-96e4-4a87-9815-53f74fc76a11",
   "metadata": {},
   "source": [
    "## Load ai model for testing"
   ]
  },
  {
   "cell_type": "code",
   "execution_count": null,
   "id": "98f7385b-1086-41a3-8f7f-2d17484107a6",
   "metadata": {},
   "outputs": [],
   "source": []
  },
  {
   "cell_type": "markdown",
   "id": "dc88b0d9-04cb-4ca0-bb3a-aee513ba4405",
   "metadata": {},
   "source": [
    "### List Devices"
   ]
  },
  {
   "cell_type": "code",
   "execution_count": 10,
   "id": "b79e2d55-7b9a-479c-abf6-d34819744a2b",
   "metadata": {},
   "outputs": [],
   "source": [
    "# audio = pyaudio.PyAudio();\n",
    "# result = []\n",
    "# for i in range(audio.get_device_count()):\n",
    "#     device_info = audio.get_device_info_by_index(i)\n",
    "#     result.append(device_info.get(\"name\"))\n",
    "# audio.terminate()\n",
    "# print(result)"
   ]
  },
  {
   "cell_type": "code",
   "execution_count": 10,
   "id": "07186792-d839-4886-af23-aaec6fd82840",
   "metadata": {},
   "outputs": [],
   "source": [
    "messages = Queue()\n",
    "recordings = Queue()"
   ]
  },
  {
   "cell_type": "code",
   "execution_count": 11,
   "id": "8814cd22-0570-4dbd-95cd-b507cef063eb",
   "metadata": {},
   "outputs": [],
   "source": [
    "CHUNK = 8192\n",
    "FORMAT = pyaudio.paInt16\n",
    "CHANNELS = 1 if sys.platform == 'darwin' else 2;\n",
    "RATE = 20000\n",
    "RECORD_SECONDS = 2\n",
    "SAMPLE_SIZE = 2\n",
    "p = pyaudio.PyAudio()"
   ]
  },
  {
   "cell_type": "markdown",
   "id": "bb2cf19a-f586-46bb-b8af-9f90ceec2ffa",
   "metadata": {},
   "source": [
    "### code-snipet 2"
   ]
  },
  {
   "cell_type": "code",
   "execution_count": 12,
   "id": "cdad7870-91da-4b67-a97d-5ef7c7e93a15",
   "metadata": {},
   "outputs": [],
   "source": [
    "def record_sound(record_second=2):\n",
    "    RECORD_SECONDS = record_second;\n",
    "    WAVE_OUTPUT_FILENAME = \"mic_test_sound_{}.wav\".format(genDataTimeStr());\n",
    "    # p = pyaudio.PyAudio()\n",
    "    stream = p.open(format=FORMAT,\n",
    "                    channels=CHANNELS,\n",
    "                    rate=RATE,\n",
    "                    input=True,\n",
    "                    output=True,\n",
    "                    frames_per_buffer=CHUNK)\n",
    "    \n",
    "    print(\"進行2秒聲音錄製\")\n",
    "    \n",
    "    frames = []\n",
    "    \n",
    "    for i in range(0, int(RATE / CHUNK * RECORD_SECONDS)):\n",
    "        data = stream.read(CHUNK)\n",
    "        frames.append(data)\n",
    "    \n",
    "    # stream.stop_stream()\n",
    "    stream.close()\n",
    "    # p.terminate()\n",
    "    test_wav = \"./mic_record_savedir/{}\".format(WAVE_OUTPUT_FILENAME);\n",
    "    wf = wave.open(test_wav, 'wb')\n",
    "    wf.setnchannels(CHANNELS)\n",
    "    wf.setsampwidth(p.get_sample_size(FORMAT))\n",
    "    wf.setframerate(RATE)\n",
    "    wf.writeframes(b''.join(frames))\n",
    "    wf.close()\n",
    "    \n",
    "    print(\"錄製完成，進行辨識{}\".format(test_wav));\n",
    "    # doSoundClassification(input_wav=test_wav)"
   ]
  },
  {
   "cell_type": "code",
   "execution_count": 14,
   "id": "75cd2107-1e9c-46a2-bef0-611248f2528f",
   "metadata": {},
   "outputs": [
    {
     "name": "stdout",
     "output_type": "stream",
     "text": [
      "進行2秒聲音錄製\n",
      "錄製完成，進行辨識./mic_record_savedir/mic_test_sound_20240424102505.wav\n"
     ]
    }
   ],
   "source": [
    "record_sound();"
   ]
  },
  {
   "cell_type": "markdown",
   "id": "718fd450-e893-47fc-8975-650ad742b773",
   "metadata": {
    "jp-MarkdownHeadingCollapsed": true
   },
   "source": [
    "### code snipet 3"
   ]
  },
  {
   "cell_type": "code",
   "execution_count": 9,
   "id": "3466d3a4-6d64-4e4e-b275-1b7f34774e1a",
   "metadata": {},
   "outputs": [],
   "source": [
    "# def record_microphone(chunk=1024):\n",
    "#     p = pyaudio.PyAudio();\n",
    "#     stream = p.open(format=FORMAT,\n",
    "#                     channels=CHANNELS,\n",
    "#                     rate=RATE,\n",
    "#                     input=True,\n",
    "#                     # input_device_index=2,\n",
    "#                     frames_per_buffer=chunk)\n",
    "\n",
    "#     frames = []\n",
    "\n",
    "#     while not messages.empty():\n",
    "#         data = stream.read(chunk)\n",
    "#         frames.append(data)\n",
    "#         if len(frames) >= (RATE * RECORD_SECONDS) / chunk:\n",
    "#             recordings.put(frames.copy())\n",
    "#             frames = []\n",
    "\n",
    "#     stream.stop_stream()\n",
    "#     stream.close()\n",
    "#     p.terminate()"
   ]
  },
  {
   "cell_type": "code",
   "execution_count": 25,
   "id": "c9c04e56-7ba4-47d5-9498-36243fd52f54",
   "metadata": {},
   "outputs": [],
   "source": [
    "# def test_sound_classification():\n",
    "#     while not messages.empty():\n",
    "#         frames = recordings.get()\n",
    "        \n",
    "#         rec.AcceptWaveform(b''.join(frames))\n",
    "#         result = rec.Result()\n",
    "#         text = json.loads(result)[\"text\"]\n",
    "#         print(f\"accept data....\")\n",
    "        \n",
    "#         time.sleep(1)"
   ]
  },
  {
   "cell_type": "code",
   "execution_count": 26,
   "id": "bb7e155d-8180-4b4d-81f2-d0c8ebbfdece",
   "metadata": {},
   "outputs": [],
   "source": [
    "# record_microphone()\n",
    "# test_sound_classification()"
   ]
  },
  {
   "cell_type": "code",
   "execution_count": null,
   "id": "5897046c-c82c-4260-b28a-6fbd6ee13117",
   "metadata": {},
   "outputs": [],
   "source": []
  },
  {
   "cell_type": "markdown",
   "id": "144c85eb-481f-4a91-af94-1f8580602a3d",
   "metadata": {
    "jp-MarkdownHeadingCollapsed": true
   },
   "source": [
    "### code snipet 1"
   ]
  },
  {
   "cell_type": "code",
   "execution_count": 2,
   "id": "07991794-6fac-4848-aeee-df6272e8f8a3",
   "metadata": {},
   "outputs": [],
   "source": [
    "# DURATION = 2;  # seconds\n",
    "\n",
    "# def callback(in_data, frame_count, time_info, status):\n",
    "#     print(\"data received.....\");\n",
    "#     #return (in_data, pyaudio.paContinue)\n",
    "\n",
    "\n",
    "# stream = p.open(format=p.get_format_from_width(2),\n",
    "#                 channels=1 if sys.platform == 'darwin' else 2,\n",
    "#                 rate=20000,\n",
    "#                 input=True,\n",
    "#                 output=True,\n",
    "#                 stream_callback=callback)\n",
    "\n",
    "# start = time.time()\n",
    "# while stream.is_active() and (time.time() - start) < DURATION:\n",
    "#     pass\n",
    "#     # time.sleep(1)\n",
    "\n",
    "# stream.close()\n",
    "# p.terminate()"
   ]
  },
  {
   "cell_type": "code",
   "execution_count": null,
   "id": "5da257d5-b7c6-4398-83e6-b60227ae8be9",
   "metadata": {},
   "outputs": [],
   "source": []
  }
 ],
 "metadata": {
  "kernelspec": {
   "display_name": "Python 3 (ipykernel)",
   "language": "python",
   "name": "python3"
  },
  "language_info": {
   "codemirror_mode": {
    "name": "ipython",
    "version": 3
   },
   "file_extension": ".py",
   "mimetype": "text/x-python",
   "name": "python",
   "nbconvert_exporter": "python",
   "pygments_lexer": "ipython3",
   "version": "3.10.13"
  }
 },
 "nbformat": 4,
 "nbformat_minor": 5
}
