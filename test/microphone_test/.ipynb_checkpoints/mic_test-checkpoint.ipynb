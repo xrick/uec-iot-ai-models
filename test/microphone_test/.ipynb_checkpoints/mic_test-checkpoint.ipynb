{
 "cells": [
  {
   "cell_type": "code",
   "execution_count": 4,
   "id": "62ba027a-0a24-47d2-adf5-7c7fcf82e3be",
   "metadata": {},
   "outputs": [],
   "source": [
    "import pyaudio"
   ]
  },
  {
   "cell_type": "markdown",
   "id": "dc88b0d9-04cb-4ca0-bb3a-aee513ba4405",
   "metadata": {},
   "source": []
  },
  {
   "cell_type": "code",
   "execution_count": 5,
   "id": "b79e2d55-7b9a-479c-abf6-d34819744a2b",
   "metadata": {},
   "outputs": [
    {
     "name": "stdout",
     "output_type": "stream",
     "text": [
      "['Microsoft Sound Mapper - Input', '麥克風排列 (Realtek(R) Audio)', 'Microsoft Sound Mapper - Output', '耳機 (Realtek(R) Audio)', '喇叭 (Realtek(R) Audio)', '主要音效擷取驅動程式', '麥克風排列 (Realtek(R) Audio)', '主要音效驅動程式', '耳機 (Realtek(R) Audio)', '喇叭 (Realtek(R) Audio)', '耳機 (Realtek(R) Audio)', '喇叭 (Realtek(R) Audio)', '麥克風排列 (Realtek(R) Audio)', 'Headphones 1 (Realtek HD Audio 2nd output with SST)', 'Headphones 2 (Realtek HD Audio 2nd output with SST)', '電腦喇叭 (Realtek HD Audio 2nd output with SST)', 'Speakers 1 (Realtek HD Audio output with SST)', 'Speakers 2 (Realtek HD Audio output with SST)', '電腦喇叭 (Realtek HD Audio output with SST)', '立體聲混音 (Realtek HD Audio Stereo input)', '麥克風排列 (Realtek HD Audio Mic input)', 'VX2476 Series (ACX HD Audio Speaker)']\n"
     ]
    }
   ],
   "source": [
    "audio = pyaudio.PyAudio();\n",
    "result = []\n",
    "for i in range(audio.get_device_count()):\n",
    "    device_info = audio.get_device_info_by_index(i)\n",
    "    result.append(device_info.get(\"name\"))\n",
    "print(result)"
   ]
  },
  {
   "cell_type": "code",
   "execution_count": null,
   "id": "07991794-6fac-4848-aeee-df6272e8f8a3",
   "metadata": {},
   "outputs": [],
   "source": [
    "import time\n",
    "import sys\n",
    "\n",
    "import pyaudio\n",
    "\n",
    "DURATION = 2;  # seconds\n",
    "\n",
    "def callback(in_data, frame_count, time_info, status):\n",
    "    print(\"data received.....\");\n",
    "    #return (in_data, pyaudio.paContinue)\n",
    "\n",
    "p = pyaudio.PyAudio()\n",
    "stream = p.open(format=p.get_format_from_width(2),\n",
    "                channels=1 if sys.platform == 'darwin' else 2,\n",
    "                rate=44100,\n",
    "                input=True,\n",
    "                output=True,\n",
    "                stream_callback=callback)\n",
    "\n",
    "start = time.time()\n",
    "while stream.is_active() and (time.time() - start) < DURATION:\n",
    "    time.sleep(0.1)\n",
    "\n",
    "stream.close()\n",
    "p.terminate()"
   ]
  }
 ],
 "metadata": {
  "kernelspec": {
   "display_name": "Python 3 (ipykernel)",
   "language": "python",
   "name": "python3"
  },
  "language_info": {
   "codemirror_mode": {
    "name": "ipython",
    "version": 3
   },
   "file_extension": ".py",
   "mimetype": "text/x-python",
   "name": "python",
   "nbconvert_exporter": "python",
   "pygments_lexer": "ipython3",
   "version": "3.10.13"
  }
 },
 "nbformat": 4,
 "nbformat_minor": 5
}
