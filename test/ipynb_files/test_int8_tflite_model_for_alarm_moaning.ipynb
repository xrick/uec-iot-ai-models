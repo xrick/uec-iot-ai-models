version https://git-lfs.github.com/spec/v1
oid sha256:1c59531c183eba4420957afbd75ba8e9ad0280da56f62285ff11d61df660c9b0
size 28409
