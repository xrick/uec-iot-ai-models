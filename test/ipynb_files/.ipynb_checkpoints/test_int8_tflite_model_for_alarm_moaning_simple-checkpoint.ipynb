version https://git-lfs.github.com/spec/v1
oid sha256:98ecb8d95fa70dca7e4d43eb917a4a23d9ce09bd1240b58decc05e5891022b93
size 28559
