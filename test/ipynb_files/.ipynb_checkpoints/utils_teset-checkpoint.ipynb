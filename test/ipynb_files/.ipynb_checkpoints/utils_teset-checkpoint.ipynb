{
 "cells": [
  {
   "cell_type": "code",
   "execution_count": 2,
   "id": "db783bd7-b664-4255-a7fc-badc5b03935e",
   "metadata": {},
   "outputs": [
    {
     "ename": "ModuleNotFoundError",
     "evalue": "No module named 'blob'",
     "output_type": "error",
     "traceback": [
      "\u001b[1;31m---------------------------------------------------------------------------\u001b[0m",
      "\u001b[1;31mModuleNotFoundError\u001b[0m                       Traceback (most recent call last)",
      "Cell \u001b[1;32mIn[2], line 2\u001b[0m\n\u001b[0;32m      1\u001b[0m \u001b[38;5;28;01mimport\u001b[39;00m \u001b[38;5;21;01mwavio\u001b[39;00m\n\u001b[1;32m----> 2\u001b[0m \u001b[38;5;28;01mimport\u001b[39;00m \u001b[38;5;21;01mblob\u001b[39;00m\n",
      "\u001b[1;31mModuleNotFoundError\u001b[0m: No module named 'blob'"
     ]
    }
   ],
   "source": [
    "import wavio\n",
    "import blob"
   ]
  },
  {
   "cell_type": "code",
   "execution_count": null,
   "id": "3b505115-2624-431a-b128-b1e7220d82de",
   "metadata": {},
   "outputs": [],
   "source": [
    "def traverse_wav_folder(folder_path):\n",
    "    print('* {} -> {}'.format(src_path, esc50_dst_path))\n",
    "    esc50_dataset = {};\n",
    "    for fold in range(1, 6):\n",
    "        esc50_dataset['fold{}'.format(fold)] = {}\n",
    "        esc50_sounds = []\n",
    "        esc50_labels = []\n",
    "\n",
    "        for wav_file in sorted(glob.glob(os.path.join(src_path, '{}-*.wav'.format(fold)))):\n",
    "            sound = wavio.read(wav_file).data.T[0]\n",
    "            start = sound.nonzero()[0].min()\n",
    "            end = sound.nonzero()[0].max()\n",
    "            sound = sound[start: end + 1]  # Remove silent sections\n",
    "            label = int(os.path.splitext(wav_file)[0].split('-')[-1])\n",
    "            esc50_sounds.append(sound)\n",
    "            esc50_labels.append(label)\n",
    "\n",
    "        esc50_dataset['fold{}'.format(fold)]['sounds'] = esc50_sounds\n",
    "        esc50_dataset['fold{}'.format(fold)]['labels'] = esc50_labels\n",
    "\n",
    "    np.savez(esc50_dst_path, **esc50_dataset)"
   ]
  }
 ],
 "metadata": {
  "kernelspec": {
   "display_name": "Python 3 (ipykernel)",
   "language": "python",
   "name": "python3"
  },
  "language_info": {
   "codemirror_mode": {
    "name": "ipython",
    "version": 3
   },
   "file_extension": ".py",
   "mimetype": "text/x-python",
   "name": "python",
   "nbconvert_exporter": "python",
   "pygments_lexer": "ipython3",
   "version": "3.9.0"
  }
 },
 "nbformat": 4,
 "nbformat_minor": 5
}
