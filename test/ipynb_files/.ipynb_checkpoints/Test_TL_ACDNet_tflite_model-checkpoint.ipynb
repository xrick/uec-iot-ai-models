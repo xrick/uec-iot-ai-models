version https://git-lfs.github.com/spec/v1
oid sha256:e789d3fdf4cb7f9ce070588cd302bcef708da28e542f9c80f78ef2e48525d7bd
size 34846
