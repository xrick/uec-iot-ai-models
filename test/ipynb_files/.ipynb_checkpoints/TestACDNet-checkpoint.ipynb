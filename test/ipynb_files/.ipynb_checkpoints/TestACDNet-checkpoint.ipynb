{
 "cells": [
  {
   "cell_type": "markdown",
   "id": "34a69029-4fb8-4420-9be3-06ea3cf14f0d",
   "metadata": {},
   "source": [
    "## 測試項目\n",
    "1. 倒水聲(15)及馬桶沖水聲(18)\n",
    "2. 使用acdnet20_20khz_fold4 keras h5-format model\n",
    "3. export to cc file"
   ]
  },
  {
   "cell_type": "code",
   "execution_count": 1,
   "id": "a9f0a4a7-cc91-44ff-a761-5ec09ce97599",
   "metadata": {},
   "outputs": [],
   "source": [
    "import os\n",
    "import sys\n",
    "import datetime\n",
    "import shutil\n",
    "import numpy as np\n",
    "import tensorflow as tf\n",
    "from tensorflow import keras\n",
    "import zipfile\n",
    "import wavio\n",
    "from common import utils as U"
   ]
  },
  {
   "cell_type": "markdown",
   "id": "30027b0c-feb4-45ba-aac1-d14089a7516a",
   "metadata": {},
   "source": [
    "### Loading Keras Model"
   ]
  },
  {
   "cell_type": "code",
   "execution_count": 2,
   "id": "cff7e097-1237-4564-96dd-678ba95ffd08",
   "metadata": {},
   "outputs": [],
   "source": [
    "keras_model_path = \"./models/keras_h5/acdnet20_20khz_fold4.h5\"\n",
    "model = keras.models.load_model(keras_model_path)"
   ]
  },
  {
   "cell_type": "code",
   "execution_count": 3,
   "id": "ce8031ec-a85c-401f-a714-0579f2a43833",
   "metadata": {},
   "outputs": [
    {
     "name": "stdout",
     "output_type": "stream",
     "text": [
      "Model: \"model\"\n",
      "_________________________________________________________________\n",
      " Layer (type)                Output Shape              Param #   \n",
      "=================================================================\n",
      " input_1 (InputLayer)        [(None, 1, 30225, 1)]     0         \n",
      "                                                                 \n",
      " conv2d (Conv2D)             (None, 1, 15109, 4)       36        \n",
      "                                                                 \n",
      " batch_normalization (Batch  (None, 1, 15109, 4)       16        \n",
      " Normalization)                                                  \n",
      "                                                                 \n",
      " re_lu (ReLU)                (None, 1, 15109, 4)       0         \n",
      "                                                                 \n",
      " conv2d_1 (Conv2D)           (None, 1, 7553, 32)       640       \n",
      "                                                                 \n",
      " batch_normalization_1 (Bat  (None, 1, 7553, 32)       128       \n",
      " chNormalization)                                                \n",
      "                                                                 \n",
      " re_lu_1 (ReLU)              (None, 1, 7553, 32)       0         \n",
      "                                                                 \n",
      " max_pooling2d (MaxPooling2  (None, 1, 151, 32)        0         \n",
      " D)                                                              \n",
      "                                                                 \n",
      " permute (Permute)           (None, 32, 151, 1)        0         \n",
      "                                                                 \n",
      " conv2d_2 (Conv2D)           (None, 32, 151, 12)       108       \n",
      "                                                                 \n",
      " batch_normalization_2 (Bat  (None, 32, 151, 12)       48        \n",
      " chNormalization)                                                \n",
      "                                                                 \n",
      " re_lu_2 (ReLU)              (None, 32, 151, 12)       0         \n",
      "                                                                 \n",
      " max_pooling2d_1 (MaxPoolin  (None, 16, 75, 12)        0         \n",
      " g2D)                                                            \n",
      "                                                                 \n",
      " conv2d_3 (Conv2D)           (None, 16, 75, 12)        1296      \n",
      "                                                                 \n",
      " batch_normalization_3 (Bat  (None, 16, 75, 12)        48        \n",
      " chNormalization)                                                \n",
      "                                                                 \n",
      " re_lu_3 (ReLU)              (None, 16, 75, 12)        0         \n",
      "                                                                 \n",
      " conv2d_4 (Conv2D)           (None, 16, 75, 23)        2484      \n",
      "                                                                 \n",
      " batch_normalization_4 (Bat  (None, 16, 75, 23)        92        \n",
      " chNormalization)                                                \n",
      "                                                                 \n",
      " re_lu_4 (ReLU)              (None, 16, 75, 23)        0         \n",
      "                                                                 \n",
      " max_pooling2d_2 (MaxPoolin  (None, 8, 37, 23)         0         \n",
      " g2D)                                                            \n",
      "                                                                 \n",
      " conv2d_5 (Conv2D)           (None, 8, 37, 18)         3726      \n",
      "                                                                 \n",
      " batch_normalization_5 (Bat  (None, 8, 37, 18)         72        \n",
      " chNormalization)                                                \n",
      "                                                                 \n",
      " re_lu_5 (ReLU)              (None, 8, 37, 18)         0         \n",
      "                                                                 \n",
      " conv2d_6 (Conv2D)           (None, 8, 37, 38)         6156      \n",
      "                                                                 \n",
      " batch_normalization_6 (Bat  (None, 8, 37, 38)         152       \n",
      " chNormalization)                                                \n",
      "                                                                 \n",
      " re_lu_6 (ReLU)              (None, 8, 37, 38)         0         \n",
      "                                                                 \n",
      " max_pooling2d_3 (MaxPoolin  (None, 4, 18, 38)         0         \n",
      " g2D)                                                            \n",
      "                                                                 \n",
      " conv2d_7 (Conv2D)           (None, 4, 18, 43)         14706     \n",
      "                                                                 \n",
      " batch_normalization_7 (Bat  (None, 4, 18, 43)         172       \n",
      " chNormalization)                                                \n",
      "                                                                 \n",
      " re_lu_7 (ReLU)              (None, 4, 18, 43)         0         \n",
      "                                                                 \n",
      " conv2d_8 (Conv2D)           (None, 4, 18, 62)         23994     \n",
      "                                                                 \n",
      " batch_normalization_8 (Bat  (None, 4, 18, 62)         248       \n",
      " chNormalization)                                                \n",
      "                                                                 \n",
      " re_lu_8 (ReLU)              (None, 4, 18, 62)         0         \n",
      "                                                                 \n",
      " max_pooling2d_4 (MaxPoolin  (None, 2, 9, 62)          0         \n",
      " g2D)                                                            \n",
      "                                                                 \n",
      " conv2d_9 (Conv2D)           (None, 2, 9, 58)          32364     \n",
      "                                                                 \n",
      " batch_normalization_9 (Bat  (None, 2, 9, 58)          232       \n",
      " chNormalization)                                                \n",
      "                                                                 \n",
      " re_lu_9 (ReLU)              (None, 2, 9, 58)          0         \n",
      "                                                                 \n",
      " conv2d_10 (Conv2D)          (None, 2, 9, 77)          40194     \n",
      "                                                                 \n",
      " batch_normalization_10 (Ba  (None, 2, 9, 77)          308       \n",
      " tchNormalization)                                               \n",
      "                                                                 \n",
      " re_lu_10 (ReLU)             (None, 2, 9, 77)          0         \n",
      "                                                                 \n",
      " max_pooling2d_5 (MaxPoolin  (None, 1, 4, 77)          0         \n",
      " g2D)                                                            \n",
      "                                                                 \n",
      " dropout (Dropout)           (None, 1, 4, 77)          0         \n",
      "                                                                 \n",
      " conv2d_11 (Conv2D)          (None, 1, 4, 37)          2849      \n",
      "                                                                 \n",
      " batch_normalization_11 (Ba  (None, 1, 4, 37)          148       \n",
      " tchNormalization)                                               \n",
      "                                                                 \n",
      " re_lu_11 (ReLU)             (None, 1, 4, 37)          0         \n",
      "                                                                 \n",
      " average_pooling2d (Average  (None, 1, 1, 37)          0         \n",
      " Pooling2D)                                                      \n",
      "                                                                 \n",
      " flatten (Flatten)           (None, 37)                0         \n",
      "                                                                 \n",
      " dense (Dense)               (None, 50)                1900      \n",
      "                                                                 \n",
      " softmax (Softmax)           (None, 50)                0         \n",
      "                                                                 \n",
      "=================================================================\n",
      "Total params: 132117 (516.08 KB)\n",
      "Trainable params: 131285 (512.83 KB)\n",
      "Non-trainable params: 832 (3.25 KB)\n",
      "_________________________________________________________________\n"
     ]
    }
   ],
   "source": [
    "model.summary()"
   ]
  },
  {
   "cell_type": "markdown",
   "id": "622c2bc6-26c8-41a0-908e-0062f48168a1",
   "metadata": {},
   "source": [
    "### loading dataset from npz format\n",
    "1. ACDNet input length is 30225\n",
    "2. sr is 44100 and 20000\n",
    "3. need to convert 16K to 20000\n",
    "### ACDNet Config Setting\n",
    "#### Training Parameters\n",
    "1. opt.batchSize = 64;\n",
    "2. opt.weightDecay = 5e-4;\n",
    "3. opt.momentum = 0.9;\n",
    "4. opt.nEpochs = 2000;\n",
    "5. opt.LR = 0.1;\n",
    "6. opt.schedule = [0.3, 0.6, 0.9];\n",
    "7. opt.warmup = 10; \n",
    "#### Basic Net Configuration\n",
    "- nClasses = 50\n",
    "- nFolds = 5\n",
    "- splits = \\[i for in range(1, nFolds + 1)\\]\n",
    "- sr = 20000\n",
    "- inputLength = 30225\n",
    "<br>ngth = 30225;\n",
    "### How to convert 16K sound to 44.1K with python and sox\n",
    "\n",
    "if using sox the command is as following: <br />\n",
    "    sox old.wav -b 16 new.wav \n",
    "if using python you can do as following: <br />\n",
    "    import soundfile\n",
    "    \n",
    "data, samplerate = soundfile.read('old.wav\n",
    "    <br />)\n",
    "soundfile.write('new.wav', data, samplerate, subtype='PCM_1\n",
    "6')"
   ]
  },
  {
   "cell_type": "code",
   "execution_count": 4,
   "id": "95716d1b-691c-492d-aaf9-eb97d8a7ca48",
   "metadata": {},
   "outputs": [],
   "source": [
    "### convert to 16-bit\n",
    "# def convertAllFilesInDirectoryTo16Bit(directory):\n",
    "#     for file in os.listdir(directory):\n",
    "#          if(file.endswith('.wav')):\n",
    "#              nameSolo = file.rsplit('.', 1)[0]\n",
    "#              print(directory + nameSolo )\n",
    "#              data, samplerate = soundfile.read(directory + file)                \n",
    "\n",
    "#            soundfile.write('/Users/yournamehere/Desktop/folderwhereyouwanttosae/' + nameSolo + '16BIT.wav', data, samplerate, subtype='PCM_16')\n",
    "#             print(\"converting \" + file + \"to 16 - bit\")"
   ]
  },
  {
   "cell_type": "code",
   "execution_count": 5,
   "id": "25f80f8a-80aa-45ef-91be-663bbd655870",
   "metadata": {},
   "outputs": [],
   "source": [
    "def npz_headers(npz):\n",
    "    \"\"\"\n",
    "    Takes a path to an .npz file, which is a Zip archive of .npy files.\n",
    "    Generates a sequence of (name, shape, np.dtype).\n",
    "    \"\"\"\n",
    "    with zipfile.ZipFile(npz) as archive:\n",
    "        for name in archive.namelist():\n",
    "            if not name.endswith('.npy'):\n",
    "                continue\n",
    "\n",
    "            npy = archive.open(name)\n",
    "            version = np.lib.format.read_magic(npy)\n",
    "            shape, fortran, dtype = np.lib.format._read_array_header(npy, version)\n",
    "            yield name[:-4], shape, dtype"
   ]
  },
  {
   "cell_type": "code",
   "execution_count": 6,
   "id": "7a54d367-3e6d-475f-b9fe-b41b607310bc",
   "metadata": {},
   "outputs": [
    {
     "name": "stdout",
     "output_type": "stream",
     "text": [
      "[('fold1', (), dtype('O')), ('fold2', (), dtype('O')), ('fold3', (), dtype('O')), ('fold4', (), dtype('O')), ('fold5', (), dtype('O'))]\n"
     ]
    }
   ],
   "source": [
    "print(list(npz_headers(\"./datasets/esc50/wav44.npz\")))"
   ]
  },
  {
   "cell_type": "code",
   "execution_count": 7,
   "id": "148430ad-4052-4369-a22a-7deef77d8e6d",
   "metadata": {},
   "outputs": [
    {
     "data": {
      "text/plain": [
       "array([-1,  0,  0, ...,  0,  0, -1], dtype=int16)"
      ]
     },
     "execution_count": 7,
     "metadata": {},
     "output_type": "execute_result"
    }
   ],
   "source": [
    "data = np.load(\"./datasets/esc50/wav44.npz\", allow_pickle=True);\n",
    "# test_20_X = data['x'];\n",
    "# test_20_Y = data['y'];\n",
    "list(data.keys())\n",
    "data['fold1'].size\n",
    "data['fold1'].shape\n",
    "fold1_sounds_list = data['fold1'].item()['sounds']\n",
    "fold1_labels_list = data['fold1'].item()['labels']\n",
    "type(fold1_sounds_list)\n",
    "len(fold1_labels_list)\n",
    "fold1_sounds_ary = np.asarray(fold1_sounds_list,dtype=\"object\") #set dtype=\"ojbect\" is workable here\n",
    "fold1_sounds_ary[0]\n",
    "# data['fold1'].item()['labels']"
   ]
  },
  {
   "cell_type": "code",
   "execution_count": 8,
   "id": "a9c5280f-c5b8-4379-bc62-7edf700d165d",
   "metadata": {},
   "outputs": [
    {
     "ename": "PermissionError",
     "evalue": "[Errno 13] Permission denied: './datasets/esc50/test_44khz/'",
     "output_type": "error",
     "traceback": [
      "\u001b[1;31m---------------------------------------------------------------------------\u001b[0m",
      "\u001b[1;31mPermissionError\u001b[0m                           Traceback (most recent call last)",
      "Cell \u001b[1;32mIn[8], line 1\u001b[0m\n\u001b[1;32m----> 1\u001b[0m test_data \u001b[38;5;241m=\u001b[39m \u001b[43mnp\u001b[49m\u001b[38;5;241;43m.\u001b[39;49m\u001b[43mload\u001b[49m\u001b[43m(\u001b[49m\u001b[38;5;124;43m\"\u001b[39;49m\u001b[38;5;124;43m./datasets/esc50/test_44khz/\u001b[39;49m\u001b[38;5;124;43m\"\u001b[39;49m\u001b[43m,\u001b[49m\u001b[43m \u001b[49m\u001b[43mallow_pickle\u001b[49m\u001b[38;5;241;43m=\u001b[39;49m\u001b[38;5;28;43;01mTrue\u001b[39;49;00m\u001b[43m)\u001b[49m;\n\u001b[0;32m      2\u001b[0m \u001b[38;5;66;03m# test_20_X = data['x'];\u001b[39;00m\n\u001b[0;32m      3\u001b[0m \u001b[38;5;66;03m# test_20_Y = data['y'];\u001b[39;00m\n\u001b[0;32m      4\u001b[0m \u001b[38;5;28mlist\u001b[39m(data\u001b[38;5;241m.\u001b[39mkeys())\n",
      "File \u001b[1;32md:\\miniconda3\\envs\\tf2env\\lib\\site-packages\\numpy\\lib\\npyio.py:405\u001b[0m, in \u001b[0;36mload\u001b[1;34m(file, mmap_mode, allow_pickle, fix_imports, encoding, max_header_size)\u001b[0m\n\u001b[0;32m    403\u001b[0m     own_fid \u001b[38;5;241m=\u001b[39m \u001b[38;5;28;01mFalse\u001b[39;00m\n\u001b[0;32m    404\u001b[0m \u001b[38;5;28;01melse\u001b[39;00m:\n\u001b[1;32m--> 405\u001b[0m     fid \u001b[38;5;241m=\u001b[39m stack\u001b[38;5;241m.\u001b[39menter_context(\u001b[38;5;28;43mopen\u001b[39;49m\u001b[43m(\u001b[49m\u001b[43mos_fspath\u001b[49m\u001b[43m(\u001b[49m\u001b[43mfile\u001b[49m\u001b[43m)\u001b[49m\u001b[43m,\u001b[49m\u001b[43m \u001b[49m\u001b[38;5;124;43m\"\u001b[39;49m\u001b[38;5;124;43mrb\u001b[39;49m\u001b[38;5;124;43m\"\u001b[39;49m\u001b[43m)\u001b[49m)\n\u001b[0;32m    406\u001b[0m     own_fid \u001b[38;5;241m=\u001b[39m \u001b[38;5;28;01mTrue\u001b[39;00m\n\u001b[0;32m    408\u001b[0m \u001b[38;5;66;03m# Code to distinguish from NumPy binary files and pickles.\u001b[39;00m\n",
      "\u001b[1;31mPermissionError\u001b[0m: [Errno 13] Permission denied: './datasets/esc50/test_44khz/'"
     ]
    }
   ],
   "source": [
    "test_data = np.load(\"./datasets/esc50/test_44khz/\", allow_pickle=True);\n",
    "# test_20_X = data['x'];\n",
    "# test_20_Y = data['y'];\n",
    "list(data.keys())\n",
    "data['fold1'].size\n",
    "data['fold1'].shape\n",
    "fold1_sounds_list = data['fold1'].item()['sounds']\n",
    "fold1_labels_list = data['fold1'].item()['labels']\n",
    "type(fold1_sounds_list)\n",
    "len(fold1_labels_list)\n",
    "fold1_sounds_ary = np.asarray(fold1_sounds_list,dtype=\"object\") #set dtype=\"ojbect\" is workable here\n",
    "fold1_sounds_ary[0]"
   ]
  },
  {
   "cell_type": "markdown",
   "id": "91e9dcde-83a3-4b49-9603-27acdb123b72",
   "metadata": {},
   "source": [
    "### Read Test Wav File"
   ]
  },
  {
   "cell_type": "code",
   "execution_count": 9,
   "id": "06702eca-28ee-4af3-a0d4-3db6d1496f28",
   "metadata": {},
   "outputs": [],
   "source": [
    "test_sound_file = \"./test_sounds/toilet_flushing/flush-toilet-lid-down-68571.wav\"\n",
    "ec50_18_sound = \"./test_sounds/toilet_flushing/ec50_files/1-20736-A-18.wav\"\n",
    "\n",
    "sound = wavio.read(test_sound_file).data.T[0]\n",
    "start = sound.nonzero()[0].min()\n",
    "end = sound.nonzero()[0].max()\n",
    "sound = sound[start: end + 1]  # Remove silent sections\n",
    "label = 18 #int(os.path.splitext(test_sound_file)[0].split('-')[-1])\n",
    "\n",
    "ec50_sound1 =  wavio.read(ec50_18_sound).data.T[0]\n",
    "start_ec50 = ec50_sound1.nonzero()[0].min()\n",
    "end_ec50 = ec50_sound1.nonzero()[0].max()\n",
    "ec50_sound1 = ec50_sound1[start_ec50:end_ec50+1]\n",
    "ec50_18_label = 18"
   ]
  },
  {
   "cell_type": "code",
   "execution_count": 10,
   "id": "32ee0121-918b-4c85-8514-b82aceae4c29",
   "metadata": {},
   "outputs": [
    {
     "name": "stdout",
     "output_type": "stream",
     "text": [
      "[ 1 -2  2 ...  0  0  1]\n",
      "467132\n",
      "[1434 1648 1945 ... -809  523 -730]\n",
      "220500\n"
     ]
    }
   ],
   "source": [
    "print(sound)\n",
    "print(len(sound))\n",
    "print(ec50_sound1)\n",
    "print(len(ec50_sound1))"
   ]
  },
  {
   "cell_type": "code",
   "execution_count": 35,
   "id": "a8156e68-94c4-44b4-af29-166c3533301a",
   "metadata": {},
   "outputs": [],
   "source": [
    "_inputLen = 30225\n",
    "_nCrops = 6\n",
    "def preprocess_setup():\n",
    "    funcs = []\n",
    "    funcs += [U.padding( _inputLen// 2),\n",
    "              U.normalize(32768.0),\n",
    "              U.multi_crop(_inputLen, _nCrops)]\n",
    "\n",
    "    return funcs\n",
    "\n",
    "def preprocess(sound, funcs):\n",
    "    for f in funcs:\n",
    "        sound = f(sound)\n",
    "\n",
    "    return sound;"
   ]
  },
  {
   "cell_type": "code",
   "execution_count": 36,
   "id": "e9d59fc9-c11b-4027-8f53-8ae3b743f03d",
   "metadata": {},
   "outputs": [],
   "source": [
    "_funcs = preprocess_setup()"
   ]
  },
  {
   "cell_type": "code",
   "execution_count": 37,
   "id": "7a1652e1-5d4d-4268-8175-fc8f7c016e50",
   "metadata": {},
   "outputs": [
    {
     "ename": "ValueError",
     "evalue": "array is too big; `arr.size * arr.dtype.itemsize` is larger than the maximum possible size.",
     "output_type": "error",
     "traceback": [
      "\u001b[1;31m---------------------------------------------------------------------------\u001b[0m",
      "\u001b[1;31mValueError\u001b[0m                                Traceback (most recent call last)",
      "Cell \u001b[1;32mIn[37], line 1\u001b[0m\n\u001b[1;32m----> 1\u001b[0m sound \u001b[38;5;241m=\u001b[39m \u001b[43mpreprocess\u001b[49m\u001b[43m(\u001b[49m\u001b[43msound\u001b[49m\u001b[43m,\u001b[49m\u001b[43m \u001b[49m\u001b[43m_funcs\u001b[49m\u001b[43m)\u001b[49m\n",
      "Cell \u001b[1;32mIn[35], line 13\u001b[0m, in \u001b[0;36mpreprocess\u001b[1;34m(sound, funcs)\u001b[0m\n\u001b[0;32m     11\u001b[0m \u001b[38;5;28;01mdef\u001b[39;00m \u001b[38;5;21mpreprocess\u001b[39m(sound, funcs):\n\u001b[0;32m     12\u001b[0m     \u001b[38;5;28;01mfor\u001b[39;00m f \u001b[38;5;129;01min\u001b[39;00m funcs:\n\u001b[1;32m---> 13\u001b[0m         sound \u001b[38;5;241m=\u001b[39m \u001b[43mf\u001b[49m\u001b[43m(\u001b[49m\u001b[43msound\u001b[49m\u001b[43m)\u001b[49m\n\u001b[0;32m     15\u001b[0m     \u001b[38;5;28;01mreturn\u001b[39;00m sound\n",
      "File \u001b[1;32mD:\\work_test\\ACDNet_Test\\common\\utils.py:9\u001b[0m, in \u001b[0;36mpadding.<locals>.f\u001b[1;34m(sound)\u001b[0m\n\u001b[0;32m      8\u001b[0m \u001b[38;5;28;01mdef\u001b[39;00m \u001b[38;5;21mf\u001b[39m(sound):\n\u001b[1;32m----> 9\u001b[0m     \u001b[38;5;28;01mreturn\u001b[39;00m \u001b[43mnp\u001b[49m\u001b[38;5;241;43m.\u001b[39;49m\u001b[43mpad\u001b[49m\u001b[43m(\u001b[49m\u001b[43msound\u001b[49m\u001b[43m,\u001b[49m\u001b[43m \u001b[49m\u001b[43mpad\u001b[49m\u001b[43m,\u001b[49m\u001b[43m \u001b[49m\u001b[38;5;124;43m'\u001b[39;49m\u001b[38;5;124;43mconstant\u001b[39;49m\u001b[38;5;124;43m'\u001b[39;49m\u001b[43m)\u001b[49m\n",
      "File \u001b[1;32m<__array_function__ internals>:200\u001b[0m, in \u001b[0;36mpad\u001b[1;34m(*args, **kwargs)\u001b[0m\n",
      "File \u001b[1;32md:\\miniconda3\\envs\\tf2env\\lib\\site-packages\\numpy\\lib\\arraypad.py:794\u001b[0m, in \u001b[0;36mpad\u001b[1;34m(array, pad_width, mode, **kwargs)\u001b[0m\n\u001b[0;32m    789\u001b[0m stat_functions \u001b[38;5;241m=\u001b[39m {\u001b[38;5;124m\"\u001b[39m\u001b[38;5;124mmaximum\u001b[39m\u001b[38;5;124m\"\u001b[39m: np\u001b[38;5;241m.\u001b[39mamax, \u001b[38;5;124m\"\u001b[39m\u001b[38;5;124mminimum\u001b[39m\u001b[38;5;124m\"\u001b[39m: np\u001b[38;5;241m.\u001b[39mamin,\n\u001b[0;32m    790\u001b[0m                   \u001b[38;5;124m\"\u001b[39m\u001b[38;5;124mmean\u001b[39m\u001b[38;5;124m\"\u001b[39m: np\u001b[38;5;241m.\u001b[39mmean, \u001b[38;5;124m\"\u001b[39m\u001b[38;5;124mmedian\u001b[39m\u001b[38;5;124m\"\u001b[39m: np\u001b[38;5;241m.\u001b[39mmedian}\n\u001b[0;32m    792\u001b[0m \u001b[38;5;66;03m# Create array with final shape and original values\u001b[39;00m\n\u001b[0;32m    793\u001b[0m \u001b[38;5;66;03m# (padded area is undefined)\u001b[39;00m\n\u001b[1;32m--> 794\u001b[0m padded, original_area_slice \u001b[38;5;241m=\u001b[39m \u001b[43m_pad_simple\u001b[49m\u001b[43m(\u001b[49m\u001b[43marray\u001b[49m\u001b[43m,\u001b[49m\u001b[43m \u001b[49m\u001b[43mpad_width\u001b[49m\u001b[43m)\u001b[49m\n\u001b[0;32m    795\u001b[0m \u001b[38;5;66;03m# And prepare iteration over all dimensions\u001b[39;00m\n\u001b[0;32m    796\u001b[0m \u001b[38;5;66;03m# (zipping may be more readable than using enumerate)\u001b[39;00m\n\u001b[0;32m    797\u001b[0m axes \u001b[38;5;241m=\u001b[39m \u001b[38;5;28mrange\u001b[39m(padded\u001b[38;5;241m.\u001b[39mndim)\n",
      "File \u001b[1;32md:\\miniconda3\\envs\\tf2env\\lib\\site-packages\\numpy\\lib\\arraypad.py:114\u001b[0m, in \u001b[0;36m_pad_simple\u001b[1;34m(array, pad_width, fill_value)\u001b[0m\n\u001b[0;32m    109\u001b[0m new_shape \u001b[38;5;241m=\u001b[39m \u001b[38;5;28mtuple\u001b[39m(\n\u001b[0;32m    110\u001b[0m     left \u001b[38;5;241m+\u001b[39m size \u001b[38;5;241m+\u001b[39m right\n\u001b[0;32m    111\u001b[0m     \u001b[38;5;28;01mfor\u001b[39;00m size, (left, right) \u001b[38;5;129;01min\u001b[39;00m \u001b[38;5;28mzip\u001b[39m(array\u001b[38;5;241m.\u001b[39mshape, pad_width)\n\u001b[0;32m    112\u001b[0m )\n\u001b[0;32m    113\u001b[0m order \u001b[38;5;241m=\u001b[39m \u001b[38;5;124m'\u001b[39m\u001b[38;5;124mF\u001b[39m\u001b[38;5;124m'\u001b[39m \u001b[38;5;28;01mif\u001b[39;00m array\u001b[38;5;241m.\u001b[39mflags\u001b[38;5;241m.\u001b[39mfnc \u001b[38;5;28;01melse\u001b[39;00m \u001b[38;5;124m'\u001b[39m\u001b[38;5;124mC\u001b[39m\u001b[38;5;124m'\u001b[39m  \u001b[38;5;66;03m# Fortran and not also C-order\u001b[39;00m\n\u001b[1;32m--> 114\u001b[0m padded \u001b[38;5;241m=\u001b[39m \u001b[43mnp\u001b[49m\u001b[38;5;241;43m.\u001b[39;49m\u001b[43mempty\u001b[49m\u001b[43m(\u001b[49m\u001b[43mnew_shape\u001b[49m\u001b[43m,\u001b[49m\u001b[43m \u001b[49m\u001b[43mdtype\u001b[49m\u001b[38;5;241;43m=\u001b[39;49m\u001b[43marray\u001b[49m\u001b[38;5;241;43m.\u001b[39;49m\u001b[43mdtype\u001b[49m\u001b[43m,\u001b[49m\u001b[43m \u001b[49m\u001b[43morder\u001b[49m\u001b[38;5;241;43m=\u001b[39;49m\u001b[43morder\u001b[49m\u001b[43m)\u001b[49m\n\u001b[0;32m    116\u001b[0m \u001b[38;5;28;01mif\u001b[39;00m fill_value \u001b[38;5;129;01mis\u001b[39;00m \u001b[38;5;129;01mnot\u001b[39;00m \u001b[38;5;28;01mNone\u001b[39;00m:\n\u001b[0;32m    117\u001b[0m     padded\u001b[38;5;241m.\u001b[39mfill(fill_value)\n",
      "\u001b[1;31mValueError\u001b[0m: array is too big; `arr.size * arr.dtype.itemsize` is larger than the maximum possible size."
     ]
    }
   ],
   "source": [
    "sound = preprocess(sound, _funcs)"
   ]
  },
  {
   "cell_type": "code",
   "execution_count": 31,
   "id": "12e3b08b-bc1b-4dde-bda8-b212fc4352a1",
   "metadata": {},
   "outputs": [
    {
     "name": "stdout",
     "output_type": "stream",
     "text": [
      "(10, 1, 30225, 1)\n"
     ]
    }
   ],
   "source": [
    "print(sound.shape)"
   ]
  },
  {
   "cell_type": "code",
   "execution_count": 15,
   "id": "992df970-da8d-4c7a-ba72-3f97efe247fc",
   "metadata": {},
   "outputs": [
    {
     "name": "stdout",
     "output_type": "stream",
     "text": [
      "(10, 1, 30225, 1)\n"
     ]
    }
   ],
   "source": [
    "sound = np.expand_dims(sound, axis=1)\n",
    "sound = np.expand_dims(sound, axis=3)\n",
    "print(sound.shape)"
   ]
  },
  {
   "cell_type": "code",
   "execution_count": 27,
   "id": "780eb0f5-3acb-4070-8164-00bcf30593c9",
   "metadata": {},
   "outputs": [
    {
     "name": "stdout",
     "output_type": "stream",
     "text": [
      "<class 'numpy.ndarray'>\n",
      "(10, 50)\n",
      "max value:0.0944233313202858 and index is 19\n",
      "[0.01429683 0.01973213 0.06096708 0.01488105 0.01055669 0.01067765\n",
      " 0.00539606 0.01035632 0.00598663 0.00746061 0.00821741 0.01575299\n",
      " 0.00387039 0.00398408 0.00446692 0.02424019 0.0075449  0.02043411\n",
      " 0.04602816 0.09442333 0.00678634 0.03983502 0.01447995 0.0133396\n",
      " 0.02781055 0.01735046 0.00897249 0.0033093  0.07652918 0.06278949\n",
      " 0.01773822 0.00447612 0.00611844 0.03766908 0.02824607 0.02932074\n",
      " 0.01057659 0.01666032 0.01336543 0.03609875 0.01466191 0.01037799\n",
      " 0.00387617 0.01406603 0.01068579 0.01535874 0.00735426 0.01363882\n",
      " 0.0304396  0.01879515]\n",
      "max value:0.6246333718299866 and index is 18\n",
      "[7.9890713e-03 3.8701585e-03 7.6974113e-03 3.5915098e-03 3.5662581e-03\n",
      " 2.7691871e-03 3.5793013e-03 3.2686781e-02 2.7590583e-03 4.9294992e-03\n",
      " 1.5218394e-01 6.5829814e-03 8.0095470e-04 6.2212897e-03 3.8084278e-03\n",
      " 1.7339818e-03 6.0829316e-04 1.7410167e-03 6.2463337e-01 1.3246996e-02\n",
      " 4.2147213e-03 3.3158907e-03 3.3456844e-03 3.7090802e-03 1.5493501e-02\n",
      " 4.4470013e-04 8.6022587e-03 1.0428437e-02 2.3329805e-03 1.0605659e-03\n",
      " 9.7745622e-04 5.7282823e-04 2.0875619e-03 3.1734160e-03 4.0181074e-03\n",
      " 3.9872737e-03 7.7953651e-03 5.2873502e-03 3.2115583e-03 5.9158923e-03\n",
      " 5.0635630e-04 3.2660381e-03 1.0258616e-03 1.7794045e-03 6.5829186e-03\n",
      " 1.7041303e-03 1.5849659e-03 2.0949910e-03 1.4075034e-03 5.0737672e-03]\n",
      "max value:0.3494296967983246 and index is 18\n",
      "[0.02055327 0.03533291 0.00472722 0.00463295 0.01619183 0.05526844\n",
      " 0.00644805 0.02694915 0.0177542  0.04943035 0.1274981  0.01978653\n",
      " 0.00075565 0.01414843 0.06876441 0.00793218 0.00151832 0.00325115\n",
      " 0.3494297  0.00236041 0.00690644 0.01303981 0.00670106 0.00628998\n",
      " 0.01510867 0.00284484 0.00533449 0.0178894  0.0052916  0.00606162\n",
      " 0.00112186 0.00232933 0.00116586 0.00546361 0.00941192 0.0022853\n",
      " 0.01632702 0.00312444 0.00361278 0.00583858 0.00111586 0.00141537\n",
      " 0.00186886 0.00615085 0.00400235 0.00099338 0.00530306 0.00209344\n",
      " 0.00601941 0.00215561]\n",
      "max value:0.39356529712677 and index is 10\n",
      "[4.0439623e-03 7.7758525e-03 1.9391601e-03 1.6962746e-03 1.2493536e-03\n",
      " 8.4580742e-03 2.6535359e-03 8.3328076e-03 4.4862479e-03 7.0458711e-03\n",
      " 3.9356530e-01 3.3452380e-02 6.2348647e-04 5.5548386e-03 1.4067013e-02\n",
      " 1.3647620e-02 7.3026132e-04 1.3217600e-02 3.0121413e-01 1.4728749e-03\n",
      " 3.6787333e-03 1.4028794e-03 2.5513107e-02 8.0546932e-03 9.8923733e-03\n",
      " 7.8271590e-03 5.7414388e-03 1.1239701e-02 5.1622856e-03 5.7513085e-03\n",
      " 4.6852529e-03 1.8850631e-03 2.9007122e-03 5.4127616e-03 7.5575663e-03\n",
      " 9.5844857e-04 2.2541907e-02 2.2521364e-03 1.4205740e-02 1.1435148e-02\n",
      " 2.6528226e-04 1.1156367e-03 1.1575301e-03 1.8414062e-03 1.5240839e-03\n",
      " 2.9507853e-04 1.9312059e-03 2.8108835e-04 6.9700065e-03 1.2936725e-03]\n",
      "max value:0.42973950505256653 and index is 10\n",
      "[3.0403628e-03 2.5006898e-03 1.1522040e-03 3.1706304e-03 5.7972409e-04\n",
      " 2.5915112e-03 1.8848288e-03 7.9065710e-02 2.1264844e-03 1.1269798e-03\n",
      " 4.2973951e-01 5.7276092e-03 4.8602512e-03 8.0555165e-03 7.6319082e-03\n",
      " 5.9681684e-02 8.2708034e-04 1.2078435e-02 3.9891325e-02 8.6954556e-04\n",
      " 4.0459167e-03 1.4894448e-03 2.7265009e-03 2.6017062e-03 8.5941385e-03\n",
      " 2.5975164e-03 4.3191174e-03 1.1554265e-02 5.0024553e-03 3.5332337e-03\n",
      " 1.3569401e-03 1.5434686e-02 7.1735936e-03 1.8791294e-02 3.8910009e-02\n",
      " 7.5090271e-03 8.3952695e-02 6.4515844e-03 1.4069982e-02 6.9342732e-02\n",
      " 4.8893888e-04 7.4825706e-03 1.4516279e-03 1.5595810e-03 3.0929057e-04\n",
      " 9.9424517e-04 5.8759660e-03 1.2291395e-03 3.2543854e-03 1.2954207e-03]\n",
      "max value:0.14602990448474884 and index is 7\n",
      "[0.00406589 0.01285232 0.00540781 0.00879932 0.00299151 0.1351439\n",
      " 0.00467801 0.1460299  0.01989562 0.01092366 0.0691046  0.03280921\n",
      " 0.00351576 0.02236291 0.02655915 0.01156028 0.01668496 0.00748583\n",
      " 0.02023921 0.00191798 0.01509568 0.00444072 0.00307741 0.007121\n",
      " 0.00424158 0.00572901 0.00601322 0.04086358 0.01151258 0.00768776\n",
      " 0.00093612 0.01281348 0.00573405 0.02207003 0.02317519 0.03945564\n",
      " 0.08078726 0.00326662 0.00428263 0.00130443 0.00330023 0.01883009\n",
      " 0.04395323 0.03268819 0.00246048 0.00243366 0.02129178 0.00451041\n",
      " 0.00501825 0.00287778]\n",
      "max value:0.36420100927352905 and index is 7\n",
      "[5.7522156e-03 7.8067859e-03 5.2167540e-03 1.2006060e-02 1.9504614e-03\n",
      " 8.5700832e-02 6.1663459e-03 3.6420101e-01 2.3211811e-03 6.3475245e-03\n",
      " 1.3533234e-02 1.2116576e-02 4.9224868e-03 4.1839238e-02 1.6546907e-02\n",
      " 7.0261490e-03 9.3631484e-03 6.0334867e-03 8.5076913e-03 6.4629754e-03\n",
      " 1.8506037e-02 3.9439499e-03 2.5184150e-04 2.9760448e-03 1.3262763e-03\n",
      " 1.3263788e-03 9.6735973e-03 8.5576689e-03 2.2998836e-02 5.3304932e-03\n",
      " 1.3810998e-03 1.9436728e-02 4.1910163e-03 8.4547214e-03 1.0004924e-02\n",
      " 2.6382329e-02 6.3186064e-02 3.1271104e-03 1.0266551e-03 5.0703395e-04\n",
      " 7.6829799e-04 5.6066461e-02 6.9804132e-02 8.2083959e-03 1.4846410e-03\n",
      " 3.7327751e-03 1.2323484e-02 3.2303673e-03 7.0150597e-03 9.5662387e-04]\n",
      "max value:0.13671453297138214 and index is 42\n",
      "[0.00926734 0.02315698 0.00762314 0.01118872 0.00605282 0.05984588\n",
      " 0.03696435 0.07054165 0.0038453  0.0077949  0.00998106 0.02698646\n",
      " 0.00181089 0.06443911 0.04256206 0.00662184 0.01970694 0.0061078\n",
      " 0.01991759 0.00970931 0.00795035 0.00612357 0.00076014 0.01078463\n",
      " 0.00324166 0.00077147 0.04140436 0.02031258 0.0317637  0.00507413\n",
      " 0.00436751 0.00694946 0.00286783 0.00744554 0.01720528 0.08719141\n",
      " 0.03725265 0.01038833 0.00220546 0.00051886 0.00221288 0.04519055\n",
      " 0.13671453 0.0209917  0.01668903 0.00606648 0.00897305 0.00543275\n",
      " 0.00600961 0.00301633]\n",
      "max value:0.21345743536949158 and index is 5\n",
      "[0.00783292 0.01673184 0.00649465 0.01900712 0.0032549  0.21345744\n",
      " 0.02128754 0.11461841 0.00306976 0.01416174 0.00499664 0.02329668\n",
      " 0.00335863 0.03879941 0.02740373 0.0125766  0.03039833 0.00522846\n",
      " 0.00523166 0.0073085  0.01533458 0.00586036 0.00039402 0.0105551\n",
      " 0.00187278 0.00160404 0.01659915 0.00736889 0.07186425 0.0081942\n",
      " 0.00423331 0.00867174 0.00247735 0.00801821 0.01350052 0.03598418\n",
      " 0.04972139 0.00228794 0.00170032 0.00052669 0.00232499 0.03279807\n",
      " 0.06729417 0.02349268 0.00584051 0.00417525 0.00640684 0.00679348\n",
      " 0.00458886 0.00100114]\n",
      "max value:0.22698616981506348 and index is 28\n",
      "[0.04804796 0.04232307 0.00252761 0.05019616 0.00233664 0.0517655\n",
      " 0.00940165 0.03796486 0.00461232 0.0105935  0.00088418 0.01040063\n",
      " 0.00047923 0.00758865 0.01210573 0.00853133 0.00576114 0.00323776\n",
      " 0.00286147 0.00694187 0.01415651 0.02414955 0.00084575 0.11066329\n",
      " 0.01867377 0.00181669 0.04774443 0.00288374 0.22698617 0.0056309\n",
      " 0.01584153 0.00979724 0.00087717 0.01439516 0.00800938 0.01155248\n",
      " 0.03130307 0.01082377 0.00211686 0.00388719 0.00407458 0.01321553\n",
      " 0.01375306 0.01435992 0.00103177 0.00441585 0.01194734 0.00689189\n",
      " 0.04402482 0.00556935]\n"
     ]
    }
   ],
   "source": [
    "scores = model.predict(sound, batch_size=len(sound), verbose=0);\n",
    "print(type(scores))\n",
    "print(scores.shape)\n",
    "\n",
    "for res in scores:\n",
    "    max_value = res.max()\n",
    "    max_index = np.argmax(res)\n",
    "    print(f\"max value:{max_value} and index is {max_index}\")\n",
    "    print(res)"
   ]
  },
  {
   "cell_type": "code",
   "execution_count": null,
   "id": "7024bdc4-6093-4182-ab95-9f3688b6ff1a",
   "metadata": {},
   "outputs": [],
   "source": []
  }
 ],
 "metadata": {
  "kernelspec": {
   "display_name": "Python 3 (ipykernel)",
   "language": "python",
   "name": "python3"
  },
  "language_info": {
   "codemirror_mode": {
    "name": "ipython",
    "version": 3
   },
   "file_extension": ".py",
   "mimetype": "text/x-python",
   "name": "python",
   "nbconvert_exporter": "python",
   "pygments_lexer": "ipython3",
   "version": "3.9.0"
  }
 },
 "nbformat": 4,
 "nbformat_minor": 5
}
