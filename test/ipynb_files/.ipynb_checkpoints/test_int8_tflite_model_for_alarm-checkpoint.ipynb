version https://git-lfs.github.com/spec/v1
oid sha256:a574ce1bd6d1559041301fec143e9d1513bb471d8fa131b5cb81a0727e5e31e7
size 633888
