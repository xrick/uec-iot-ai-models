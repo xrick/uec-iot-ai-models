{
 "cells": [
  {
   "cell_type": "code",
   "execution_count": 3,
   "id": "db783bd7-b664-4255-a7fc-badc5b03935e",
   "metadata": {},
   "outputs": [],
   "source": [
    "import wavio\n",
    "import glob"
   ]
  },
  {
   "cell_type": "code",
   "execution_count": 4,
   "id": "3b505115-2624-431a-b128-b1e7220d82de",
   "metadata": {},
   "outputs": [],
   "source": [
    "def traverse_wav_folder(folder_path):\n",
    "    print('* {} -> {}'.format(src_path, esc50_dst_path))\n",
    "    esc50_dataset = {};\n",
    "    for fold in range(1, 6):\n",
    "        esc50_dataset['fold{}'.format(fold)] = {}\n",
    "        esc50_sounds = []\n",
    "        esc50_labels = []\n",
    "\n",
    "        for wav_file in sorted(glob.glob(os.path.join(src_path, '{}-*.wav'.format(fold)))):\n",
    "            sound = wavio.read(wav_file).data.T[0]\n",
    "            start = sound.nonzero()[0].min()\n",
    "            end = sound.nonzero()[0].max()\n",
    "            sound = sound[start: end + 1]  # Remove silent sections\n",
    "            label = int(os.path.splitext(wav_file)[0].split('-')[-1])\n",
    "            esc50_sounds.append(sound)\n",
    "            esc50_labels.append(label)\n",
    "\n",
    "        esc50_dataset['fold{}'.format(fold)]['sounds'] = esc50_sounds\n",
    "        esc50_dataset['fold{}'.format(fold)]['labels'] = esc50_labels\n",
    "\n",
    "    # np.savez(esc50_dst_path, **esc50_dataset)"
   ]
  },
  {
   "cell_type": "code",
   "execution_count": null,
   "id": "22688750-d2a1-4778-9ecd-f6d90c853a63",
   "metadata": {},
   "outputs": [],
   "source": [
    "#"
   ]
  }
 ],
 "metadata": {
  "kernelspec": {
   "display_name": "Python 3 (ipykernel)",
   "language": "python",
   "name": "python3"
  },
  "language_info": {
   "codemirror_mode": {
    "name": "ipython",
    "version": 3
   },
   "file_extension": ".py",
   "mimetype": "text/x-python",
   "name": "python",
   "nbconvert_exporter": "python",
   "pygments_lexer": "ipython3",
   "version": "3.9.0"
  }
 },
 "nbformat": 4,
 "nbformat_minor": 5
}
