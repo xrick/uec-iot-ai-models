version https://git-lfs.github.com/spec/v1
oid sha256:3cd089394bf170e79d40d7c878737c6d442c3283fb0b087ee91b66b07a9a6cab
size 2070
