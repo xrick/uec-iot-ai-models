{
 "cells": [
  {
   "cell_type": "code",
   "execution_count": 1,
   "id": "42243acc-d97c-42df-b035-029e5d005aa3",
   "metadata": {},
   "outputs": [],
   "source": [
    "import os\n",
    "import sys"
   ]
  },
  {
   "cell_type": "code",
   "execution_count": 4,
   "id": "a80b6abb-e23f-41c0-9357-07680f73d372",
   "metadata": {},
   "outputs": [],
   "source": [
    "from os import path\n",
    "from pydub import AudioSegment"
   ]
  },
  {
   "cell_type": "code",
   "execution_count": 5,
   "id": "c80cef32-a56e-4478-83b8-0bf22ada331d",
   "metadata": {},
   "outputs": [],
   "source": [
    "# !pip install pydub"
   ]
  },
  {
   "cell_type": "code",
   "execution_count": null,
   "id": "c74a395e-d736-4ac5-862f-886fcf49b21c",
   "metadata": {},
   "outputs": [],
   "source": [
    "def getMp3List(srcDir):\n",
    "    regex='.*\\.wav'\n",
    "    results = os.listdir(folderPath)\n",
    "    out_files = []\n",
    "    cnt_files = 0\n",
    "    for file in results:\n",
    "        if os.path.isdir(os.path.join(folderPath, file)):\n",
    "            out_files += get_recursive_files(os.path.join(folderPath, file), regex)\n",
    "        elif re.match(regex, file,  re.I):  # file.startswith(startExtension) or file.endswith(\".txt\") or file.endswith(endExtension):\n",
    "            out_files.append(os.path.join(folderPath, file))\n",
    "            cnt_files = cnt_files + 1\n",
    "    return out_files\n"
   ]
  },
  {
   "cell_type": "code",
   "execution_count": null,
   "id": "bad76d8a-8054-4704-a39e-d59a9e84f6e7",
   "metadata": {},
   "outputs": [],
   "source": [
    "def convert(mp3file=None, wavfile=None):\n",
    "    sound = AudioSegment.from_mp3(src)\n",
    "    sound.export(dst, format=\"wav\")"
   ]
  }
 ],
 "metadata": {
  "kernelspec": {
   "display_name": "Python 3 (ipykernel)",
   "language": "python",
   "name": "python3"
  },
  "language_info": {
   "codemirror_mode": {
    "name": "ipython",
    "version": 3
   },
   "file_extension": ".py",
   "mimetype": "text/x-python",
   "name": "python",
   "nbconvert_exporter": "python",
   "pygments_lexer": "ipython3",
   "version": "3.10.13"
  }
 },
 "nbformat": 4,
 "nbformat_minor": 5
}
