{
 "cells": [
  {
   "cell_type": "code",
   "execution_count": 4,
   "id": "77e03b58-609e-422d-b7f2-335a019cbabf",
   "metadata": {},
   "outputs": [],
   "source": [
    "import sys\n",
    "import os\n",
    "import subprocess\n",
    "\n",
    "import glob\n",
    "import numpy as np\n",
    "import wavio\n",
    "import re"
   ]
  },
  {
   "cell_type": "code",
   "execution_count": null,
   "id": "b5792a24-c33b-4dab-b25f-9a0de972821a",
   "metadata": {},
   "outputs": [],
   "source": []
  },
  {
   "cell_type": "code",
   "execution_count": 5,
   "id": "12049d18-ee23-41f4-a807-3c38c145b9a0",
   "metadata": {},
   "outputs": [],
   "source": [
    "def getFileList(srcDir,regex='.*\\.wav'):\n",
    "    # regex = '.*\\.mp3'\n",
    "    results = os.listdir(srcDir)\n",
    "    out_files = []\n",
    "    cnt_files = 0\n",
    "    for file in results:\n",
    "        if os.path.isdir(os.path.join(srcDir, file)):\n",
    "            out_files += getMp3List(os.path.join(srcDir, file))\n",
    "        elif re.match(regex, file,  re.I):  # file.startswith(startExtension) or file.endswith(\".txt\") or file.endswith(endExtension):\n",
    "            out_files.append(os.path.join(srcDir, file))\n",
    "            cnt_files = cnt_files + 1\n",
    "    return out_files"
   ]
  },
  {
   "cell_type": "code",
   "execution_count": null,
   "id": "b47e89f7-5fa4-4e8c-a203-ec273ef1e20c",
   "metadata": {},
   "outputs": [],
   "source": [
    "def Convert(src_wav, dest_wav, sr):\n",
    "    subprocess.call('ffmpeg -i {} -ac 1 -ar {} -loglevel error -y {}'.format(\n",
    "            src_wav, sr, dest_wav), shell=True);"
   ]
  },
  {
   "cell_type": "code",
   "execution_count": 8,
   "id": "d26528c0-6f7a-4cb9-bd7d-c4d30d7b9aea",
   "metadata": {},
   "outputs": [],
   "source": [
    "# print(getFileList(\"./forOneClassModel_alarm/alarm_negtive_44K/\"))\n",
    "src_wav_lst = getFileList(\"./forOneClassModel_alarm/alarm_negtive_44K/\");\n"
   ]
  },
  {
   "cell_type": "code",
   "execution_count": null,
   "id": "f5706bda-d8fe-44d6-aa25-350daacddcb7",
   "metadata": {},
   "outputs": [],
   "source": []
  }
 ],
 "metadata": {
  "kernelspec": {
   "display_name": "Python 3 (ipykernel)",
   "language": "python",
   "name": "python3"
  },
  "language_info": {
   "codemirror_mode": {
    "name": "ipython",
    "version": 3
   },
   "file_extension": ".py",
   "mimetype": "text/x-python",
   "name": "python",
   "nbconvert_exporter": "python",
   "pygments_lexer": "ipython3",
   "version": "3.10.13"
  }
 },
 "nbformat": 4,
 "nbformat_minor": 5
}
