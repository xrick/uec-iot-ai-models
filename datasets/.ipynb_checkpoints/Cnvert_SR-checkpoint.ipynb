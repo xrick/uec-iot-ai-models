version https://git-lfs.github.com/spec/v1
oid sha256:882aba384c1e2093cf6a8fb5279cf9e7dd3bb15ac422ffae0c46f5f497671589
size 2591
