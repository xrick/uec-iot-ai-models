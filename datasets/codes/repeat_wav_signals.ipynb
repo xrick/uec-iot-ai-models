{
 "cells": [
  {
   "cell_type": "code",
   "execution_count": 1,
   "id": "978ec25c-b70b-41b2-b5cb-0966a8c58a7b",
   "metadata": {},
   "outputs": [],
   "source": [
    "import sys\n",
    "import os\n",
    "import math\n",
    "import soundfile as sf\n",
    "import numpy as np\n",
    "import librosa"
   ]
  },
  {
   "cell_type": "code",
   "execution_count": 2,
   "id": "fef1f1e2-bbb9-49e2-ac66-61407039e7c4",
   "metadata": {},
   "outputs": [],
   "source": [
    "sys.path.append(\"../../\")"
   ]
  },
  {
   "cell_type": "code",
   "execution_count": 3,
   "id": "c599d4fa-8bfa-4be0-a1f6-b8077241f216",
   "metadata": {},
   "outputs": [],
   "source": [
    "from Libs.SharedLibs import getFileList"
   ]
  },
  {
   "cell_type": "code",
   "execution_count": 4,
   "id": "e81ace6d-28c9-4c75-b6aa-7bc37b3b2c31",
   "metadata": {},
   "outputs": [],
   "source": [
    "# target_path = \"../CurrentUse/wav_files/Single_Fold/train/positive/moaningtmp/\"\n",
    "# src_wav = \"../CurrentUse/wav_files/Single_Fold/train/positive/moaning_56_1.5sec/moaning_01_56.wav\"\n",
    "# wav_name = os.path.basename(src_wav)\n",
    "# save_path = os.path.join(target_path,wav_name)\n",
    "# print(f\"wav_name:{wav_name}\")\n",
    "# print(f\"save_path:{save_path}\")"
   ]
  },
  {
   "cell_type": "code",
   "execution_count": 5,
   "id": "fbc1a9fb-340f-4b61-aa25-1169468fcae1",
   "metadata": {},
   "outputs": [],
   "source": [
    "def repeatWavSig(wav_file, dest_path,wantedLenth=5.0,multiplier=5):\n",
    "    data, samplerate = sf.read(wav_file)\n",
    "    channels = len(data.shape)\n",
    "    length_s = len(data)/float(samplerate)\n",
    "    if(length_s < wantedLenth):\n",
    "        n = math.ceil(multiplier*samplerate/len(data))\n",
    "    if(channels == 2):\n",
    "        data = np.tile(data,(n,1))\n",
    "    else:\n",
    "        data = np.tile(data,n)\n",
    "    sf.write(dest_path, data, samplerate)\n",
    "    # now calculate stft for each channel if stereo"
   ]
  },
  {
   "cell_type": "code",
   "execution_count": 6,
   "id": "4505f112-ea29-42c5-862c-742cecdfc7b2",
   "metadata": {},
   "outputs": [],
   "source": [
    "def main():\n",
    "    src_dir = \"../CurrentUse/wav_files/src_wavs/positive/wail_and_moan/val_edited/\"\n",
    "    wav_lst = getFileList(src_dir);\n",
    "    save_dir = \"../CurrentUse/wav_files/src_wavs/positive/wail_and_moan/val_edited/5sec/\"\n",
    "    for wav in wav_lst:\n",
    "        wavname = os.path.basename(wav)\n",
    "        save_path = os.path.join(save_dir, wavname)\n",
    "        print(f\"processing {wavname}\")\n",
    "        repeatWavSig(wav, save_path)"
   ]
  },
  {
   "cell_type": "code",
   "execution_count": 7,
   "id": "054bae17-b8e0-48a3-b7e4-2df9fffdde15",
   "metadata": {},
   "outputs": [
    {
     "name": "stdout",
     "output_type": "stream",
     "text": [
      "processing moaning_09_G5T1_14_5_0_30_0_0_0_val3_56.wav\n",
      "processing moaning_37_345049_17_val_from_trainset_56.wav\n",
      "processing moaning_01_val_171758_56.wav\n",
      "processing moaning_03_404393_val4_56.wav\n",
      "processing moaning_40_434309_12_val_from_trainset_56.wav\n",
      "processing moaning_09_G5T1_14_5_0_30_0_0_0_val5_56.wav\n",
      "processing moaning_02_434309_val2_56.wav\n",
      "processing moaning_40_434309_5_val_from_trainset_56.wav\n",
      "processing moaning_03_404393_val5_56.wav\n",
      "processing moaning_40_434309_m15_val_from_trainset_56.wav\n",
      "processing moaning_05_340916_val2_56.wav\n",
      "processing moaning_06_221543_val3_56.wav\n",
      "processing moaning_02_434309_val4_56.wav\n",
      "processing moaning_06_221543_val1_56.wav\n",
      "processing moaning_38_384214_21_val_from_trainset_56.wav\n",
      "processing moaning_03_404393_val8_56.wav\n",
      "processing moaning_02_434309_val3_56.wav\n",
      "processing moaning_08_ANLG_14_2_0_20_0_0_0_val1_56.wav\n",
      "processing moaning_29_182014_6_val_from_trainset_56.wav\n",
      "processing moaning_30_182015_6_val_from_trainset_56.wav\n",
      "processing moaning_04_347906_val1_56.wav\n",
      "processing moaning_09_G5T1_14_5_0_30_0_0_0_val1_56.wav\n",
      "processing moaning_37_345049_m12_val_from_trainset_56.wav\n",
      "processing moaning_07_59560_val1_56.wav\n",
      "processing moaning_03_404393_val3_56.wav\n",
      "processing moaning_09_G5T1_14_5_0_30_0_0_0_val2_56.wav\n",
      "processing moaning_02_434309_val6_56.wav\n",
      "processing moaning_02_434309_val5_56.wav\n",
      "processing moaning_03_404393_val2_56.wav\n",
      "processing moaning_28_m_2_180312_val_from_trainset_56.wav\n",
      "processing moaning_39_396898_1_val_from_trainset_56.wav\n",
      "processing moaning_39_396898_6_val_from_trainset_56.wav\n",
      "processing moaning_06_221543_val4_56.wav\n",
      "processing moaning_38_384214_19_val_from_trainset_56.wav\n",
      "processing moaning_05_340916_val1_56.wav\n",
      "processing moaning_02_434309_val1_56.wav\n",
      "processing moaning_03_404393_val7_56.wav\n",
      "processing moaning_40_434309_2_val_from_trainset_56.wav\n",
      "processing moaning_06_221543_val2_56.wav\n",
      "processing moaning_08_ANLG_14_2_0_20_0_0_0_val2_56.wav\n",
      "processing moaning_09_G5T1_14_5_0_30_0_0_0_val4_56.wav\n",
      "processing moaning_03_404393_val6_56.wav\n",
      "processing moaning_03_404393_val1_56.wav\n"
     ]
    }
   ],
   "source": [
    "main()"
   ]
  },
  {
   "cell_type": "code",
   "execution_count": null,
   "id": "2a1215f0-c474-4d3f-a5ca-48cd1e7f36b2",
   "metadata": {},
   "outputs": [],
   "source": []
  }
 ],
 "metadata": {
  "kernelspec": {
   "display_name": "Python 3 (ipykernel)",
   "language": "python",
   "name": "python3"
  },
  "language_info": {
   "codemirror_mode": {
    "name": "ipython",
    "version": 3
   },
   "file_extension": ".py",
   "mimetype": "text/x-python",
   "name": "python",
   "nbconvert_exporter": "python",
   "pygments_lexer": "ipython3",
   "version": "3.10.12"
  }
 },
 "nbformat": 4,
 "nbformat_minor": 5
}
