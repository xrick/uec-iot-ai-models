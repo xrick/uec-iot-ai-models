version https://git-lfs.github.com/spec/v1
oid sha256:a919433ce32af5ecfadcb4c68c8f7789783308f7dfb2a0c2b7246a2e35acce73
size 24189
