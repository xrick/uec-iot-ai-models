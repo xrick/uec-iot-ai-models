version https://git-lfs.github.com/spec/v1
oid sha256:7425ba6010afc8210aa249cecc12cdca5f992b90dd49d02d01ecbc10c2fc98d9
size 71403
