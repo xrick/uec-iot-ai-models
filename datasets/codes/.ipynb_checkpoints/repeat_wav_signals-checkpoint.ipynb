{
 "cells": [
  {
   "cell_type": "code",
   "execution_count": 18,
   "id": "978ec25c-b70b-41b2-b5cb-0966a8c58a7b",
   "metadata": {},
   "outputs": [],
   "source": [
    "import sys\n",
    "import os\n",
    "import math\n",
    "import soundfile as sf\n",
    "import numpy as np\n",
    "import librosa\n",
    "from pydub import AudioSegment"
   ]
  },
  {
   "cell_type": "code",
   "execution_count": 8,
   "id": "fef1f1e2-bbb9-49e2-ac66-61407039e7c4",
   "metadata": {},
   "outputs": [],
   "source": [
    "sys.path.append(\"../../\")"
   ]
  },
  {
   "cell_type": "code",
   "execution_count": 9,
   "id": "c599d4fa-8bfa-4be0-a1f6-b8077241f216",
   "metadata": {},
   "outputs": [],
   "source": [
    "from Libs.SharedLibs import getFileList"
   ]
  },
  {
   "cell_type": "code",
   "execution_count": 10,
   "id": "e81ace6d-28c9-4c75-b6aa-7bc37b3b2c31",
   "metadata": {},
   "outputs": [],
   "source": [
    "# target_path = \"../CurrentUse/wav_files/Single_Fold/train/positive/moaningtmp/\"\n",
    "# src_wav = \"../CurrentUse/wav_files/Single_Fold/train/positive/moaning_56_1.5sec/moaning_01_56.wav\"\n",
    "# wav_name = os.path.basename(src_wav)\n",
    "# save_path = os.path.join(target_path,wav_name)\n",
    "# print(f\"wav_name:{wav_name}\")\n",
    "# print(f\"save_path:{save_path}\")"
   ]
  },
  {
   "cell_type": "code",
   "execution_count": 14,
   "id": "ee16bf34-d526-4f2a-b057-f5a08bb4e15f",
   "metadata": {},
   "outputs": [],
   "source": [
    "def padding(wav_file = None, padlen=30225):\n",
    "    sound, _ = sf.read(wav_file)\n",
    "    return np.pad(sound, padlen//2, 'constant')"
   ]
  },
  {
   "cell_type": "code",
   "execution_count": null,
   "id": "44847097-a511-4f10-80c1-8c5772196e92",
   "metadata": {},
   "outputs": [],
   "source": [
    "def padding2(src_wav, dest_wav, padlen):\n",
    "    pad_ms = padlen*1000  # milliseconds of silence needed\n",
    "    silence = AudioSegment.silent(duration=pad_ms)\n",
    "    audio = AudioSegment.from_wav(src_wav)\n",
    "    padded = audio + silence  # Adding silence after the audio\n",
    "    padded.export(dest_wav, format='wav')"
   ]
  },
  {
   "cell_type": "code",
   "execution_count": 15,
   "id": "fbc1a9fb-340f-4b61-aa25-1169468fcae1",
   "metadata": {},
   "outputs": [],
   "source": [
    "def repeatWavSig(wav_file, dest_path,wantedLenth=5.0,multiplier=4):\n",
    "    data, samplerate = sf.read(wav_file)\n",
    "    channels = len(data.shape)\n",
    "    length_s = len(data)/float(samplerate)\n",
    "    if(length_s < wantedLenth):\n",
    "        n = math.ceil(multiplier*samplerate/len(data))\n",
    "    if(channels == 2):\n",
    "        data = np.tile(data,(n,1))\n",
    "    else:\n",
    "        data = np.tile(data,n)\n",
    "    sf.write(dest_path, data, samplerate)\n",
    "    # now calculate stft for each channel if stereo"
   ]
  },
  {
   "cell_type": "code",
   "execution_count": 16,
   "id": "4505f112-ea29-42c5-862c-742cecdfc7b2",
   "metadata": {},
   "outputs": [],
   "source": [
    "def main():\n",
    "    src_wav = \"../CurrentUse/wav_files/src_wavs/positive/wail_and_moan/vivae_pain_20K/full_set/S01_pain_low_01.wav\"\n",
    "    dest_wav = \"../CurrentUse/wav_files/src_wavs/positive/wail_and_moan/vivae_pain_20K_1.5Sec/full_set/S01_pain_low_01.wav\"\n",
    "    data = padding(src_wav);\n",
    "    sf.write(dest_wav, data, 20000)\n",
    "    # src_dir = \"../CurrentUse/wav_files/src_wavs/positive/wail_and_moan/val_edited/\"\n",
    "    # wav_lst = getFileList(src_dir);\n",
    "    # save_dir = \"../CurrentUse/wav_files/src_wavs/positive/wail_and_moan/val_edited/5sec/\"\n",
    "    # for wav in wav_lst:\n",
    "    #     wavname = os.path.basename(wav)\n",
    "    #     save_path = os.path.join(save_dir, wavname)\n",
    "    #     print(f\"processing {wavname}\")\n",
    "    #     repeatWavSig(wav, save_path)"
   ]
  },
  {
   "cell_type": "code",
   "execution_count": 17,
   "id": "054bae17-b8e0-48a3-b7e4-2df9fffdde15",
   "metadata": {},
   "outputs": [],
   "source": [
    "main()"
   ]
  },
  {
   "cell_type": "code",
   "execution_count": null,
   "id": "2a1215f0-c474-4d3f-a5ca-48cd1e7f36b2",
   "metadata": {},
   "outputs": [],
   "source": []
  }
 ],
 "metadata": {
  "kernelspec": {
   "display_name": "Python 3 (ipykernel)",
   "language": "python",
   "name": "python3"
  },
  "language_info": {
   "codemirror_mode": {
    "name": "ipython",
    "version": 3
   },
   "file_extension": ".py",
   "mimetype": "text/x-python",
   "name": "python",
   "nbconvert_exporter": "python",
   "pygments_lexer": "ipython3",
   "version": "3.10.12"
  }
 },
 "nbformat": 4,
 "nbformat_minor": 5
}
