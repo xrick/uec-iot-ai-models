version https://git-lfs.github.com/spec/v1
oid sha256:913d5fc5b2df962933ff99f3f80d5cec4a067c1489215eb59fd85867420850a7
size 1873693
