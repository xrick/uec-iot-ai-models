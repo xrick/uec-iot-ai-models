version https://git-lfs.github.com/spec/v1
oid sha256:30116969df271f98a298ab6884cfd2b25dda48c5d20eb2f1e8fe385a23818b73
size 3416591
