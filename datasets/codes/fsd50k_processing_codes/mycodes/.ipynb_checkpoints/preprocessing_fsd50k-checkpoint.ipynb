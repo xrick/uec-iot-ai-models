version https://git-lfs.github.com/spec/v1
oid sha256:38a23bc5238d4214529b6d546ab1a1ab6168182ccf2f2130be569e62190b8e9c
size 2430840
