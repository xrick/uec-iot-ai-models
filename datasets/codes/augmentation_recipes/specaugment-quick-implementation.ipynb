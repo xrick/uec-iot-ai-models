version https://git-lfs.github.com/spec/v1
oid sha256:9d5e983060a651434c2df0a3232f3740fa5ea322f5ac584d384dff162b4eb7ce
size 102244
