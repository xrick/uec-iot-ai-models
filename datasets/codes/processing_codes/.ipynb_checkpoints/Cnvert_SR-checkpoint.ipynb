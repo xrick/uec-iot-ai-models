version https://git-lfs.github.com/spec/v1
oid sha256:f522ff2ffb5575cd858c71fd78f96043dbbc95ae22d29b2f7f0c4a95845b36b5
size 4144
