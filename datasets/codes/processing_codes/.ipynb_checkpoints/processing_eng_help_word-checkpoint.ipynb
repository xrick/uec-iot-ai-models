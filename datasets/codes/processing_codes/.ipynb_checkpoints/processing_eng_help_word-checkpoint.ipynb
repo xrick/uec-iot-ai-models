{
 "cells": [
  {
   "cell_type": "code",
   "execution_count": 1,
   "id": "2a614774-c3f3-434a-8cf8-ab074c99bd7b",
   "metadata": {},
   "outputs": [],
   "source": [
    "import numpy as np;\n",
    "import sys;\n",
    "import os;\n",
    "import glob;\n",
    "import random;\n",
    "import wavio;\n",
    "from random import shuffle;"
   ]
  },
  {
   "cell_type": "markdown",
   "id": "1e8d8e22-4c0a-4020-9ed9-97e614cbdd8f",
   "metadata": {},
   "source": [
    "## putting speech signal in the head and extending clip to 1.5 Sec"
   ]
  },
  {
   "cell_type": "code",
   "execution_count": null,
   "id": "4612814c-50c4-4f04-9f61-ac1c96f558b4",
   "metadata": {},
   "outputs": [],
   "source": []
  },
  {
   "cell_type": "code",
   "execution_count": null,
   "id": "1c95dfac-e106-4d32-a472-83fae410e6c1",
   "metadata": {},
   "outputs": [],
   "source": []
  },
  {
   "cell_type": "markdown",
   "id": "3dacfa94-c95f-4754-a264-0332711383a8",
   "metadata": {},
   "source": [
    "## putting speech signal in the middle and extending clip to 1.5 Sec"
   ]
  },
  {
   "cell_type": "code",
   "execution_count": null,
   "id": "cece0e31-d0a9-4087-98b2-f1cf6b6f906c",
   "metadata": {},
   "outputs": [],
   "source": []
  },
  {
   "cell_type": "code",
   "execution_count": null,
   "id": "042463e0-d107-4ce5-80e2-638318d8a2d9",
   "metadata": {},
   "outputs": [],
   "source": []
  },
  {
   "cell_type": "markdown",
   "id": "c4d4805d-7bdd-441c-8ccc-906c22224795",
   "metadata": {},
   "source": [
    "## putting speech signal in the end and extending clip to 1.5 Sec"
   ]
  },
  {
   "cell_type": "code",
   "execution_count": null,
   "id": "e0581c50-15b5-4ece-9655-ab53617a9069",
   "metadata": {},
   "outputs": [],
   "source": []
  },
  {
   "cell_type": "code",
   "execution_count": null,
   "id": "ffd512e0-ade9-4cd6-92e6-c80491c67799",
   "metadata": {},
   "outputs": [],
   "source": []
  },
  {
   "cell_type": "markdown",
   "id": "01d30a21-6347-4e9a-a0b6-42aae7d8f068",
   "metadata": {},
   "source": [
    "## mix with white noises"
   ]
  },
  {
   "cell_type": "code",
   "execution_count": null,
   "id": "cf04c6ca-0079-4b40-8c4c-6eeb88ec93a6",
   "metadata": {},
   "outputs": [],
   "source": []
  },
  {
   "cell_type": "code",
   "execution_count": null,
   "id": "174642d2-a367-47fb-9b9f-d4e35ac7e5bb",
   "metadata": {},
   "outputs": [],
   "source": []
  },
  {
   "cell_type": "code",
   "execution_count": null,
   "id": "3ec73531-8287-48d6-86d9-609869952588",
   "metadata": {},
   "outputs": [],
   "source": []
  }
 ],
 "metadata": {
  "kernelspec": {
   "display_name": "Python 3 (ipykernel)",
   "language": "python",
   "name": "python3"
  },
  "language_info": {
   "codemirror_mode": {
    "name": "ipython",
    "version": 3
   },
   "file_extension": ".py",
   "mimetype": "text/x-python",
   "name": "python",
   "nbconvert_exporter": "python",
   "pygments_lexer": "ipython3",
   "version": "3.10.12"
  }
 },
 "nbformat": 4,
 "nbformat_minor": 5
}
