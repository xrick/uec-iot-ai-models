{
 "cells": [
  {
   "cell_type": "code",
   "execution_count": 1,
   "id": "2a614774-c3f3-434a-8cf8-ab074c99bd7b",
   "metadata": {},
   "outputs": [],
   "source": [
    "import numpy as np;\n",
    "import sys;\n",
    "import os;\n",
    "import glob;\n",
    "import random;\n",
    "import wavio;\n",
    "import copy;\n",
    "from random import shuffle;"
   ]
  },
  {
   "cell_type": "code",
   "execution_count": 12,
   "id": "7ff1f44c-ea5d-4167-8e9e-6a52c9d668a9",
   "metadata": {},
   "outputs": [],
   "source": [
    "import soundfile as sf"
   ]
  },
  {
   "cell_type": "code",
   "execution_count": 2,
   "id": "409de7a9-9c75-49bd-9cc2-1238a3e6d357",
   "metadata": {},
   "outputs": [],
   "source": [
    "sys.path.append(\"../../../Libs/\")\n",
    "sys.path.append(\"../../../src/SharedLibs/\")"
   ]
  },
  {
   "cell_type": "code",
   "execution_count": 3,
   "id": "48193274-75f1-4573-ab68-a12f6dfce7bc",
   "metadata": {},
   "outputs": [],
   "source": [
    "from SharedLibs import getFileList"
   ]
  },
  {
   "cell_type": "markdown",
   "id": "a3f2e904-ee23-4e0a-ae70-f8c14ee5f4a7",
   "metadata": {},
   "source": [
    "### Shared Data"
   ]
  },
  {
   "cell_type": "code",
   "execution_count": 20,
   "id": "472521f8-afac-4efe-851c-6b48cae07173",
   "metadata": {},
   "outputs": [],
   "source": [
    "sampling_rate = 20000;\n",
    "desired_wav_len = int(np.floor(1.5 * sampling_rate));\n",
    "clear_clip_file = \"../../../datasets/CurrentUse/mixed_sounds/clear_clips/clear_clip.wav\" \n",
    "one_half_sec_wav_name_fmt = \"{}_{}.wav\";\n",
    "src_eng_help_dir = \"../../CurrentUse/wav_files/src_wavs/positive/help/help_english_71/s1_processed_clear_clips/\";\n",
    "head_clip_save_dir = \"../../CurrentUse/wav_files/src_wavs/positive/help/help_english_71/s2_processed_1.5sec/head/\";\n",
    "middle_clip_save_dir = \"../../CurrentUse/wav_files/src_wavs/positive/help/help_english_71/s2_processed_1.5sec/middle/\";\n",
    "tail_clip_save_dir = \"../../CurrentUse/wav_files/src_wavs/positive/help/help_english_71/s2_processed_1.5sec/tail/\";\n",
    "raw_eng_help_wav_list = getFileList(raw_eng_help_dir);\n",
    "clear_clip = wavio.read(clear_clip_file).data.T[0];"
   ]
  },
  {
   "cell_type": "code",
   "execution_count": 10,
   "id": "c8914406-a8cb-4839-b82b-be77a2cf9cf0",
   "metadata": {},
   "outputs": [
    {
     "name": "stdout",
     "output_type": "stream",
     "text": [
      "man_help_048_71\n"
     ]
    }
   ],
   "source": [
    "print(os.path.basename(raw_eng_help_wav_list[0])[:-4])\n",
    "# print(len(clear_clip))\n",
    "# test_data = wavio.read(raw_eng_help_wav_list[0]).data.T[0];\n",
    "# print(f\"len of test_data:{len(test_data)}, shape:{test_data.shape}\");\n",
    "# res_data = np.append(test_data, clear_clip);\n",
    "# print(f\"len of res_data:{len(res_data)}, shape:{res_data.shape}\");\n",
    "# print(f\"count of raw english help wav files:{len(raw_eng_help_wav_list)}\");\n",
    "# print(len([i for i in clear_clip]))\n",
    "# for i in raw_eng_help_wav_list:\n",
    "#     print(i)"
   ]
  },
  {
   "cell_type": "markdown",
   "id": "1e8d8e22-4c0a-4020-9ed9-97e614cbdd8f",
   "metadata": {},
   "source": [
    "## putting speech signal in the head and extending clip to 1.5 Sec"
   ]
  },
  {
   "cell_type": "code",
   "execution_count": 24,
   "id": "4612814c-50c4-4f04-9f61-ac1c96f558b4",
   "metadata": {},
   "outputs": [],
   "source": [
    "def extend_at_head_main():\n",
    "    len_of_clear_clip = len(clear_clip);\n",
    "    counter = 0;\n",
    "    for w in raw_eng_help_wav_list:\n",
    "        tmp_data = wavio.read(w).data.T[0];\n",
    "        len_data = len(tmp_data);\n",
    "        result = None;\n",
    "        file_name = one_half_sec_wav_name_fmt.format(os.path.basename(w)[:-4],\"head\");\n",
    "        save_full_name = os.path.join(head_clip_save_dir, file_name)\n",
    "        # print(save_full_name)\n",
    "        if len_data < desired_wav_len:\n",
    "            result = np.append(tmp_data, clear_clip[:desired_wav_len-len_data]);\n",
    "        elif len_data > desired_wav_len:\n",
    "            result = tmp_data[:desired_wav_len];\n",
    "        else:\n",
    "            result = tmp_data;\n",
    "        sf.write(save_full_name, result, sampling_rate);\n",
    "        counter += 1;\n",
    "        print(f\"{counter}:writing wav file to {save_full_name}\");"
   ]
  },
  {
   "cell_type": "code",
   "execution_count": 25,
   "id": "1c95dfac-e106-4d32-a472-83fae410e6c1",
   "metadata": {},
   "outputs": [
    {
     "name": "stdout",
     "output_type": "stream",
     "text": [
      "1:writing wav file to ../../CurrentUse/wav_files/src_wavs/positive/help/help_english_71/s2_processed_1.5sec/head/man_help_048_71_head.wav\n",
      "2:writing wav file to ../../CurrentUse/wav_files/src_wavs/positive/help/help_english_71/s2_processed_1.5sec/head/man_help_036_71_head.wav\n",
      "3:writing wav file to ../../CurrentUse/wav_files/src_wavs/positive/help/help_english_71/s2_processed_1.5sec/head/man_help_021_71_head.wav\n",
      "4:writing wav file to ../../CurrentUse/wav_files/src_wavs/positive/help/help_english_71/s2_processed_1.5sec/head/man_help_029_71_head.wav\n",
      "5:writing wav file to ../../CurrentUse/wav_files/src_wavs/positive/help/help_english_71/s2_processed_1.5sec/head/man_help_054_71_head.wav\n",
      "6:writing wav file to ../../CurrentUse/wav_files/src_wavs/positive/help/help_english_71/s2_processed_1.5sec/head/man_help_025_71_head.wav\n",
      "7:writing wav file to ../../CurrentUse/wav_files/src_wavs/positive/help/help_english_71/s2_processed_1.5sec/head/man_help_016_71_head.wav\n",
      "8:writing wav file to ../../CurrentUse/wav_files/src_wavs/positive/help/help_english_71/s2_processed_1.5sec/head/man_help_053_71_head.wav\n",
      "9:writing wav file to ../../CurrentUse/wav_files/src_wavs/positive/help/help_english_71/s2_processed_1.5sec/head/man_help_039_71_head.wav\n",
      "10:writing wav file to ../../CurrentUse/wav_files/src_wavs/positive/help/help_english_71/s2_processed_1.5sec/head/man_help_002_71_head.wav\n",
      "11:writing wav file to ../../CurrentUse/wav_files/src_wavs/positive/help/help_english_71/s2_processed_1.5sec/head/man_help_028_71_head.wav\n",
      "12:writing wav file to ../../CurrentUse/wav_files/src_wavs/positive/help/help_english_71/s2_processed_1.5sec/head/man_help_015_71_head.wav\n",
      "13:writing wav file to ../../CurrentUse/wav_files/src_wavs/positive/help/help_english_71/s2_processed_1.5sec/head/man_help_022_71_head.wav\n",
      "14:writing wav file to ../../CurrentUse/wav_files/src_wavs/positive/help/help_english_71/s2_processed_1.5sec/head/man_help_007_71_head.wav\n",
      "15:writing wav file to ../../CurrentUse/wav_files/src_wavs/positive/help/help_english_71/s2_processed_1.5sec/head/man_help_005_71_head.wav\n",
      "16:writing wav file to ../../CurrentUse/wav_files/src_wavs/positive/help/help_english_71/s2_processed_1.5sec/head/man_help_046_71_head.wav\n",
      "17:writing wav file to ../../CurrentUse/wav_files/src_wavs/positive/help/help_english_71/s2_processed_1.5sec/head/man_help_038_71_head.wav\n",
      "18:writing wav file to ../../CurrentUse/wav_files/src_wavs/positive/help/help_english_71/s2_processed_1.5sec/head/man_help_018_71_head.wav\n",
      "19:writing wav file to ../../CurrentUse/wav_files/src_wavs/positive/help/help_english_71/s2_processed_1.5sec/head/man_help_041_71_head.wav\n",
      "20:writing wav file to ../../CurrentUse/wav_files/src_wavs/positive/help/help_english_71/s2_processed_1.5sec/head/man_help_045_71_head.wav\n",
      "21:writing wav file to ../../CurrentUse/wav_files/src_wavs/positive/help/help_english_71/s2_processed_1.5sec/head/man_help_009_71_head.wav\n",
      "22:writing wav file to ../../CurrentUse/wav_files/src_wavs/positive/help/help_english_71/s2_processed_1.5sec/head/man_help_006_71_head.wav\n",
      "23:writing wav file to ../../CurrentUse/wav_files/src_wavs/positive/help/help_english_71/s2_processed_1.5sec/head/man_help_027_71_head.wav\n",
      "24:writing wav file to ../../CurrentUse/wav_files/src_wavs/positive/help/help_english_71/s2_processed_1.5sec/head/man_help_032_71_head.wav\n",
      "25:writing wav file to ../../CurrentUse/wav_files/src_wavs/positive/help/help_english_71/s2_processed_1.5sec/head/man_help_056_71_head.wav\n",
      "26:writing wav file to ../../CurrentUse/wav_files/src_wavs/positive/help/help_english_71/s2_processed_1.5sec/head/man_help_024_71_head.wav\n",
      "27:writing wav file to ../../CurrentUse/wav_files/src_wavs/positive/help/help_english_71/s2_processed_1.5sec/head/man_help_001_71_head.wav\n",
      "28:writing wav file to ../../CurrentUse/wav_files/src_wavs/positive/help/help_english_71/s2_processed_1.5sec/head/man_help_019_71_head.wav\n",
      "29:writing wav file to ../../CurrentUse/wav_files/src_wavs/positive/help/help_english_71/s2_processed_1.5sec/head/man_help_051_71_head.wav\n",
      "30:writing wav file to ../../CurrentUse/wav_files/src_wavs/positive/help/help_english_71/s2_processed_1.5sec/head/man_help_044_71_head.wav\n",
      "31:writing wav file to ../../CurrentUse/wav_files/src_wavs/positive/help/help_english_71/s2_processed_1.5sec/head/man_help_057_71_head.wav\n",
      "32:writing wav file to ../../CurrentUse/wav_files/src_wavs/positive/help/help_english_71/s2_processed_1.5sec/head/man_help_047_71_head.wav\n",
      "33:writing wav file to ../../CurrentUse/wav_files/src_wavs/positive/help/help_english_71/s2_processed_1.5sec/head/man_help_055_71_head.wav\n",
      "34:writing wav file to ../../CurrentUse/wav_files/src_wavs/positive/help/help_english_71/s2_processed_1.5sec/head/man_help_010_71_head.wav\n",
      "35:writing wav file to ../../CurrentUse/wav_files/src_wavs/positive/help/help_english_71/s2_processed_1.5sec/head/man_help_050_71_head.wav\n",
      "36:writing wav file to ../../CurrentUse/wav_files/src_wavs/positive/help/help_english_71/s2_processed_1.5sec/head/man_help_043_71_head.wav\n",
      "37:writing wav file to ../../CurrentUse/wav_files/src_wavs/positive/help/help_english_71/s2_processed_1.5sec/head/man_help_042_71_head.wav\n",
      "38:writing wav file to ../../CurrentUse/wav_files/src_wavs/positive/help/help_english_71/s2_processed_1.5sec/head/man_help_030_71_head.wav\n",
      "39:writing wav file to ../../CurrentUse/wav_files/src_wavs/positive/help/help_english_71/s2_processed_1.5sec/head/man_help_052_71_head.wav\n",
      "40:writing wav file to ../../CurrentUse/wav_files/src_wavs/positive/help/help_english_71/s2_processed_1.5sec/head/man_help_040_71_head.wav\n",
      "41:writing wav file to ../../CurrentUse/wav_files/src_wavs/positive/help/help_english_71/s2_processed_1.5sec/head/man_help_011_71_head.wav\n",
      "42:writing wav file to ../../CurrentUse/wav_files/src_wavs/positive/help/help_english_71/s2_processed_1.5sec/head/man_help_026_71_head.wav\n",
      "43:writing wav file to ../../CurrentUse/wav_files/src_wavs/positive/help/help_english_71/s2_processed_1.5sec/head/man_help_004_71_head.wav\n",
      "44:writing wav file to ../../CurrentUse/wav_files/src_wavs/positive/help/help_english_71/s2_processed_1.5sec/head/man_help_049_71_head.wav\n",
      "45:writing wav file to ../../CurrentUse/wav_files/src_wavs/positive/help/help_english_71/s2_processed_1.5sec/head/man_help_058_71_head.wav\n",
      "46:writing wav file to ../../CurrentUse/wav_files/src_wavs/positive/help/help_english_71/s2_processed_1.5sec/head/man_help_035_71_head.wav\n",
      "47:writing wav file to ../../CurrentUse/wav_files/src_wavs/positive/help/help_english_71/s2_processed_1.5sec/head/man_help_031_71_head.wav\n",
      "48:writing wav file to ../../CurrentUse/wav_files/src_wavs/positive/help/help_english_71/s2_processed_1.5sec/head/woman_help_026_71_head.wav\n",
      "49:writing wav file to ../../CurrentUse/wav_files/src_wavs/positive/help/help_english_71/s2_processed_1.5sec/head/woman_help_024_71_head.wav\n",
      "50:writing wav file to ../../CurrentUse/wav_files/src_wavs/positive/help/help_english_71/s2_processed_1.5sec/head/woman_help_028_71_head.wav\n",
      "51:writing wav file to ../../CurrentUse/wav_files/src_wavs/positive/help/help_english_71/s2_processed_1.5sec/head/woman_help_046_71_head.wav\n",
      "52:writing wav file to ../../CurrentUse/wav_files/src_wavs/positive/help/help_english_71/s2_processed_1.5sec/head/woman_help_048_71_head.wav\n",
      "53:writing wav file to ../../CurrentUse/wav_files/src_wavs/positive/help/help_english_71/s2_processed_1.5sec/head/woman_help_022_71_head.wav\n",
      "54:writing wav file to ../../CurrentUse/wav_files/src_wavs/positive/help/help_english_71/s2_processed_1.5sec/head/woman_help_015_71_head.wav\n",
      "55:writing wav file to ../../CurrentUse/wav_files/src_wavs/positive/help/help_english_71/s2_processed_1.5sec/head/woman_help_021_71_head.wav\n",
      "56:writing wav file to ../../CurrentUse/wav_files/src_wavs/positive/help/help_english_71/s2_processed_1.5sec/head/woman_help_012_71_head.wav\n",
      "57:writing wav file to ../../CurrentUse/wav_files/src_wavs/positive/help/help_english_71/s2_processed_1.5sec/head/woman_help_016_71_head.wav\n",
      "58:writing wav file to ../../CurrentUse/wav_files/src_wavs/positive/help/help_english_71/s2_processed_1.5sec/head/woman_help_001_71_head.wav\n",
      "59:writing wav file to ../../CurrentUse/wav_files/src_wavs/positive/help/help_english_71/s2_processed_1.5sec/head/woman_help_002_71_head.wav\n",
      "60:writing wav file to ../../CurrentUse/wav_files/src_wavs/positive/help/help_english_71/s2_processed_1.5sec/head/woman_help_018_71_head.wav\n",
      "61:writing wav file to ../../CurrentUse/wav_files/src_wavs/positive/help/help_english_71/s2_processed_1.5sec/head/woman_help_005_71_head.wav\n",
      "62:writing wav file to ../../CurrentUse/wav_files/src_wavs/positive/help/help_english_71/s2_processed_1.5sec/head/woman_help_004_71_head.wav\n",
      "63:writing wav file to ../../CurrentUse/wav_files/src_wavs/positive/help/help_english_71/s2_processed_1.5sec/head/woman_help_019_71_head.wav\n",
      "64:writing wav file to ../../CurrentUse/wav_files/src_wavs/positive/help/help_english_71/s2_processed_1.5sec/head/woman_help_023_71_head.wav\n",
      "65:writing wav file to ../../CurrentUse/wav_files/src_wavs/positive/help/help_english_71/s2_processed_1.5sec/head/woman_help_017_71_head.wav\n",
      "66:writing wav file to ../../CurrentUse/wav_files/src_wavs/positive/help/help_english_71/s2_processed_1.5sec/head/woman_help_020_71_head.wav\n",
      "67:writing wav file to ../../CurrentUse/wav_files/src_wavs/positive/help/help_english_71/s2_processed_1.5sec/head/woman_help_039_71_head.wav\n",
      "68:writing wav file to ../../CurrentUse/wav_files/src_wavs/positive/help/help_english_71/s2_processed_1.5sec/head/woman_help_036_71_head.wav\n",
      "69:writing wav file to ../../CurrentUse/wav_files/src_wavs/positive/help/help_english_71/s2_processed_1.5sec/head/woman_help_034_71_head.wav\n",
      "70:writing wav file to ../../CurrentUse/wav_files/src_wavs/positive/help/help_english_71/s2_processed_1.5sec/head/woman_help_043_71_head.wav\n",
      "71:writing wav file to ../../CurrentUse/wav_files/src_wavs/positive/help/help_english_71/s2_processed_1.5sec/head/woman_help_047_71_head.wav\n",
      "72:writing wav file to ../../CurrentUse/wav_files/src_wavs/positive/help/help_english_71/s2_processed_1.5sec/head/woman_help_050_71_head.wav\n",
      "73:writing wav file to ../../CurrentUse/wav_files/src_wavs/positive/help/help_english_71/s2_processed_1.5sec/head/woman_help_038_71_head.wav\n",
      "74:writing wav file to ../../CurrentUse/wav_files/src_wavs/positive/help/help_english_71/s2_processed_1.5sec/head/woman_help_037_71_head.wav\n",
      "75:writing wav file to ../../CurrentUse/wav_files/src_wavs/positive/help/help_english_71/s2_processed_1.5sec/head/woman_help_044_71_head.wav\n",
      "76:writing wav file to ../../CurrentUse/wav_files/src_wavs/positive/help/help_english_71/s2_processed_1.5sec/head/woman_help_032_71_head.wav\n",
      "77:writing wav file to ../../CurrentUse/wav_files/src_wavs/positive/help/help_english_71/s2_processed_1.5sec/head/woman_help_049_71_head.wav\n",
      "78:writing wav file to ../../CurrentUse/wav_files/src_wavs/positive/help/help_english_71/s2_processed_1.5sec/head/woman_help_027_71_head.wav\n",
      "79:writing wav file to ../../CurrentUse/wav_files/src_wavs/positive/help/help_english_71/s2_processed_1.5sec/head/woman_help_035_71_head.wav\n",
      "80:writing wav file to ../../CurrentUse/wav_files/src_wavs/positive/help/help_english_71/s2_processed_1.5sec/head/woman_help_030_71_head.wav\n",
      "81:writing wav file to ../../CurrentUse/wav_files/src_wavs/positive/help/help_english_71/s2_processed_1.5sec/head/woman_help_025_71_head.wav\n",
      "82:writing wav file to ../../CurrentUse/wav_files/src_wavs/positive/help/help_english_71/s2_processed_1.5sec/head/woman_help_045_71_head.wav\n",
      "83:writing wav file to ../../CurrentUse/wav_files/src_wavs/positive/help/help_english_71/s2_processed_1.5sec/head/woman_help_029_71_head.wav\n",
      "84:writing wav file to ../../CurrentUse/wav_files/src_wavs/positive/help/help_english_71/s2_processed_1.5sec/head/woman_help_041_71_head.wav\n",
      "85:writing wav file to ../../CurrentUse/wav_files/src_wavs/positive/help/help_english_71/s2_processed_1.5sec/head/woman_help_033_71_head.wav\n",
      "86:writing wav file to ../../CurrentUse/wav_files/src_wavs/positive/help/help_english_71/s2_processed_1.5sec/head/woman_help_042_71_head.wav\n",
      "87:writing wav file to ../../CurrentUse/wav_files/src_wavs/positive/help/help_english_71/s2_processed_1.5sec/head/woman_help_031_71_head.wav\n",
      "88:writing wav file to ../../CurrentUse/wav_files/src_wavs/positive/help/help_english_71/s2_processed_1.5sec/head/woman_help_040_71_head.wav\n",
      "89:writing wav file to ../../CurrentUse/wav_files/src_wavs/positive/help/help_english_71/s2_processed_1.5sec/head/kid_help_001_71_head.wav\n"
     ]
    }
   ],
   "source": [
    "extend_at_head_main()"
   ]
  },
  {
   "cell_type": "markdown",
   "id": "3dacfa94-c95f-4754-a264-0332711383a8",
   "metadata": {},
   "source": [
    "## putting speech signal in the middle and extending clip to 1.5 Sec"
   ]
  },
  {
   "cell_type": "code",
   "execution_count": null,
   "id": "cece0e31-d0a9-4087-98b2-f1cf6b6f906c",
   "metadata": {},
   "outputs": [],
   "source": []
  },
  {
   "cell_type": "code",
   "execution_count": null,
   "id": "042463e0-d107-4ce5-80e2-638318d8a2d9",
   "metadata": {},
   "outputs": [],
   "source": []
  },
  {
   "cell_type": "markdown",
   "id": "c4d4805d-7bdd-441c-8ccc-906c22224795",
   "metadata": {},
   "source": [
    "## putting speech signal in the tail and extending clip to 1.5 Sec"
   ]
  },
  {
   "cell_type": "code",
   "execution_count": null,
   "id": "e0581c50-15b5-4ece-9655-ab53617a9069",
   "metadata": {},
   "outputs": [],
   "source": []
  },
  {
   "cell_type": "code",
   "execution_count": null,
   "id": "ffd512e0-ade9-4cd6-92e6-c80491c67799",
   "metadata": {},
   "outputs": [],
   "source": []
  },
  {
   "cell_type": "markdown",
   "id": "01d30a21-6347-4e9a-a0b6-42aae7d8f068",
   "metadata": {},
   "source": [
    "## mix with white noises"
   ]
  },
  {
   "cell_type": "code",
   "execution_count": null,
   "id": "cf04c6ca-0079-4b40-8c4c-6eeb88ec93a6",
   "metadata": {},
   "outputs": [],
   "source": []
  },
  {
   "cell_type": "code",
   "execution_count": null,
   "id": "174642d2-a367-47fb-9b9f-d4e35ac7e5bb",
   "metadata": {},
   "outputs": [],
   "source": []
  },
  {
   "cell_type": "code",
   "execution_count": null,
   "id": "3ec73531-8287-48d6-86d9-609869952588",
   "metadata": {},
   "outputs": [],
   "source": []
  }
 ],
 "metadata": {
  "kernelspec": {
   "display_name": "Python 3 (ipykernel)",
   "language": "python",
   "name": "python3"
  },
  "language_info": {
   "codemirror_mode": {
    "name": "ipython",
    "version": 3
   },
   "file_extension": ".py",
   "mimetype": "text/x-python",
   "name": "python",
   "nbconvert_exporter": "python",
   "pygments_lexer": "ipython3",
   "version": "3.10.12"
  }
 },
 "nbformat": 4,
 "nbformat_minor": 5
}
