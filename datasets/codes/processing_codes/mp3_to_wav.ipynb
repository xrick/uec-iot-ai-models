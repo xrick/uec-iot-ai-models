{
 "cells": [
  {
   "cell_type": "code",
   "execution_count": 2,
   "id": "42243acc-d97c-42df-b035-029e5d005aa3",
   "metadata": {},
   "outputs": [],
   "source": [
    "import os\n",
    "import sys\n",
    "from os import listdir\n",
    "from os.path import isfile, isdir, join\n",
    "from tqdm import tqdm\n",
    "import re"
   ]
  },
  {
   "cell_type": "code",
   "execution_count": null,
   "id": "99d089b4-552b-489b-930d-6453d6e3a5f6",
   "metadata": {},
   "outputs": [],
   "source": []
  },
  {
   "cell_type": "code",
   "execution_count": 3,
   "id": "a80b6abb-e23f-41c0-9357-07680f73d372",
   "metadata": {},
   "outputs": [],
   "source": [
    "from os import path\n",
    "from pydub import AudioSegment"
   ]
  },
  {
   "cell_type": "code",
   "execution_count": 4,
   "id": "c80cef32-a56e-4478-83b8-0bf22ada331d",
   "metadata": {},
   "outputs": [],
   "source": [
    "# !pip install pydub"
   ]
  },
  {
   "cell_type": "code",
   "execution_count": 5,
   "id": "c74a395e-d736-4ac5-862f-886fcf49b21c",
   "metadata": {},
   "outputs": [],
   "source": [
    "def getMp3List(srcDir,regex='.*\\.wav'):\n",
    "    regex = '.*\\.mp3'\n",
    "    results = os.listdir(srcDir)\n",
    "    out_files = []\n",
    "    cnt_files = 0\n",
    "    for file in results:\n",
    "        if os.path.isdir(os.path.join(srcDir, file)):\n",
    "            out_files += getMp3List(os.path.join(srcDir, file))\n",
    "        elif re.match(regex, file,  re.I):  # file.startswith(startExtension) or file.endswith(\".txt\") or file.endswith(endExtension):\n",
    "            out_files.append(os.path.join(srcDir, file))\n",
    "            cnt_files = cnt_files + 1\n",
    "    return out_files\n"
   ]
  },
  {
   "cell_type": "code",
   "execution_count": null,
   "id": "c18cab39-3627-4410-a71b-a865fba5acf2",
   "metadata": {},
   "outputs": [],
   "source": []
  },
  {
   "cell_type": "code",
   "execution_count": 11,
   "id": "5f8afcab-5b15-47c5-9a56-f4e693996e6b",
   "metadata": {},
   "outputs": [
    {
     "name": "stdout",
     "output_type": "stream",
     "text": [
      "file:taking-a-shower-50280-55\n",
      "file:shower_water_bath-72381-55\n",
      "file:running-shower-by-krucifix-productions-29903-55\n",
      "file:shower-sequence-75720_55\n",
      "file:shower-87842-55\n",
      "file:shower-head-1-run-stop-67603-55\n",
      "file:shower-ambience-150399-55\n",
      "file:stream-of-water-in-the-kitchen-sink-54707\n",
      "file:shower-turning-on-and-off-with-drain-noise-57171-55\n",
      "file:shower-73879_55\n",
      "file:shower-sound-effect-zoom-h6-18039-55\n",
      "file:shower-running-02-59027-55\n",
      "file:int_bathroom_shower-24851-55\n",
      "file:shower-79059-55\n",
      "file:shower-14461-55\n",
      "file:shower-effects-55270-55\n",
      "file:shower-3508-55\n",
      "file:shower-56145-55\n"
     ]
    }
   ],
   "source": [
    "testdir = \"./before_processed_audio/\"\n",
    "lst =  getMp3List(testdir)\n",
    "for item in lst:\n",
    "    # print(f\"file:{os.path.split(item)}\");\n",
    "    print(f\"file:{os.path.basename(item).split('.')[0]}\")"
   ]
  },
  {
   "cell_type": "code",
   "execution_count": 1,
   "id": "bad76d8a-8054-4704-a39e-d59a9e84f6e7",
   "metadata": {},
   "outputs": [],
   "source": [
    "def convert(mp3file=None, wavfile=None):\n",
    "    sound = AudioSegment.from_mp3(mp3file)\n",
    "    sound.export(wavfile, format=\"wav\")"
   ]
  },
  {
   "cell_type": "code",
   "execution_count": 13,
   "id": "54aac486-8a53-4750-812c-799e364adc9d",
   "metadata": {},
   "outputs": [
    {
     "name": "stdout",
     "output_type": "stream",
     "text": [
      "Converting ./before_processed_audio/54_ringtone/16K_MP3/line_b_6.mp3 to ./before_processed_audio/54_ringtone/line_b_6.wav\n",
      "Converting ./before_processed_audio/54_ringtone/16K_MP3/line_logo_sound_short.mp3 to ./before_processed_audio/54_ringtone/line_logo_sound_short.wav\n",
      "Converting ./before_processed_audio/54_ringtone/16K_MP3/line_b_13.mp3 to ./before_processed_audio/54_ringtone/line_b_13.wav\n",
      "Converting ./before_processed_audio/54_ringtone/16K_MP3/lineapp_ring_16k.mp3 to ./before_processed_audio/54_ringtone/lineapp_ring_16k.wav\n",
      "Converting ./before_processed_audio/54_ringtone/16K_MP3/push_an_bird.mp3 to ./before_processed_audio/54_ringtone/push_an_bird.wav\n",
      "Converting ./before_processed_audio/54_ringtone/16K_MP3/line_a_66.mp3 to ./before_processed_audio/54_ringtone/line_a_66.wav\n",
      "Converting ./before_processed_audio/54_ringtone/16K_MP3/linecall_ringback_16k.mp3 to ./before_processed_audio/54_ringtone/linecall_ringback_16k.wav\n",
      "Converting ./before_processed_audio/54_ringtone/16K_MP3/line_a_3.mp3 to ./before_processed_audio/54_ringtone/line_a_3.wav\n",
      "Converting ./before_processed_audio/54_ringtone/16K_MP3/message.mp3 to ./before_processed_audio/54_ringtone/message.wav\n",
      "Converting ./before_processed_audio/54_ringtone/16K_MP3/push_dingdong2.mp3 to ./before_processed_audio/54_ringtone/push_dingdong2.wav\n",
      "Converting ./before_processed_audio/54_ringtone/16K_MP3/line_logo_sound.mp3 to ./before_processed_audio/54_ringtone/line_logo_sound.wav\n",
      "Converting ./before_processed_audio/54_ringtone/16K_MP3/push_bell_a.mp3 to ./before_processed_audio/54_ringtone/push_bell_a.wav\n",
      "Converting ./before_processed_audio/54_ringtone/16K_MP3/lineapp_ringback_16k.mp3 to ./before_processed_audio/54_ringtone/lineapp_ringback_16k.wav\n",
      "Converting ./before_processed_audio/54_ringtone/16K_MP3/lineapp_end_16k.mp3 to ./before_processed_audio/54_ringtone/lineapp_end_16k.wav\n",
      "Converting ./before_processed_audio/54_ringtone/16K_MP3/push_bell_b.mp3 to ./before_processed_audio/54_ringtone/push_bell_b.wav\n",
      "Converting ./before_processed_audio/54_ringtone/16K_MP3/push_xylophone.mp3 to ./before_processed_audio/54_ringtone/push_xylophone.wav\n",
      "Converting ./before_processed_audio/54_ringtone/16K_MP3/line_a_7.mp3 to ./before_processed_audio/54_ringtone/line_a_7.wav\n",
      "Converting ./before_processed_audio/54_ringtone/16K_MP3/basic_4_16k.mp3 to ./before_processed_audio/54_ringtone/basic_4_16k.wav\n",
      "Converting ./before_processed_audio/54_ringtone/16K_MP3/line_a_14.mp3 to ./before_processed_audio/54_ringtone/line_a_14.wav\n",
      "Converting ./before_processed_audio/54_ringtone/16K_MP3/basic_5_16k.mp3 to ./before_processed_audio/54_ringtone/basic_5_16k.wav\n",
      "Converting ./before_processed_audio/54_ringtone/16K_MP3/lineapp_ui_fail_4.mp3 to ./before_processed_audio/54_ringtone/lineapp_ui_fail_4.wav\n"
     ]
    }
   ],
   "source": [
    "workdir = \"./before_processed_audio/54_ringtone/16K_MP3/\"\n",
    "dest_dir = \"./before_processed_audio/54_ringtone/{}\"\n",
    "mp3_lst = getMp3List(workdir)\n",
    "for it in mp3_lst:\n",
    "    # fname = os.path.basename(it);\n",
    "    fname = \"{}.wav\".format(os.path.basename(it).split('.')[0]);\n",
    "    dest_wav_file = dest_dir.format(fname);\n",
    "    print(f\"Converting {it} to {dest_wav_file}\");\n",
    "    convert(it, dest_wav_file);"
   ]
  },
  {
   "cell_type": "code",
   "execution_count": null,
   "id": "c3bcf558-c3e0-47ad-966a-b4046dcc90a0",
   "metadata": {},
   "outputs": [],
   "source": []
  }
 ],
 "metadata": {
  "kernelspec": {
   "display_name": "Python 3 (ipykernel)",
   "language": "python",
   "name": "python3"
  },
  "language_info": {
   "codemirror_mode": {
    "name": "ipython",
    "version": 3
   },
   "file_extension": ".py",
   "mimetype": "text/x-python",
   "name": "python",
   "nbconvert_exporter": "python",
   "pygments_lexer": "ipython3",
   "version": "3.10.13"
  }
 },
 "nbformat": 4,
 "nbformat_minor": 5
}
