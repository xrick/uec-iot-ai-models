{
 "cells": [
  {
   "cell_type": "code",
   "execution_count": 2,
   "id": "2a614774-c3f3-434a-8cf8-ab074c99bd7b",
   "metadata": {},
   "outputs": [],
   "source": [
    "import numpy as np;\n",
    "import sys;\n",
    "import os;\n",
    "import glob;\n",
    "import random;\n",
    "import wavio;\n",
    "import copy;\n",
    "from random import shuffle;\n",
    "import librosa.display\n",
    "import matplotlib.pyplot as plt"
   ]
  },
  {
   "cell_type": "code",
   "execution_count": 3,
   "id": "7ff1f44c-ea5d-4167-8e9e-6a52c9d668a9",
   "metadata": {},
   "outputs": [],
   "source": [
    "import soundfile as sf"
   ]
  },
  {
   "cell_type": "code",
   "execution_count": 56,
   "id": "409de7a9-9c75-49bd-9cc2-1238a3e6d357",
   "metadata": {},
   "outputs": [],
   "source": [
    "sys.path.append(\"../../../Libs/\")\n",
    "sys.path.append(\"../../../src/SharedLibs/\")"
   ]
  },
  {
   "cell_type": "code",
   "execution_count": 57,
   "id": "48193274-75f1-4573-ab68-a12f6dfce7bc",
   "metadata": {},
   "outputs": [],
   "source": [
    "from SharedLibs import getFileList\n",
    "from sys_untity import ConvertSR;"
   ]
  },
  {
   "cell_type": "markdown",
   "id": "a3f2e904-ee23-4e0a-ae70-f8c14ee5f4a7",
   "metadata": {},
   "source": [
    "### Shared Data"
   ]
  },
  {
   "cell_type": "code",
   "execution_count": 37,
   "id": "472521f8-afac-4efe-851c-6b48cae07173",
   "metadata": {},
   "outputs": [],
   "source": [
    "sampling_rate = 20000;\n",
    "desired_wav_len = 30225;#int(np.ceil(1.5 * sampling_rate));\n",
    "clear_clip_file = \"../../../datasets/CurrentUse/mixed_sounds/clear_clips/clear_clip.wav\" \n",
    "one_half_sec_wav_name_fmt = \"{}_{}.wav\";\n",
    "src_eng_help_dir = \"../../CurrentUse/wav_files/src_wavs/positive/help/help_english_71/s1_processed_clear_clips/\";\n",
    "head_clip_save_dir = \"../../CurrentUse/wav_files/src_wavs/positive/help/help_english_71/s2_processed_1.5sec/head/\";\n",
    "middle_clip_save_dir = \"../../CurrentUse/wav_files/src_wavs/positive/help/help_english_71/s2_processed_1.5sec/middle/\";\n",
    "tail_clip_save_dir = \"../../CurrentUse/wav_files/src_wavs/positive/help/help_english_71/s2_processed_1.5sec/tail/\";\n",
    "clear_eng_help_wav_list = getFileList(src_eng_help_dir);\n",
    "clear_clip = wavio.read(clear_clip_file).data.T[0];\n",
    "len_of_clear_clip = len(clear_clip);"
   ]
  },
  {
   "cell_type": "code",
   "execution_count": 38,
   "id": "c8914406-a8cb-4839-b82b-be77a2cf9cf0",
   "metadata": {},
   "outputs": [],
   "source": [
    "# print(os.path.basename(raw_eng_help_wav_list[0])[:-4])\n",
    "# print(len(clear_clip))\n",
    "# test_data = wavio.read(raw_eng_help_wav_list[0]).data.T[0];\n",
    "# print(f\"len of test_data:{len(test_data)}, shape:{test_data.shape}\");\n",
    "# res_data = np.append(test_data, clear_clip);\n",
    "# print(f\"len of res_data:{len(res_data)}, shape:{res_data.shape}\");\n",
    "# print(f\"count of raw english help wav files:{len(raw_eng_help_wav_list)}\");\n",
    "# print(len([i for i in clear_clip]))\n",
    "# for i in raw_eng_help_wav_list:\n",
    "#     print(i)\n"
   ]
  },
  {
   "cell_type": "markdown",
   "id": "6936840e-ac0d-4cb9-a887-4f0070ea6b68",
   "metadata": {},
   "source": [
    "## Data Visualization Codes"
   ]
  },
  {
   "cell_type": "code",
   "execution_count": 49,
   "id": "3bd8043e-c239-41cc-9c30-36118b644503",
   "metadata": {},
   "outputs": [],
   "source": [
    "import librosa.display\n",
    "import matplotlib.pyplot as plt"
   ]
  },
  {
   "cell_type": "code",
   "execution_count": 50,
   "id": "c1cd283b-8309-489c-a3f3-f97511495b76",
   "metadata": {},
   "outputs": [],
   "source": [
    "def plot_signal_and_augmented_signal(signal, augmented_signal, sr):\n",
    "    fig, ax = plt.subplots(nrows=2)\n",
    "    librosa.display.waveplot(signal, sr=sr, ax=ax[0])\n",
    "    ax[0].set(title=\"Original signal\")\n",
    "    librosa.display.waveplot(augmented_signal, sr=sr, ax=ax[1])\n",
    "    ax[1].set(title=\"Augmented signal\")\n",
    "    plt.show()"
   ]
  },
  {
   "cell_type": "code",
   "execution_count": null,
   "id": "6af60df2-3bad-40d8-8fd1-5e706f639568",
   "metadata": {},
   "outputs": [],
   "source": []
  },
  {
   "cell_type": "markdown",
   "id": "1e8d8e22-4c0a-4020-9ed9-97e614cbdd8f",
   "metadata": {},
   "source": [
    "## putting speech signal in the head and extending clip to 1.5 Sec"
   ]
  },
  {
   "cell_type": "code",
   "execution_count": 42,
   "id": "4612814c-50c4-4f04-9f61-ac1c96f558b4",
   "metadata": {},
   "outputs": [],
   "source": [
    "def extend_at_head_main(suffix_word=\"head\", upperlel_save_dir=None):\n",
    "    counter = 0;\n",
    "    for w in clear_eng_help_wav_list:\n",
    "        tmp_data = wavio.read(w).data.T[0];\n",
    "        len_data = len(tmp_data);\n",
    "        result = None;\n",
    "        file_name = one_half_sec_wav_name_fmt.format(os.path.basename(w)[:-4],suffix_word);\n",
    "        save_full_name = os.path.join(upperlel_save_dir, file_name)\n",
    "        # print(save_full_name)\n",
    "        if len_data < desired_wav_len:\n",
    "            result = np.append(tmp_data, clear_clip[:desired_wav_len-len_data]);\n",
    "        elif len_data > desired_wav_len:\n",
    "            result = tmp_data[:desired_wav_len];\n",
    "        else:\n",
    "            result = tmp_data;\n",
    "        sf.write(save_full_name, result, sampling_rate);\n",
    "        counter += 1;\n",
    "        print(f\"{counter}:writing wav file to {save_full_name}\");"
   ]
  },
  {
   "cell_type": "code",
   "execution_count": 44,
   "id": "1c95dfac-e106-4d32-a472-83fae410e6c1",
   "metadata": {},
   "outputs": [],
   "source": [
    "# extend_at_head_main(upperlel_save_dir=head_clip_save_dir);"
   ]
  },
  {
   "cell_type": "markdown",
   "id": "3dacfa94-c95f-4754-a264-0332711383a8",
   "metadata": {},
   "source": [
    "## putting speech signal in the middle and extending clip to 1.5 Sec"
   ]
  },
  {
   "cell_type": "code",
   "execution_count": 33,
   "id": "bfa571ee-7b21-41ce-905a-74fcbdd71666",
   "metadata": {},
   "outputs": [],
   "source": [
    "def insert_middle_logic(wanted_len=None, src_wav_len=None):\n",
    "    dif_len_pos = int(wanted_len - src_wav_len);\n",
    "    half_dif_len = int(np.ceil(dif_len_pos/2));\n",
    "    start_pos = half_dif_len;\n",
    "    end_pos = start_pos + src_wav_len;\n",
    "    return start_pos, end_pos"
   ]
  },
  {
   "cell_type": "code",
   "execution_count": 40,
   "id": "cece0e31-d0a9-4087-98b2-f1cf6b6f906c",
   "metadata": {},
   "outputs": [],
   "source": [
    "def extend_at_middle_main(suffix_word=\"middle\",upperlel_save_dir=None):\n",
    "    counter = 0;\n",
    "    for w in clear_eng_help_wav_list:\n",
    "        tmp_data = wavio.read(w).data.T[0];\n",
    "        len_data = len(tmp_data);\n",
    "        result = None;\n",
    "        file_name = one_half_sec_wav_name_fmt.format(os.path.basename(w)[:-4],suffix_word);\n",
    "        save_full_name = os.path.join(upperlel_save_dir, file_name);\n",
    "        # print(save_full_name)\n",
    "        if len_data < desired_wav_len:\n",
    "            s_pos, e_pos = insert_middle_logic(wanted_len=desired_wav_len, src_wav_len=len_data);\n",
    "            result = clear_clip[:s_pos].copy();\n",
    "            result = np.append(result, tmp_data[:e_pos])\n",
    "            if e_pos < desired_wav_len:\n",
    "                result = np.append(result, clear_clip[:desired_wav_len-e_pos]);\n",
    "        elif len_data > desired_wav_len:\n",
    "            result = tmp_data[:desired_wav_len];\n",
    "        else:\n",
    "            result = tmp_data;\n",
    "        sf.write(save_full_name, result, sampling_rate);\n",
    "        counter += 1;\n",
    "        print(f\"{counter}:writing wav file to {save_full_name}\");"
   ]
  },
  {
   "cell_type": "code",
   "execution_count": 45,
   "id": "042463e0-d107-4ce5-80e2-638318d8a2d9",
   "metadata": {},
   "outputs": [],
   "source": [
    "# extend_at_middle_main(upperlel_save_dir=middle_clip_save_dir)"
   ]
  },
  {
   "cell_type": "markdown",
   "id": "c4d4805d-7bdd-441c-8ccc-906c22224795",
   "metadata": {},
   "source": [
    "## putting speech signal in the tail and extending clip to 1.5 Sec"
   ]
  },
  {
   "cell_type": "code",
   "execution_count": 46,
   "id": "e0581c50-15b5-4ece-9655-ab53617a9069",
   "metadata": {},
   "outputs": [],
   "source": [
    "def extend_at_tail_main(suffix_word=\"tail\", upperlel_save_dir=None):\n",
    "    counter = 0;\n",
    "    for w in clear_eng_help_wav_list:\n",
    "        tmp_data = wavio.read(w).data.T[0];\n",
    "        len_data = len(tmp_data);\n",
    "        result = None;\n",
    "        file_name = one_half_sec_wav_name_fmt.format(os.path.basename(w)[:-4],suffix_word);\n",
    "        save_full_name = os.path.join(upperlel_save_dir, file_name)\n",
    "        # print(save_full_name)\n",
    "        if len_data < desired_wav_len:\n",
    "            wanted_clear_clip_len = desired_wav_len-len_data;\n",
    "            result = clear_clip[:wanted_clear_clip_len].copy();\n",
    "            result = np.append(result, tmp_data);\n",
    "        elif len_data > desired_wav_len:\n",
    "            result = tmp_data[:desired_wav_len];\n",
    "        else:\n",
    "            result = tmp_data;\n",
    "        sf.write(save_full_name, result, sampling_rate);\n",
    "        counter += 1;\n",
    "        print(f\"{counter}:writing wav file to {save_full_name}\");"
   ]
  },
  {
   "cell_type": "code",
   "execution_count": 48,
   "id": "ffd512e0-ade9-4cd6-92e6-c80491c67799",
   "metadata": {},
   "outputs": [],
   "source": [
    "# extend_at_tail_main(upperlel_save_dir=tail_clip_save_dir)"
   ]
  },
  {
   "cell_type": "markdown",
   "id": "01d30a21-6347-4e9a-a0b6-42aae7d8f068",
   "metadata": {},
   "source": [
    "## mix with white noises"
   ]
  },
  {
   "cell_type": "code",
   "execution_count": 76,
   "id": "cf04c6ca-0079-4b40-8c4c-6eeb88ec93a6",
   "metadata": {},
   "outputs": [],
   "source": [
    "home_chat_noises_20K_dir = \"../../CurrentUse/mixed_sounds/home_chat_noises/20K/\"\n",
    "help_onehalfsec_clips_head_dir = \"../../CurrentUse/wav_files/src_wavs/positive/help/help_english_71/s2_processed_1.5sec/head/\";\n",
    "help_onehalfsec_clips_middle_dir = \"../../CurrentUse/wav_files/src_wavs/positive/help/help_english_71/s2_processed_1.5sec/middle/\";\n",
    "help_onehalfsec_clips_tail_dir = \"../../CurrentUse/wav_files/src_wavs/positive/help/help_english_71/s2_processed_1.5sec/tail/\";\n",
    "mixed_help_wav_fm = \"{}_hcn.wav\";\n",
    "mixed_help_save_dir_head = \"../../CurrentUse/wav_files/src_wavs/positive/help/help_english_71/s4_processed_with_home_chat_noises/head/\";\n",
    "mixed_help_save_dir_middle = \"../../CurrentUse/wav_files/src_wavs/positive/help/help_english_71/s4_processed_with_home_chat_noises/middle/\";\n",
    "mixed_help_save_dir_tail = \"../../CurrentUse/wav_files/src_wavs/positive/help/help_english_71/s4_processed_with_home_chat_noises/tail/\";\n",
    "# home_chat_noise_20K_fm = \"{}_20K.wav\";\n",
    "home_chat_noises_list = getFileList(home_chat_noises_20K_dir)\n",
    "# print(f\"number of chat noises files:{len(home_chat_noises_list)}\")"
   ]
  },
  {
   "cell_type": "code",
   "execution_count": null,
   "id": "ffb6e69c-a902-4edf-a0e1-b8f5414dbaec",
   "metadata": {},
   "outputs": [],
   "source": [
    "sound_list_head = getFileList(help_onehalfsec_clips_head_dir);\n",
    "sound_list_middle = getFileList(help_onehalfsec_clips_middle_dir);\n",
    "sound_list_tail = getFileList(help_onehalfsec_clips_tail_dir);"
   ]
  },
  {
   "cell_type": "code",
   "execution_count": 70,
   "id": "18734e47-d548-47f5-88e6-8c1a0e96004a",
   "metadata": {},
   "outputs": [],
   "source": [
    "# print(os.path.basename(home_chat_noises_list[0])[:-10])\n",
    "# for n in home_chat_noises_list:\n",
    "#     fname = home_chat_noise_20K_fm.format(os.path.basename(n)[:-10])\n",
    "#     save_path = os.path.join(home_chat_noises_20K_dir,fname);\n",
    "#     ConvertSR(n,save_path,sampling_rate);\n",
    "#     print(f\"convert to {save_path}\");"
   ]
  },
  {
   "cell_type": "code",
   "execution_count": 72,
   "id": "174642d2-a367-47fb-9b9f-d4e35ac7e5bb",
   "metadata": {},
   "outputs": [],
   "source": [
    "# for t in range(10):\n",
    "#     print(random.choice(home_chat_noises_list))"
   ]
  },
  {
   "cell_type": "code",
   "execution_count": 51,
   "id": "3ec73531-8287-48d6-86d9-609869952588",
   "metadata": {},
   "outputs": [],
   "source": [
    "def add_white_noise(signal, noise_percentage_factor):\n",
    "    noise = np.random.normal(0, signal.std(), signal.size)\n",
    "    augmented_signal = signal + noise * noise_percentage_factor\n",
    "    return augmented_signal"
   ]
  },
  {
   "cell_type": "code",
   "execution_count": 52,
   "id": "7297ce19-ff89-4a6d-a735-45d3a9b72abc",
   "metadata": {},
   "outputs": [],
   "source": [
    "def random_gain(signal, min_factor=0.1, max_factor=0.12):\n",
    "    gain_rate = random.uniform(min_factor, max_factor)\n",
    "    augmented_signal = signal * gain_rate\n",
    "    return augmented_signal"
   ]
  },
  {
   "cell_type": "code",
   "execution_count": 53,
   "id": "0e4bb09a-cdb7-44bb-91b7-7ecd1644a9b2",
   "metadata": {},
   "outputs": [],
   "source": [
    "def time_stretch(signal, time_stretch_rate):\n",
    "    \"\"\"Time stretching implemented with librosa:\n",
    "    https://librosa.org/doc/main/generated/librosa.effects.pitch_shift.html?highlight=pitch%20shift#librosa.effects.pitch_shift\n",
    "    \"\"\"\n",
    "    return librosa.effects.time_stretch(signal, time_stretch_rate)"
   ]
  },
  {
   "cell_type": "code",
   "execution_count": null,
   "id": "743ca118-2c84-4382-8394-694931e3d205",
   "metadata": {},
   "outputs": [],
   "source": []
  }
 ],
 "metadata": {
  "kernelspec": {
   "display_name": "Python 3 (ipykernel)",
   "language": "python",
   "name": "python3"
  },
  "language_info": {
   "codemirror_mode": {
    "name": "ipython",
    "version": 3
   },
   "file_extension": ".py",
   "mimetype": "text/x-python",
   "name": "python",
   "nbconvert_exporter": "python",
   "pygments_lexer": "ipython3",
   "version": "3.10.12"
  }
 },
 "nbformat": 4,
 "nbformat_minor": 5
}
