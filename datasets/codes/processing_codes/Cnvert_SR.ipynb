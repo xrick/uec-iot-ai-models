{
 "cells": [
  {
   "cell_type": "code",
   "execution_count": 1,
   "id": "77e03b58-609e-422d-b7f2-335a019cbabf",
   "metadata": {},
   "outputs": [],
   "source": [
    "import sys\n",
    "import os\n",
    "import subprocess\n",
    "import glob\n",
    "import numpy as np\n",
    "import wavio\n",
    "from pathlib import Path\n",
    "# import re\n",
    "sys.path.append(os.path.abspath(\"../../../\"))"
   ]
  },
  {
   "cell_type": "code",
   "execution_count": 2,
   "id": "b5792a24-c33b-4dab-b25f-9a0de972821a",
   "metadata": {},
   "outputs": [],
   "source": [
    "from Libs.SharedLibs import getFileList"
   ]
  },
  {
   "cell_type": "code",
   "execution_count": 3,
   "id": "b47e89f7-5fa4-4e8c-a203-ec273ef1e20c",
   "metadata": {},
   "outputs": [],
   "source": [
    "def Convert(src_wav, dest_wav, sr):\n",
    "    subprocess.call('ffmpeg -i {} -ac 1 -ar {} -loglevel error -y {}'.format(\n",
    "            src_wav, sr, dest_wav), shell=True);"
   ]
  },
  {
   "cell_type": "code",
   "execution_count": 4,
   "id": "f5706bda-d8fe-44d6-aa25-350daacddcb7",
   "metadata": {},
   "outputs": [],
   "source": [
    "def getFolderList(rootDir=None, recursive=False):\n",
    "    if not recursive:\n",
    "        return next(os.walk(rootDir));\n",
    "    else:\n",
    "        return [x[0] for x in os.walk(rootDir)]\n",
    "    "
   ]
  },
  {
   "cell_type": "markdown",
   "id": "53f57032-586f-4486-a9f3-09a8586faf13",
   "metadata": {},
   "source": [
    "## The following codes are performing sampling rate conversion"
   ]
  },
  {
   "cell_type": "code",
   "execution_count": 9,
   "id": "4ae4eb8f-bd10-446a-adad-e5cb760ebf66",
   "metadata": {},
   "outputs": [],
   "source": [
    "src_base_dir = \"../../../datasets/CurrentUse/wav_files/src_wavs/positive/wail_and_moan/VIVAE/core_set_only_pain//\";\n",
    "dest_base_dir = \"../../../datasets/CurrentUse/wav_files/src_wavs/positive/wail_and_moan/vivae_pain_20K/core_set//\";\n",
    "sr = 20000;"
   ]
  },
  {
   "cell_type": "code",
   "execution_count": 10,
   "id": "737ce954-8d3f-424b-a498-2406041752ad",
   "metadata": {},
   "outputs": [],
   "source": [
    "def convert_method01():\n",
    "    subdirs_info = getFolderList(src_base_dir)\n",
    "    subdirs = subdirs_info[1];\n",
    "    for d in subdirs:\n",
    "        curr_dir = os.path.join(src_base_dir, d);\n",
    "        curr_dest_dir = os.path.join(dest_base_dir,d);\n",
    "        print(f\"{curr_dir}\");\n",
    "        print(f\"{curr_dest_dir}\")\n",
    "        # get wav list in current dir\n",
    "        wavlst = getFileList(curr_dir)\n",
    "        for w in wavlst:\n",
    "            dest_w = os.path.join(curr_dest_dir,os.path.basename(w));\n",
    "            print(f\"convert {w} >> {dest_w}\")\n",
    "            Convert(w, dest_w, sr);"
   ]
  },
  {
   "cell_type": "code",
   "execution_count": 11,
   "id": "fbf499fa-5e29-4477-9106-4a0eeac1f001",
   "metadata": {},
   "outputs": [],
   "source": [
    "def convert_method02(src_dir=None, dest_dir=None):\n",
    "    wav_lst = getFileList(src_base_dir)\n",
    "    for item in wav_lst:\n",
    "        wavname = os.path.basename(item)\n",
    "        save_path = os.path.join(dest_dir,wavname)\n",
    "        Convert(item, save_path, sr)"
   ]
  },
  {
   "cell_type": "code",
   "execution_count": 12,
   "id": "dab81c83-9b1f-4e7f-9604-a392d93894ad",
   "metadata": {},
   "outputs": [],
   "source": [
    "convert_method02(src_dir=src_base_dir, dest_dir=dest_base_dir)"
   ]
  },
  {
   "cell_type": "code",
   "execution_count": null,
   "id": "118e1a38-03ac-40ea-95dc-015fd69c17ac",
   "metadata": {},
   "outputs": [],
   "source": []
  }
 ],
 "metadata": {
  "kernelspec": {
   "display_name": "Python 3 (ipykernel)",
   "language": "python",
   "name": "python3"
  },
  "language_info": {
   "codemirror_mode": {
    "name": "ipython",
    "version": 3
   },
   "file_extension": ".py",
   "mimetype": "text/x-python",
   "name": "python",
   "nbconvert_exporter": "python",
   "pygments_lexer": "ipython3",
   "version": "3.10.12"
  }
 },
 "nbformat": 4,
 "nbformat_minor": 5
}
