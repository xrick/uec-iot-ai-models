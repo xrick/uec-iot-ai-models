version https://git-lfs.github.com/spec/v1
oid sha256:b7ac1114f9873f8f3687ab2a3e1e8280f39861fc85d8987709375854e77d6a93
size 3345
