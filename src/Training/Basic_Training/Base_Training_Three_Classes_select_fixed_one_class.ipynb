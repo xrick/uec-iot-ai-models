version https://git-lfs.github.com/spec/v1
oid sha256:2b2501cffb842b8fbfe91555b1eed1349bdc7ea3b95be9b92354e0998864c68d
size 945672
