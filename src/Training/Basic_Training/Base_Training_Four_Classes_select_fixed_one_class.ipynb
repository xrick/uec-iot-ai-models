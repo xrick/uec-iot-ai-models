version https://git-lfs.github.com/spec/v1
oid sha256:0cabeb33971ee2b2939829a3b756636c8aac9166d066d1d40ee08463c76b47c4
size 480218
