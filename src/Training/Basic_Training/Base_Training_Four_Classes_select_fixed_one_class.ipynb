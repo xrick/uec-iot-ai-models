version https://git-lfs.github.com/spec/v1
oid sha256:39cf5e8b22c3b501430658c28d0001c90d2ad402bae4e2fee519bc48ad7218d0
size 110043
