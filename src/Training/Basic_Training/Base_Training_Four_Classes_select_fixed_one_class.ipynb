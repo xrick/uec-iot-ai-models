version https://git-lfs.github.com/spec/v1
oid sha256:f670d68c361f5c65cebcc2a2498dc5ec920f53d6b0f6f048b08780aae0b1686a
size 480217
