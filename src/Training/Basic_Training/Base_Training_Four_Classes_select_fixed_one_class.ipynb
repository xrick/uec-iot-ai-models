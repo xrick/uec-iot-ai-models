version https://git-lfs.github.com/spec/v1
oid sha256:9b7d69f249c6f389b99cbbbe62ec95ef314d6b78c3bf5c55abb068c393095977
size 60916
