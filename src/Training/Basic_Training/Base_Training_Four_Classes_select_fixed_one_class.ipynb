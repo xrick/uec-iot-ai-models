version https://git-lfs.github.com/spec/v1
oid sha256:dc2450c53744761849edb7e43c6205042274ed952286a281de8e7ff613fd681b
size 61224
