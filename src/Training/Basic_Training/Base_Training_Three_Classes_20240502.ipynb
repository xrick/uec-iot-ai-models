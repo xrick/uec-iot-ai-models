version https://git-lfs.github.com/spec/v1
oid sha256:7004168966983277fbe7561f6579a92459e6be2d9e699dbce407c5307045a8db
size 1191344
