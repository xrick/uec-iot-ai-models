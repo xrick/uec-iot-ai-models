version https://git-lfs.github.com/spec/v1
oid sha256:99fb34ecb7363c1435ed5e976832ac3f335f221788709909486fad8850480019
size 504395
