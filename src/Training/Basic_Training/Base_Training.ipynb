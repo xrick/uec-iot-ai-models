version https://git-lfs.github.com/spec/v1
oid sha256:058ce9c5abbae3c59e8efa22a137abf11e35e8b4e2af73498b40914c81c99e9f
size 53208
