version https://git-lfs.github.com/spec/v1
oid sha256:b8672ae745e0fd75b19ae0f35d124f45a0e4da874e0ed3459a9477f39342ee80
size 304192
