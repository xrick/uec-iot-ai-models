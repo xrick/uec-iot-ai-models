version https://git-lfs.github.com/spec/v1
oid sha256:8e847af0955e15eb6300372eeee4c5909fe6f9e1aaaa021eace94401fe95e049
size 484356
