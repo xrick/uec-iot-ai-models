version https://git-lfs.github.com/spec/v1
oid sha256:66d8f7d7cea1cb362eecded2b18a4b1f30122c102c540458e43748f6190a97d9
size 318568
