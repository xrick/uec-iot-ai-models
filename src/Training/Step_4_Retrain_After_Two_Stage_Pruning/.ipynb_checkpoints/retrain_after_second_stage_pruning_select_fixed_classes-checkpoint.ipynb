version https://git-lfs.github.com/spec/v1
oid sha256:b1ceeaaa1fa73c87b4f0bc140e02ce6d64f3a6c92b9e746d431b90b696d170a6
size 304240
