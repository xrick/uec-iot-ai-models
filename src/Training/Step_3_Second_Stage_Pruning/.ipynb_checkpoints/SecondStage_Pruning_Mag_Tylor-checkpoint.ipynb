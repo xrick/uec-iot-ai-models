version https://git-lfs.github.com/spec/v1
oid sha256:86dc70c506cc0df01017a4ca6549d80f8b0eaf85be71286fb3dda1107df71308
size 824138
