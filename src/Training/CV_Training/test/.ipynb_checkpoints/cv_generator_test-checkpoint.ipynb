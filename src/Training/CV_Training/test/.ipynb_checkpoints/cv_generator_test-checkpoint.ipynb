{
 "cells": [
  {
   "cell_type": "code",
   "execution_count": 2,
   "id": "01cfa8a7-b8e4-4e39-ac30-1d158b62e4a8",
   "metadata": {},
   "outputs": [],
   "source": [
    "import os;\n",
    "import sys;\n",
    "import numpy as np;\n",
    "import random;"
   ]
  },
  {
   "cell_type": "code",
   "execution_count": null,
   "id": "f696437e-fe35-4086-80d8-dbf1e4746a05",
   "metadata": {},
   "outputs": [],
   "source": []
  },
  {
   "cell_type": "code",
   "execution_count": null,
   "id": "128b094d-4169-4361-8e31-425737848043",
   "metadata": {},
   "outputs": [],
   "source": []
  }
 ],
 "metadata": {
  "kernelspec": {
   "display_name": "Python 3 (ipykernel)",
   "language": "python",
   "name": "python3"
  },
  "language_info": {
   "codemirror_mode": {
    "name": "ipython",
    "version": 3
   },
   "file_extension": ".py",
   "mimetype": "text/x-python",
   "name": "python",
   "nbconvert_exporter": "python",
   "pygments_lexer": "ipython3",
   "version": "3.10.12"
  }
 },
 "nbformat": 4,
 "nbformat_minor": 5
}
