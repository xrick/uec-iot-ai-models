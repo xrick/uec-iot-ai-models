version https://git-lfs.github.com/spec/v1
oid sha256:fc06b450bd26638a7f2d0371b166c241a6014c23c1fe22f4c60ab9ab7c76951d
size 1036
