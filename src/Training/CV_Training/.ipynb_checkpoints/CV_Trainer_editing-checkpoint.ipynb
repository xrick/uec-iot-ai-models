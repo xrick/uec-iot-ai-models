version https://git-lfs.github.com/spec/v1
oid sha256:5ff61ba27dced7c0a632e04d64d9865c8c997a7f46969ea0cc46173d3df1b388
size 53205
