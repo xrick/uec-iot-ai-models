version https://git-lfs.github.com/spec/v1
oid sha256:ffb7c5c461e71ad3f9449ccd502437692504f4a2c11f564b23dfeecd4d431520
size 62204
