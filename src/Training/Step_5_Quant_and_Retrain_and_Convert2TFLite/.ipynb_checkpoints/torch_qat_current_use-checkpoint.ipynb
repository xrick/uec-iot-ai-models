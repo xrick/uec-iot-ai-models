version https://git-lfs.github.com/spec/v1
oid sha256:72f7de1e87cea3357af72fef54bc8655e319273eeff6ac58f5f3cf709b2fed85
size 55141
