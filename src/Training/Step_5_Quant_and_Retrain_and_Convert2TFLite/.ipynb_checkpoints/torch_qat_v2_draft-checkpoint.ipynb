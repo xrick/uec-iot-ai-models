version https://git-lfs.github.com/spec/v1
oid sha256:dcfa31791f68605361cc057641260f2722894bc670ea5f6141ea0abdf0e74378
size 135474
