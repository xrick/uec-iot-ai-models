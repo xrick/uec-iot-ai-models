version https://git-lfs.github.com/spec/v1
oid sha256:ce34817565ece6c693719178bef5f9cc9b4dd2e761c9f12eb1c45c8b6324b566
size 3622966
