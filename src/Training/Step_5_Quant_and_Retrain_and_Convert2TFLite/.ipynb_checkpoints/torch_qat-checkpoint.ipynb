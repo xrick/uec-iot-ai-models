version https://git-lfs.github.com/spec/v1
oid sha256:5a17649aefe99b5a20864fbc95848e3549eec01a1bd511ad2326e84647f12086
size 4080328
