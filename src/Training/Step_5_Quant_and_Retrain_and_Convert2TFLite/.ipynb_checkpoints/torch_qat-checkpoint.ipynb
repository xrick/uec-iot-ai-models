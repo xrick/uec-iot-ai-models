version https://git-lfs.github.com/spec/v1
oid sha256:72fe89f6b7f59ccb9ce3381b3c8d66b1e5f55944125fc1a1b3bb4897cf95644f
size 134945
