version https://git-lfs.github.com/spec/v1
oid sha256:eca15af706fbc665305bfbe4d44a01d5e824895a5edc4cac5c38092f2ff82105
size 53573
