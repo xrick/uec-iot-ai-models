version https://git-lfs.github.com/spec/v1
oid sha256:0560788d120739a4333a945f56535d299fd002094569b99de1ff101b0bea8865
size 48225
