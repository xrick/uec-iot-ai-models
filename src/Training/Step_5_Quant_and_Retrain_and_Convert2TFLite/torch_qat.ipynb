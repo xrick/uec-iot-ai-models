version https://git-lfs.github.com/spec/v1
oid sha256:7717a0bbd42eb1f4180923f70bf9c64a9779f12394d318a5e5331c62da010df7
size 4080536
