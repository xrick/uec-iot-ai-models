version https://git-lfs.github.com/spec/v1
oid sha256:3e6596f2ab6a2f3882210c16e0e7f00a45a31398779c7dbde40a89aabd9727e5
size 59438
