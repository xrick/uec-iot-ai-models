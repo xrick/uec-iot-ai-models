version https://git-lfs.github.com/spec/v1
oid sha256:689e5248c794ce8186f8abf2d5b6552a94c34b569b2e8f6b8d030da11534182b
size 46142
