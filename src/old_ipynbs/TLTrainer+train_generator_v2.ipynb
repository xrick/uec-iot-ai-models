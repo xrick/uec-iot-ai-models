version https://git-lfs.github.com/spec/v1
oid sha256:d35f583684718480ab1269eda86f53165eb190b7833e1b2172c5d567e8ef462e
size 28300
