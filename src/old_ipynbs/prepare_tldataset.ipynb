{
 "cells": [
  {
   "cell_type": "code",
   "execution_count": 1,
   "id": "06f1904b-f659-48aa-ae6a-6238877d1c37",
   "metadata": {},
   "outputs": [],
   "source": [
    "import sys\n",
    "import os\n",
    "import subprocess\n",
    "import glob\n",
    "import numpy as np\n",
    "import wavio"
   ]
  },
  {
   "cell_type": "code",
   "execution_count": null,
   "id": "3a795603-c88e-4072-a563-30930c43874f",
   "metadata": {},
   "outputs": [],
   "source": []
  },
  {
   "cell_type": "code",
   "execution_count": 2,
   "id": "d444a865-2dc1-4fdc-993f-25b7a596ee0e",
   "metadata": {},
   "outputs": [],
   "source": [
    "def main():\n",
    "    mainDir = os.getcwd();\n",
    "    ueciot10_path = os.path.join(mainDir, 'datasets/processed_data/');\n",
    "    print(ueciot10_path)"
   ]
  },
  {
   "cell_type": "code",
   "execution_count": 3,
   "id": "452d704b-1419-413f-ab3b-91cb1f09fb61",
   "metadata": {},
   "outputs": [
    {
     "name": "stdout",
     "output_type": "stream",
     "text": [
      "/home/ai/RLRepo/Works/Projects/TransferLearning_for_ACDNet/datasets/processed_data/\n"
     ]
    }
   ],
   "source": [
    "main()"
   ]
  },
  {
   "cell_type": "code",
   "execution_count": 6,
   "id": "e1102cc5-6320-4910-b872-a3010eef289b",
   "metadata": {},
   "outputs": [],
   "source": [
    "def create_dataset(src_path, ueciot10_dst_path):\n",
    "    print('* {} -> {}'.format(src_path, ueciot10_dst_path))\n",
    "    fold = 1;\n",
    "    ueciot10_dataset = {};\n",
    "    ueciot10_dataset['fold{}'.format(fold)] = {}\n",
    "    ueciot10_sounds = [];\n",
    "    ueciot10_labels = [];\n",
    "    # for fold in range(1, 6):\n",
    "    #     esc50_dataset['fold{}'.format(fold)] = {}\n",
    "    #     esc50_sounds = []\n",
    "    #     esc50_labels = []\n",
    "   \n",
    "    for wav_file in sorted(glob.glob(os.path.join(src_path, '*.wav'))):\n",
    "        sound = wavio.read(wav_file).data.T[0]\n",
    "        start = sound.nonzero()[0].min()\n",
    "        end = sound.nonzero()[0].max()\n",
    "        sound = sound[start: end + 1]  # Remove silent sections\n",
    "        label = int(os.path.splitext(wav_file)[0].split('-')[-1])\n",
    "        ueciot10_sounds.append(sound)\n",
    "        ueciot10_labels.append(label)\n",
    "\n",
    "    ueciot10_dataset['fold{}'.format(fold)]['sounds'] = ueciot10_sounds\n",
    "    ueciot10_dataset['fold{}'.format(fold)]['labels'] = ueciot10_labels\n",
    "    print(ueciot10_dataset)\n",
    "    print(\"ueciot10 sounds:\\n\")\n",
    "    print(ueciot10_dataset[\"fold1\"][\"sounds\"])\n",
    "    print(ueciot10_dataset[\"fold1\"][\"labels\"])\n",
    "    # np.savez(ueciot10_dst_path, **ueciot10_dataset)"
   ]
  },
  {
   "cell_type": "code",
   "execution_count": null,
   "id": "bda3f770-5c2f-4f86-a167-8625ddcd5598",
   "metadata": {},
   "outputs": [],
   "source": []
  },
  {
   "cell_type": "code",
   "execution_count": 7,
   "id": "a05b75c3-2759-4a41-97bb-fd9293c6c1ac",
   "metadata": {},
   "outputs": [
    {
     "name": "stdout",
     "output_type": "stream",
     "text": [
      "* /home/ai/RLRepo/Works/Projects/TransferLearning_for_ACDNet/datasets/processed_data/ -> /home/ai/RLRepo/Works/Projects/TransferLearning_for_ACDNet/datasets/fold1_dataset.npz\n",
      "{'fold1': {'sounds': [array([ 9, 13, 12, ...,  1, -2,  3], dtype=int16), array([23, 33, 27, ...,  3, -2,  1], dtype=int16), array([ 1014,  2463,  3078, ..., -2434,  -288,  -856], dtype=int16), array([1270, 1772,  393, ...,  569,  108,  375], dtype=int16), array([   1,   -2,    2, ..., -102, 1588,  410], dtype=int16), array([ 6385, 10049,  9317, ...,     4,    -3,     2], dtype=int16), array([  -64,  -106,   -90, ..., -1232,  -136,   -64], dtype=int16), array([ -866, -1542, -1351, ...,  -106,   458,  1446], dtype=int16), array([-525, -608, -833, ...,    0,   -1,    1], dtype=int16), array([-1278, -2428, -1198, ...,     1,    -2,     2], dtype=int16), array([ 350, 1396, -109, ...,   -1,    2,   -3], dtype=int16), array([-122, -240, -234, ..., 2075, 1708, 1518], dtype=int16), array([  114,   205,   171, ...,  -786, -1821, -1967], dtype=int16), array([  210, -1054, -3884, ...,     2,    -3,     1], dtype=int16), array([1709, 3420, 2089, ...,  -11,   23,   56], dtype=int16), array([ -911, -1699, -1253, ..., -3230, -4090, -3104], dtype=int16), array([ 1656,  1591,  1102, ..., 16145, 13644, 11154], dtype=int16), array([ 167,  194,   46, ..., -167,  148,  958], dtype=int16), array([-1053, -3121, -3754, ...,     0,    -1,     1], dtype=int16), array([ 57,  62,  31, ...,  55, -97,  93], dtype=int16), array([-48,  62,  37, ..., 200, 301, 289], dtype=int16), array([-120,    4, -241, ...,   29,   88,   75], dtype=int16), array([  76,  296,  151, ..., -906, -522, -186], dtype=int16), array([ 178,  231,  248, ..., 1043, 1303, 1579], dtype=int16), array([-240,  299,  354, ..., -890, -482, -193], dtype=int16), array([-215,   20,  190, ..., -309, -805, -437], dtype=int16), array([   88,  -152,   211, ..., -1130, -2074, -2368], dtype=int16), array([-1637, -1463,  -560, ...,  -835,  -671,  -339], dtype=int16), array([116, 284, 611, ..., 653, 732, 800], dtype=int16), array([729, 904, 608, ...,  48,  63, -31], dtype=int16), array([ 1, -2,  2, ...,  2,  2,  3], dtype=int16), array([   -57,    -97,    -20, ...,   3327,  -4667, -10132], dtype=int16), array([   1,   -1,    1, ..., 2388, 2991, 4331], dtype=int16), array([ 3696,   754, -8960, ...,  2093,  2289,  3611], dtype=int16), array([-5253, -7405, -2434, ...,   952, -2532, -9560], dtype=int16), array([ -3650,   2117,  13258, ...,  -1748,  -7081, -11530], dtype=int16), array([ -9203, -10348,  -4406, ...,  -5230,  -6717,  -7838], dtype=int16), array([-5591, -8187, -6228, ...,  2793,  6928,  2294], dtype=int16), array([    1,    -2,     3, ..., -8029,  -945,  6516], dtype=int16), array([  657, -2069, -5503, ..., -1092,  -372,    -9], dtype=int16), array([ -250,  -357,  -282, ..., -1452,  1394,  3816], dtype=int16), array([ -267, -4263,    27, ...,     4, -1156,   524], dtype=int16), array([ -737, -1698,  1797, ...,   328, -1433,   394], dtype=int16), array([ -121, -2142,  1337, ...,  -422,  -410,  -431], dtype=int16), array([3, 2, 1, ..., 0, 1, 2], dtype=int16), array([-2,  0,  1, ...,  6, -8, -7], dtype=int16), array([-2, -6, -2, ...,  1,  4, -5], dtype=int16), array([ 1, -2,  2, ...,  0,  1, -1], dtype=int16), array([  -48,   -19,    34, ...,   105, -2647,  -586], dtype=int16), array([ -13, -349,  299, ..., 2904, 3847, 6593], dtype=int16), array([   1,   -2,    3, ..., -468,    5, -144], dtype=int16), array([-184, -193,  -57, ...,  126,  161,  143], dtype=int16), array([ 128,  248,  353, ..., 1811, 2488, 1694], dtype=int16), array([-201, 1599, 2848, ..., -133, -153, -116], dtype=int16), array([-141, -464,    8, ..., -159, -329,  155], dtype=int16), array([ 252, -189, -314, ..., -277,   87,  582], dtype=int16), array([ -978, -1908,  4746, ...,  2315,   742,   818], dtype=int16), array([  4441,   1315,  -7105, ...,  -9766, -16112,  -2806], dtype=int16), array([ 163,  192,   42, ...,  815, 1515,  556], dtype=int16), array([  174,   574,   281, ..., -1531,   847, -1377], dtype=int16), array([  354,   374,   254, ...,  3833, -4885, -5995], dtype=int16), array([ 2036,  7425,  2545, ..., -9850, -7301,  -146], dtype=int16), array([  5681,   9406,   3401, ...,  17643,   8258, -10159], dtype=int16), array([-13111,  -8285,   6896, ...,  22189,  19730, -11242], dtype=int16), array([-22368, -14231,  11438, ...,    153,    154,     57], dtype=int16)], 'labels': [24, 24, 18, 18, 18, 24, 18, 18, 24, 24, 24, 18, 18, 24, 24, 18, 18, 18, 24, 53, 53, 53, 53, 53, 53, 53, 53, 53, 53, 53, 24, 52, 52, 52, 52, 52, 52, 52, 52, 52, 52, 52, 52, 52, 17, 17, 17, 17, 17, 17, 17, 17, 17, 17, 51, 51, 51, 51, 51, 51, 51, 51, 51, 51, 51]}}\n",
      "ueciot10 sounds:\n",
      "\n",
      "[array([ 9, 13, 12, ...,  1, -2,  3], dtype=int16), array([23, 33, 27, ...,  3, -2,  1], dtype=int16), array([ 1014,  2463,  3078, ..., -2434,  -288,  -856], dtype=int16), array([1270, 1772,  393, ...,  569,  108,  375], dtype=int16), array([   1,   -2,    2, ..., -102, 1588,  410], dtype=int16), array([ 6385, 10049,  9317, ...,     4,    -3,     2], dtype=int16), array([  -64,  -106,   -90, ..., -1232,  -136,   -64], dtype=int16), array([ -866, -1542, -1351, ...,  -106,   458,  1446], dtype=int16), array([-525, -608, -833, ...,    0,   -1,    1], dtype=int16), array([-1278, -2428, -1198, ...,     1,    -2,     2], dtype=int16), array([ 350, 1396, -109, ...,   -1,    2,   -3], dtype=int16), array([-122, -240, -234, ..., 2075, 1708, 1518], dtype=int16), array([  114,   205,   171, ...,  -786, -1821, -1967], dtype=int16), array([  210, -1054, -3884, ...,     2,    -3,     1], dtype=int16), array([1709, 3420, 2089, ...,  -11,   23,   56], dtype=int16), array([ -911, -1699, -1253, ..., -3230, -4090, -3104], dtype=int16), array([ 1656,  1591,  1102, ..., 16145, 13644, 11154], dtype=int16), array([ 167,  194,   46, ..., -167,  148,  958], dtype=int16), array([-1053, -3121, -3754, ...,     0,    -1,     1], dtype=int16), array([ 57,  62,  31, ...,  55, -97,  93], dtype=int16), array([-48,  62,  37, ..., 200, 301, 289], dtype=int16), array([-120,    4, -241, ...,   29,   88,   75], dtype=int16), array([  76,  296,  151, ..., -906, -522, -186], dtype=int16), array([ 178,  231,  248, ..., 1043, 1303, 1579], dtype=int16), array([-240,  299,  354, ..., -890, -482, -193], dtype=int16), array([-215,   20,  190, ..., -309, -805, -437], dtype=int16), array([   88,  -152,   211, ..., -1130, -2074, -2368], dtype=int16), array([-1637, -1463,  -560, ...,  -835,  -671,  -339], dtype=int16), array([116, 284, 611, ..., 653, 732, 800], dtype=int16), array([729, 904, 608, ...,  48,  63, -31], dtype=int16), array([ 1, -2,  2, ...,  2,  2,  3], dtype=int16), array([   -57,    -97,    -20, ...,   3327,  -4667, -10132], dtype=int16), array([   1,   -1,    1, ..., 2388, 2991, 4331], dtype=int16), array([ 3696,   754, -8960, ...,  2093,  2289,  3611], dtype=int16), array([-5253, -7405, -2434, ...,   952, -2532, -9560], dtype=int16), array([ -3650,   2117,  13258, ...,  -1748,  -7081, -11530], dtype=int16), array([ -9203, -10348,  -4406, ...,  -5230,  -6717,  -7838], dtype=int16), array([-5591, -8187, -6228, ...,  2793,  6928,  2294], dtype=int16), array([    1,    -2,     3, ..., -8029,  -945,  6516], dtype=int16), array([  657, -2069, -5503, ..., -1092,  -372,    -9], dtype=int16), array([ -250,  -357,  -282, ..., -1452,  1394,  3816], dtype=int16), array([ -267, -4263,    27, ...,     4, -1156,   524], dtype=int16), array([ -737, -1698,  1797, ...,   328, -1433,   394], dtype=int16), array([ -121, -2142,  1337, ...,  -422,  -410,  -431], dtype=int16), array([3, 2, 1, ..., 0, 1, 2], dtype=int16), array([-2,  0,  1, ...,  6, -8, -7], dtype=int16), array([-2, -6, -2, ...,  1,  4, -5], dtype=int16), array([ 1, -2,  2, ...,  0,  1, -1], dtype=int16), array([  -48,   -19,    34, ...,   105, -2647,  -586], dtype=int16), array([ -13, -349,  299, ..., 2904, 3847, 6593], dtype=int16), array([   1,   -2,    3, ..., -468,    5, -144], dtype=int16), array([-184, -193,  -57, ...,  126,  161,  143], dtype=int16), array([ 128,  248,  353, ..., 1811, 2488, 1694], dtype=int16), array([-201, 1599, 2848, ..., -133, -153, -116], dtype=int16), array([-141, -464,    8, ..., -159, -329,  155], dtype=int16), array([ 252, -189, -314, ..., -277,   87,  582], dtype=int16), array([ -978, -1908,  4746, ...,  2315,   742,   818], dtype=int16), array([  4441,   1315,  -7105, ...,  -9766, -16112,  -2806], dtype=int16), array([ 163,  192,   42, ...,  815, 1515,  556], dtype=int16), array([  174,   574,   281, ..., -1531,   847, -1377], dtype=int16), array([  354,   374,   254, ...,  3833, -4885, -5995], dtype=int16), array([ 2036,  7425,  2545, ..., -9850, -7301,  -146], dtype=int16), array([  5681,   9406,   3401, ...,  17643,   8258, -10159], dtype=int16), array([-13111,  -8285,   6896, ...,  22189,  19730, -11242], dtype=int16), array([-22368, -14231,  11438, ...,    153,    154,     57], dtype=int16)]\n",
      "[24, 24, 18, 18, 18, 24, 18, 18, 24, 24, 24, 18, 18, 24, 24, 18, 18, 18, 24, 53, 53, 53, 53, 53, 53, 53, 53, 53, 53, 53, 24, 52, 52, 52, 52, 52, 52, 52, 52, 52, 52, 52, 52, 52, 17, 17, 17, 17, 17, 17, 17, 17, 17, 17, 51, 51, 51, 51, 51, 51, 51, 51, 51, 51, 51]\n"
     ]
    }
   ],
   "source": [
    "_src_path = \"/home/ai/RLRepo/Works/Projects/TransferLearning_for_ACDNet/datasets/processed_data/\"\n",
    "_dest_path = \"/home/ai/RLRepo/Works/Projects/TransferLearning_for_ACDNet/datasets/fold1_dataset.npz\"\n",
    "create_dataset(_src_path, _dest_path)\n",
    "\n",
    "# if __name__ == '__main__':\n",
    "#     main()"
   ]
  },
  {
   "cell_type": "code",
   "execution_count": 4,
   "id": "c5bb2ac0-6000-492c-8d67-81de1a3f3c18",
   "metadata": {},
   "outputs": [
    {
     "data": {
      "text/plain": [
       "['/home/ai/RLRepo/Works/Projects/TransferLearning_for_ACDNet/datasets/processed_data/1-19111-A-24.wav',\n",
       " '/home/ai/RLRepo/Works/Projects/TransferLearning_for_ACDNet/datasets/processed_data/1-19118-A-24.wav',\n",
       " '/home/ai/RLRepo/Works/Projects/TransferLearning_for_ACDNet/datasets/processed_data/1-20736-A-18.wav',\n",
       " '/home/ai/RLRepo/Works/Projects/TransferLearning_for_ACDNet/datasets/processed_data/1-28005-A-18.wav',\n",
       " '/home/ai/RLRepo/Works/Projects/TransferLearning_for_ACDNet/datasets/processed_data/1-30214-A-18.wav',\n",
       " '/home/ai/RLRepo/Works/Projects/TransferLearning_for_ACDNet/datasets/processed_data/1-30830-A-24.wav',\n",
       " '/home/ai/RLRepo/Works/Projects/TransferLearning_for_ACDNet/datasets/processed_data/1-46274-A-18.wav',\n",
       " '/home/ai/RLRepo/Works/Projects/TransferLearning_for_ACDNet/datasets/processed_data/1-51170-A-18.wav',\n",
       " '/home/ai/RLRepo/Works/Projects/TransferLearning_for_ACDNet/datasets/processed_data/1-52266-A-24.wav',\n",
       " '/home/ai/RLRepo/Works/Projects/TransferLearning_for_ACDNet/datasets/processed_data/1-52323-A-24.wav',\n",
       " '/home/ai/RLRepo/Works/Projects/TransferLearning_for_ACDNet/datasets/processed_data/1-53663-A-24.wav',\n",
       " '/home/ai/RLRepo/Works/Projects/TransferLearning_for_ACDNet/datasets/processed_data/1-53670-A-18.wav',\n",
       " '/home/ai/RLRepo/Works/Projects/TransferLearning_for_ACDNet/datasets/processed_data/1-54752-A-18.wav',\n",
       " '/home/ai/RLRepo/Works/Projects/TransferLearning_for_ACDNet/datasets/processed_data/1-58792-A-24.wav',\n",
       " '/home/ai/RLRepo/Works/Projects/TransferLearning_for_ACDNet/datasets/processed_data/1-63679-A-24.wav',\n",
       " '/home/ai/RLRepo/Works/Projects/TransferLearning_for_ACDNet/datasets/processed_data/2-64332-A-18.wav',\n",
       " '/home/ai/RLRepo/Works/Projects/TransferLearning_for_ACDNet/datasets/processed_data/2-67422-A-18.wav',\n",
       " '/home/ai/RLRepo/Works/Projects/TransferLearning_for_ACDNet/datasets/processed_data/2-70280-A-18.wav',\n",
       " '/home/ai/RLRepo/Works/Projects/TransferLearning_for_ACDNet/datasets/processed_data/4-155650-B-24.wav',\n",
       " '/home/ai/RLRepo/Works/Projects/TransferLearning_for_ACDNet/datasets/processed_data/boiling_water_1_1-53.wav',\n",
       " '/home/ai/RLRepo/Works/Projects/TransferLearning_for_ACDNet/datasets/processed_data/boiling_water_1_2-53.wav',\n",
       " '/home/ai/RLRepo/Works/Projects/TransferLearning_for_ACDNet/datasets/processed_data/boiling_water_1_3-53.wav',\n",
       " '/home/ai/RLRepo/Works/Projects/TransferLearning_for_ACDNet/datasets/processed_data/boiling_water_2_1-53.wav',\n",
       " '/home/ai/RLRepo/Works/Projects/TransferLearning_for_ACDNet/datasets/processed_data/boiling_water_2_2-53.wav',\n",
       " '/home/ai/RLRepo/Works/Projects/TransferLearning_for_ACDNet/datasets/processed_data/boiling_water_2_3-53.wav',\n",
       " '/home/ai/RLRepo/Works/Projects/TransferLearning_for_ACDNet/datasets/processed_data/boiling_water_2_4-53.wav',\n",
       " '/home/ai/RLRepo/Works/Projects/TransferLearning_for_ACDNet/datasets/processed_data/boiling_water_2_5-53.wav',\n",
       " '/home/ai/RLRepo/Works/Projects/TransferLearning_for_ACDNet/datasets/processed_data/boiling_water_2_6-53.wav',\n",
       " '/home/ai/RLRepo/Works/Projects/TransferLearning_for_ACDNet/datasets/processed_data/boiling_water_2_7-53.wav',\n",
       " '/home/ai/RLRepo/Works/Projects/TransferLearning_for_ACDNet/datasets/processed_data/boiling_water_2_8-53.wav',\n",
       " '/home/ai/RLRepo/Works/Projects/TransferLearning_for_ACDNet/datasets/processed_data/coughing_81088-24.wav',\n",
       " '/home/ai/RLRepo/Works/Projects/TransferLearning_for_ACDNet/datasets/processed_data/fire_alarm_1_1-52.wav',\n",
       " '/home/ai/RLRepo/Works/Projects/TransferLearning_for_ACDNet/datasets/processed_data/fire_alarm_1_2-52.wav',\n",
       " '/home/ai/RLRepo/Works/Projects/TransferLearning_for_ACDNet/datasets/processed_data/fire_alarm_1_3-52.wav',\n",
       " '/home/ai/RLRepo/Works/Projects/TransferLearning_for_ACDNet/datasets/processed_data/fire_alarm_1_4-52.wav',\n",
       " '/home/ai/RLRepo/Works/Projects/TransferLearning_for_ACDNet/datasets/processed_data/fire_alarm_1_5-52.wav',\n",
       " '/home/ai/RLRepo/Works/Projects/TransferLearning_for_ACDNet/datasets/processed_data/fire_alarm_1_6-52.wav',\n",
       " '/home/ai/RLRepo/Works/Projects/TransferLearning_for_ACDNet/datasets/processed_data/fire_alarm_1_7-52.wav',\n",
       " '/home/ai/RLRepo/Works/Projects/TransferLearning_for_ACDNet/datasets/processed_data/fire_alarm_2_1-52.wav',\n",
       " '/home/ai/RLRepo/Works/Projects/TransferLearning_for_ACDNet/datasets/processed_data/fire_alarm_2_2-52.wav',\n",
       " '/home/ai/RLRepo/Works/Projects/TransferLearning_for_ACDNet/datasets/processed_data/fire_alarm_2_3-52.wav',\n",
       " '/home/ai/RLRepo/Works/Projects/TransferLearning_for_ACDNet/datasets/processed_data/fire_alarm_2_4-52.wav',\n",
       " '/home/ai/RLRepo/Works/Projects/TransferLearning_for_ACDNet/datasets/processed_data/fire_alarm_2_5-52.wav',\n",
       " '/home/ai/RLRepo/Works/Projects/TransferLearning_for_ACDNet/datasets/processed_data/fire_alarm_2_6-52.wav',\n",
       " '/home/ai/RLRepo/Works/Projects/TransferLearning_for_ACDNet/datasets/processed_data/pouring_water_1_1-17.wav',\n",
       " '/home/ai/RLRepo/Works/Projects/TransferLearning_for_ACDNet/datasets/processed_data/pouring_water_1_2-17.wav',\n",
       " '/home/ai/RLRepo/Works/Projects/TransferLearning_for_ACDNet/datasets/processed_data/pouring_water_1_3-17.wav',\n",
       " '/home/ai/RLRepo/Works/Projects/TransferLearning_for_ACDNet/datasets/processed_data/pouring_water_1_4-17.wav',\n",
       " '/home/ai/RLRepo/Works/Projects/TransferLearning_for_ACDNet/datasets/processed_data/pouring_water_2_1-17.wav',\n",
       " '/home/ai/RLRepo/Works/Projects/TransferLearning_for_ACDNet/datasets/processed_data/pouring_water_2_2-17.wav',\n",
       " '/home/ai/RLRepo/Works/Projects/TransferLearning_for_ACDNet/datasets/processed_data/pouring_water_3_1-17.wav',\n",
       " '/home/ai/RLRepo/Works/Projects/TransferLearning_for_ACDNet/datasets/processed_data/pouring_water_4_1-17.wav',\n",
       " '/home/ai/RLRepo/Works/Projects/TransferLearning_for_ACDNet/datasets/processed_data/pouring_water_4_2-17.wav',\n",
       " '/home/ai/RLRepo/Works/Projects/TransferLearning_for_ACDNet/datasets/processed_data/pouring_water_4_3-17.wav',\n",
       " '/home/ai/RLRepo/Works/Projects/TransferLearning_for_ACDNet/datasets/processed_data/tea_kettle_whistling_69415-51.wav',\n",
       " '/home/ai/RLRepo/Works/Projects/TransferLearning_for_ACDNet/datasets/processed_data/tea_kettle_whistling_69415_2-51.wav',\n",
       " '/home/ai/RLRepo/Works/Projects/TransferLearning_for_ACDNet/datasets/processed_data/whistling_kettle_1_1-51.wav',\n",
       " '/home/ai/RLRepo/Works/Projects/TransferLearning_for_ACDNet/datasets/processed_data/whistling_kettle_1_2-51.wav',\n",
       " '/home/ai/RLRepo/Works/Projects/TransferLearning_for_ACDNet/datasets/processed_data/whistling_kettle_1_3-51.wav',\n",
       " '/home/ai/RLRepo/Works/Projects/TransferLearning_for_ACDNet/datasets/processed_data/whistling_kettle_1_4-51.wav',\n",
       " '/home/ai/RLRepo/Works/Projects/TransferLearning_for_ACDNet/datasets/processed_data/whistling_kettle_2_1-51.wav',\n",
       " '/home/ai/RLRepo/Works/Projects/TransferLearning_for_ACDNet/datasets/processed_data/whistling_kettle_2_2-51.wav',\n",
       " '/home/ai/RLRepo/Works/Projects/TransferLearning_for_ACDNet/datasets/processed_data/whistling_kettle_2_3-51.wav',\n",
       " '/home/ai/RLRepo/Works/Projects/TransferLearning_for_ACDNet/datasets/processed_data/whistling_kettle_2_4-51.wav',\n",
       " '/home/ai/RLRepo/Works/Projects/TransferLearning_for_ACDNet/datasets/processed_data/whistling_kettle_2_5-51.wav']"
      ]
     },
     "execution_count": 4,
     "metadata": {},
     "output_type": "execute_result"
    }
   ],
   "source": [
    "_src_path = \"/home/ai/RLRepo/Works/Projects/TransferLearning_for_ACDNet/datasets/processed_data/\"\n",
    "# sorted(glob.glob(os.path.join(_src_path, '*.wav')))"
   ]
  },
  {
   "cell_type": "code",
   "execution_count": null,
   "id": "6179aa33-d102-43e1-9c4d-162711aacab4",
   "metadata": {},
   "outputs": [],
   "source": []
  }
 ],
 "metadata": {
  "kernelspec": {
   "display_name": "Python 3 (ipykernel)",
   "language": "python",
   "name": "python3"
  },
  "language_info": {
   "codemirror_mode": {
    "name": "ipython",
    "version": 3
   },
   "file_extension": ".py",
   "mimetype": "text/x-python",
   "name": "python",
   "nbconvert_exporter": "python",
   "pygments_lexer": "ipython3",
   "version": "3.10.12"
  }
 },
 "nbformat": 4,
 "nbformat_minor": 5
}
