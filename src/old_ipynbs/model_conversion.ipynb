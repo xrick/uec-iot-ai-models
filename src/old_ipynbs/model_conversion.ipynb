{
 "cells": [
  {
   "cell_type": "code",
   "execution_count": 1,
   "id": "f275abf6-361c-4272-9e5c-23d62e434b37",
   "metadata": {},
   "outputs": [
    {
     "name": "stdout",
     "output_type": "stream",
     "text": [
      "WARNING:tensorflow:From C:\\Users\\UEC\\AppData\\Roaming\\Python\\Python310\\site-packages\\keras\\src\\losses.py:2976: The name tf.losses.sparse_softmax_cross_entropy is deprecated. Please use tf.compat.v1.losses.sparse_softmax_cross_entropy instead.\n",
      "\n"
     ]
    },
    {
     "name": "stderr",
     "output_type": "stream",
     "text": [
      "TensorFlow version 2.15.0 has not been tested with coremltools. You may run into unexpected errors. TensorFlow 2.12.0 is the most recent version that has been tested.\n",
      "Torch version 2.1.1+cpu has not been tested with coremltools. You may run into unexpected errors. Torch 2.1.0 is the most recent version that has been tested.\n",
      "Fail to import BlobReader from libmilstoragepython. No module named 'coremltools.libmilstoragepython'\n",
      "Fail to import BlobWriter from libmilstoragepython. No module named 'coremltools.libmilstoragepython'\n"
     ]
    }
   ],
   "source": [
    "import os\n",
    "import sys\n",
    "import coremltools as ct\n",
    "from tensorflow import keras;\n",
    "import tensorflow as tf"
   ]
  },
  {
   "cell_type": "markdown",
   "id": "7cf87955-55e0-41b7-b619-7321ad88e1ed",
   "metadata": {},
   "source": [
    "## Using Apple CoreML-Tools to Convert keras model to mlmodel"
   ]
  },
  {
   "cell_type": "code",
   "execution_count": 6,
   "id": "2b374290-8d7a-4e61-b1bc-f40645ac2a3b",
   "metadata": {},
   "outputs": [
    {
     "name": "stderr",
     "output_type": "stream",
     "text": [
      "Running TensorFlow Graph Passes: 100%|███████████████████████████████████████████████████████████████████████████████████████████████████████████████████| 6/6 [00:00<00:00, 42.09 passes/s]\n",
      "Converting TF Frontend ==> MIL Ops: 100%|█████████████████████████████████████████████████████████████████████████████████████████████████████████████| 118/118 [00:00<00:00, 2142.02 ops/s]\n",
      "Running MIL frontend_tensorflow2 pipeline: 100%|████████████████████████████████████████████████████████████████████████████████████████████████████████| 7/7 [00:00<00:00, 863.30 passes/s]\n",
      "Running MIL default pipeline: 100%|███████████████████████████████████████████████████████████████████████████████████████████████████████████████████| 69/69 [00:00<00:00, 328.16 passes/s]\n",
      "Running MIL backend_neuralnetwork pipeline: 100%|██████████████████████████████████████████████████████████████████████████████████████████████████████| 9/9 [00:00<00:00, 1767.26 passes/s]\n",
      "Translating MIL ==> NeuralNetwork Ops: 100%|█████████████████████████████████████████████████████████████████████████████████████████████████████████| 167/167 [00:00<00:00, 15073.46 ops/s]\n"
     ]
    }
   ],
   "source": [
    "keras_model = keras.models.load_model(\"./tf/trained_models/acdnet_tl_model.h5\")\n",
    "mlmodel = ct.convert(keras_model,convert_to='neuralnetwork')"
   ]
  },
  {
   "cell_type": "code",
   "execution_count": 7,
   "id": "7dc5bde5-d158-4880-a9fe-a513cb5d4e8d",
   "metadata": {},
   "outputs": [
    {
     "name": "stdout",
     "output_type": "stream",
     "text": [
      "<class 'coremltools.models.model.MLModel'>\n"
     ]
    }
   ],
   "source": [
    "print(type(mlmodel))"
   ]
  },
  {
   "cell_type": "code",
   "execution_count": 8,
   "id": "bb4765b6-dec4-4e8f-b1fd-0ff1d24ee36e",
   "metadata": {},
   "outputs": [
    {
     "name": "stdout",
     "output_type": "stream",
     "text": [
      "model type: neuralNetwork\n"
     ]
    }
   ],
   "source": [
    "spec = mlmodel.get_spec()\n",
    "print(\"model type: {}\".format(spec.WhichOneof('Type')))"
   ]
  },
  {
   "cell_type": "code",
   "execution_count": 12,
   "id": "33026382-500a-4343-a931-2db392acdba8",
   "metadata": {},
   "outputs": [],
   "source": [
    "mlmodel.save(\"acdnet_tl_model.mlmodel\")"
   ]
  },
  {
   "cell_type": "markdown",
   "id": "ddf89811-95e4-45a5-9be0-c61ac720efe6",
   "metadata": {},
   "source": [
    "## Convert keras model to tensorflow savemodel"
   ]
  },
  {
   "cell_type": "code",
   "execution_count": 14,
   "id": "424f47ab-cbd5-4e19-8ff8-eb32e0178db1",
   "metadata": {},
   "outputs": [
    {
     "name": "stdout",
     "output_type": "stream",
     "text": [
      "successfully saved keras model file to tensorflow model file\n"
     ]
    }
   ],
   "source": [
    "tf.saved_model.save(keras_model, \"./tf/trained_models/acdnet_tl_tf_model\")\n",
    "print(\"successfully saved keras model file to tensorflow model file\")"
   ]
  },
  {
   "cell_type": "markdown",
   "id": "48a2da02-974c-4898-b04b-39cc8393bb59",
   "metadata": {},
   "source": [
    "## Convert Keras model to tensorflow ckpt files"
   ]
  },
  {
   "cell_type": "code",
   "execution_count": 2,
   "id": "da23605c-b7d4-48b4-a68f-678d05b756de",
   "metadata": {},
   "outputs": [],
   "source": [
    "# saver = tf.train.Checkpoint()\n",
    "# model = keras.models.load_model('Model.hdf5', compile=False)\n",
    "# sess = tf.compat.v1.keras.backend.get_session()\n",
    "# save_path = saver.save('model.ckpt')\n",
    "saver = tf.train.Checkpoint()\n",
    "model = keras.models.load_model('./tf/trained_models/acdnet_tl_model.h5', compile=False)\n",
    "sess = tf.compat.v1.keras.backend.get_session()\n",
    "save_path = saver.save(\"./tf/trained_models/acdnet_ckpt_files/acdnet_tl_ckpt_model.ckpt\")"
   ]
  },
  {
   "cell_type": "markdown",
   "id": "56544947-90d4-4680-ac56-7da1c76fb213",
   "metadata": {},
   "source": [
    "## Convert tensorflow ckpt model to pytorch model"
   ]
  },
  {
   "cell_type": "code",
   "execution_count": null,
   "id": "8d4d742b-8d75-41a7-83c3-2e52d9045c18",
   "metadata": {},
   "outputs": [],
   "source": []
  }
 ],
 "metadata": {
  "kernelspec": {
   "display_name": "Python 3 (ipykernel)",
   "language": "python",
   "name": "python3"
  },
  "language_info": {
   "codemirror_mode": {
    "name": "ipython",
    "version": 3
   },
   "file_extension": ".py",
   "mimetype": "text/x-python",
   "name": "python",
   "nbconvert_exporter": "python",
   "pygments_lexer": "ipython3",
   "version": "3.10.13"
  }
 },
 "nbformat": 4,
 "nbformat_minor": 5
}
