{
 "cells": [
  {
   "cell_type": "code",
   "execution_count": 1,
   "id": "b1290e9d-7cb7-423b-a50e-66b48694632d",
   "metadata": {},
   "outputs": [],
   "source": [
    "import os;\n",
    "import sys;\n",
    "import numpy as np;\n",
    "import random;\n",
    "# from tensorflow import keras;\n",
    "import glob;\n",
    "import math;\n",
    "import time;"
   ]
  },
  {
   "cell_type": "code",
   "execution_count": 2,
   "id": "db529047-b359-4eb4-8b30-a64070e7d848",
   "metadata": {},
   "outputs": [],
   "source": [
    "sys.path.append(os.getcwd());\n",
    "sys.path.append(os.path.join(os.getcwd(), 'common'));"
   ]
  },
  {
   "cell_type": "code",
   "execution_count": 3,
   "id": "6f201ed7-7f20-48ae-ae0b-829b073d4053",
   "metadata": {},
   "outputs": [
    {
     "name": "stdout",
     "output_type": "stream",
     "text": [
      "WARNING:tensorflow:From C:\\Users\\UEC\\AppData\\Roaming\\Python\\Python310\\site-packages\\keras\\src\\losses.py:2976: The name tf.losses.sparse_softmax_cross_entropy is deprecated. Please use tf.compat.v1.losses.sparse_softmax_cross_entropy instead.\n",
      "\n"
     ]
    }
   ],
   "source": [
    "import common.utils as U;\n",
    "import common.tlopts as tlopts\n",
    "import resources.TLModels as tlmodels;"
   ]
  },
  {
   "cell_type": "code",
   "execution_count": null,
   "id": "d8eb7123-9534-452c-b4f5-c8998ce75af5",
   "metadata": {},
   "outputs": [],
   "source": []
  },
  {
   "cell_type": "code",
   "execution_count": 35,
   "id": "e36da183-2c3a-43b4-8db4-2b9147efc630",
   "metadata": {},
   "outputs": [],
   "source": [
    "original_learning_dataset20 = \"../../../CodeRepo/SED_Repo/ACDNet/acdnet-master/datasets/esc50/wav20.npz\"\n",
    "test_data16 = \"./datasets/fold1_test16000.npz\"\n",
    "test_dataset = np.load(test_data16,allow_pickle=True)\n",
    "dataset20 = np.load(original_learning_dataset20, allow_pickle=True) "
   ]
  },
  {
   "cell_type": "code",
   "execution_count": 36,
   "id": "b26ce6a9-0d04-45da-a96c-17cb8d5ff75e",
   "metadata": {},
   "outputs": [
    {
     "name": "stdout",
     "output_type": "stream",
     "text": [
      "[[[[ 0.0000000e+00]\n",
      "   [ 0.0000000e+00]\n",
      "   [ 0.0000000e+00]\n",
      "   ...\n",
      "   [ 6.1035156e-05]\n",
      "   [ 0.0000000e+00]\n",
      "   [-3.0517578e-05]]]\n",
      "\n",
      "\n",
      " [[[-1.5472412e-02]\n",
      "   [ 9.4604492e-03]\n",
      "   [ 9.6130371e-03]\n",
      "   ...\n",
      "   [-3.0517578e-05]\n",
      "   [ 9.1552734e-05]\n",
      "   [-1.2207031e-04]]]\n",
      "\n",
      "\n",
      " [[[-3.0517578e-05]\n",
      "   [ 6.1035156e-05]\n",
      "   [-6.1035156e-05]\n",
      "   ...\n",
      "   [ 0.0000000e+00]\n",
      "   [-3.0517578e-05]\n",
      "   [ 3.0517578e-05]]]\n",
      "\n",
      "\n",
      " ...\n",
      "\n",
      "\n",
      " [[[ 9.2468262e-03]\n",
      "   [ 5.7067871e-03]\n",
      "   [ 1.1688232e-02]\n",
      "   ...\n",
      "   [-7.6293945e-03]\n",
      "   [ 3.3813477e-02]\n",
      "   [ 3.9916992e-02]]]\n",
      "\n",
      "\n",
      " [[[ 1.0803223e-02]\n",
      "   [-3.5400391e-03]\n",
      "   [-6.9366455e-02]\n",
      "   ...\n",
      "   [ 1.8096924e-02]\n",
      "   [ 2.0782471e-02]\n",
      "   [ 1.2969971e-02]]]\n",
      "\n",
      "\n",
      " [[[ 1.9836426e-02]\n",
      "   [ 2.7069092e-02]\n",
      "   [ 2.6214600e-02]\n",
      "   ...\n",
      "   [ 0.0000000e+00]\n",
      "   [ 0.0000000e+00]\n",
      "   [ 0.0000000e+00]]]]\n"
     ]
    }
   ],
   "source": [
    "# print(f\"type of dataset20['fold1'] is {type(dataset20['fold1'])}\")\n",
    "# print(f\"shape of dataset20['fold1'] is {dataset20['fold1'].}\")\n",
    "print(test_dataset['x'])\n"
   ]
  },
  {
   "cell_type": "code",
   "execution_count": 6,
   "id": "96e950fb-c7ec-478f-9cf7-10643b1dcdf5",
   "metadata": {},
   "outputs": [
    {
     "name": "stdout",
     "output_type": "stream",
     "text": [
      "NpzFile '../../../CodeRepo/SED_Repo/ACDNet/acdnet-master/datasets/esc50/wav20.npz' with keys: fold1, fold2, fold3, fold4, fold5\n"
     ]
    }
   ],
   "source": [
    "print(dataset20)"
   ]
  },
  {
   "cell_type": "code",
   "execution_count": null,
   "id": "3c024da5-6e7d-444f-9569-4e42042d2f02",
   "metadata": {},
   "outputs": [],
   "source": []
  }
 ],
 "metadata": {
  "kernelspec": {
   "display_name": "Python 3 (ipykernel)",
   "language": "python",
   "name": "python3"
  },
  "language_info": {
   "codemirror_mode": {
    "name": "ipython",
    "version": 3
   },
   "file_extension": ".py",
   "mimetype": "text/x-python",
   "name": "python",
   "nbconvert_exporter": "python",
   "pygments_lexer": "ipython3",
   "version": "3.10.13"
  }
 },
 "nbformat": 4,
 "nbformat_minor": 5
}
