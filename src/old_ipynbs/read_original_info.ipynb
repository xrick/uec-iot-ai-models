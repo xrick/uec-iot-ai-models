version https://git-lfs.github.com/spec/v1
oid sha256:d455afb6f41aa3eb91619bd17634a8ad7191f6caf13614c62b22868eb2973d08
size 4789
