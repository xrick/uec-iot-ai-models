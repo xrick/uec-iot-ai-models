version https://git-lfs.github.com/spec/v1
oid sha256:9922d224b60b829968468ee694f291268666c056c80b3ab7744d3d877cdacf28
size 23668
