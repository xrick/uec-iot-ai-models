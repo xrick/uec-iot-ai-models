version https://git-lfs.github.com/spec/v1
oid sha256:338ac3ddb98929ddd9a5c236496ad5705dabb4d56557effc1cff22b2212ec129
size 18055
