{
 "cells": [
  {
   "cell_type": "code",
   "execution_count": 15,
   "id": "960a83b2-c3b1-4259-9f98-fc58f926ad7c",
   "metadata": {
    "scrolled": true
   },
   "outputs": [],
   "source": [
    "import os\n",
    "import sys\n",
    "import wavio\n",
    "import wave\n",
    "# from sox import file_info\n",
    "import struct"
   ]
  },
  {
   "cell_type": "code",
   "execution_count": 16,
   "id": "353938a0-2bcb-4a58-8b40-52d1f505aeec",
   "metadata": {},
   "outputs": [],
   "source": [
    "# !pip install sox"
   ]
  },
  {
   "cell_type": "code",
   "execution_count": 17,
   "id": "62435f38-27d1-4532-b555-faf60ecc5363",
   "metadata": {},
   "outputs": [],
   "source": [
    "import IPython"
   ]
  },
  {
   "cell_type": "code",
   "execution_count": 18,
   "id": "c5e72a50-4eaa-4b96-8922-68df0774ec17",
   "metadata": {},
   "outputs": [
    {
     "data": {
      "text/plain": [
       "'\\nref codes from my past codes\\ndef dumpFB_Array(midfreqs, fb_save_path):\\n    theFB = get_filterbank_from_midfreqs(midfreqs, 16000, 10, 1024)\\n    rows = theFB.shape[0]\\n    cols = theFB.shape[1]\\n    with open(fb_save_path, \"w\")as f:\\n        f.write(\"/* middle frequences:{} */\\n\".format(midfreqs))\\n        f.write(\"const float fbarray[{}][{}]=\".format(rows,cols))\\n        f.write(\"{\")\\n        for i in range(rows):\\n            f.write(\"{\")\\n            for j in range(cols):\\n                f.write(str(theFB[i][j]))\\n                f.write(\",\")\\n            f.write(\"},\")\\n            f.write(\"\\n\")\\n        f.write(\"}\")\\n'"
      ]
     },
     "execution_count": 18,
     "metadata": {},
     "output_type": "execute_result"
    }
   ],
   "source": [
    "\"\"\"\n",
    "ref codes from my past codes\n",
    "def dumpFB_Array(midfreqs, fb_save_path):\n",
    "    theFB = get_filterbank_from_midfreqs(midfreqs, 16000, 10, 1024)\n",
    "    rows = theFB.shape[0]\n",
    "    cols = theFB.shape[1]\n",
    "    with open(fb_save_path, \"w\")as f:\n",
    "        f.write(\"/* middle frequences:{} */\\n\".format(midfreqs))\n",
    "        f.write(\"const float fbarray[{}][{}]=\".format(rows,cols))\n",
    "        f.write(\"{\")\n",
    "        for i in range(rows):\n",
    "            f.write(\"{\")\n",
    "            for j in range(cols):\n",
    "                f.write(str(theFB[i][j]))\n",
    "                f.write(\",\")\n",
    "            f.write(\"},\")\n",
    "            f.write(\"\\n\")\n",
    "        f.write(\"}\")\n",
    "\"\"\""
   ]
  },
  {
   "cell_type": "code",
   "execution_count": 19,
   "id": "276a30f6-fe2b-4ddd-a167-9736f17805f0",
   "metadata": {},
   "outputs": [],
   "source": [
    "def checkWavChNumUsingStruct(theFile):\n",
    "    with open(theFile, 'rb') as f1:\n",
    "        header_beginning = f1.read(0x18)\n",
    "        num_channels_file1, = struct.unpack_from('<H', header_beginning, 0x16)"
   ]
  },
  {
   "cell_type": "code",
   "execution_count": 20,
   "id": "3dc44697-2fcb-453e-982f-b6d71c0bfbf1",
   "metadata": {},
   "outputs": [],
   "source": [
    "def writeToCFile(theHFileName, wavArray, ary_name):\n",
    "    rows = len(wavArray)\n",
    "    line_break = 0;\n",
    "    with open(theHFileName, \"w\")as f:\n",
    "        f.write(f\"/* wav file:{theHFileName} */\\n\")\n",
    "        f.write(f\"const int16_t {ary_name}[{rows}]=\")\n",
    "        f.write(\"{\\n\")\n",
    "        for i in range(rows):\n",
    "            line_break += 1;\n",
    "            f.write(str(wavArray[i]))\n",
    "            f.write(\",\")\n",
    "            if(line_break > 80):\n",
    "                f.write(\"\\n\");\n",
    "                line_break = 0;\n",
    "            # f.write(\"\\n\")\n",
    "        f.write(\"\\n}\\n\")\n",
    "        f.write(f\"/* end of array of wav file:{theHFileName} */\\n\")"
   ]
  },
  {
   "cell_type": "code",
   "execution_count": 21,
   "id": "4b642afb-e04a-418e-91b6-a83a148aeee9",
   "metadata": {},
   "outputs": [],
   "source": [
    "def readWavFile(wavFileName):\n",
    "    # ch = file_info.channels(wavFileName)\n",
    "    ch = wave.open(wavFileName).getnchannels()\n",
    "    wobj = wavio.read(wavFileName)\n",
    "    sound_sig = None\n",
    "    if ch == 1:\n",
    "        sound_sig = wobj.data.T[0]\n",
    "        print(f\"{wavFileName} is mono\")\n",
    "    elif ch==2:\n",
    "        sound_sig = wobj.data.T[0]/2 + wobj.data.T[1]/2\n",
    "        print(f\"{wavFileName} is stereo\")\n",
    "    print(f\"type of T is {type(wobj.data.T)}\")\n",
    "    print(f\"the wav file length is {len(sound_sig)}\")\n",
    "    return sound_sig"
   ]
  },
  {
   "cell_type": "code",
   "execution_count": 22,
   "id": "b33afed7-09d4-4961-96ef-47c646fd26f1",
   "metadata": {},
   "outputs": [],
   "source": [
    "# def run():\n",
    "#     testWavFile = \"/home/ai/Documents/3-118487-A-26.wav\"\n",
    "#     theCHeadFile = \"./wav_c_array_files/3-118487-A-26.h\"\n",
    "#     wav_ary = readWavFile(testWavFile)\n",
    "#     print(\"write wav to C Head file\")\n",
    "#     writeToCFile(theCHeadFile,wav_ary)"
   ]
  },
  {
   "cell_type": "code",
   "execution_count": null,
   "id": "1d7134cc-2349-4226-a48a-bbb322c35e54",
   "metadata": {},
   "outputs": [],
   "source": []
  },
  {
   "cell_type": "code",
   "execution_count": 23,
   "id": "9e26080c-5c95-4754-9c44-3a5c8b895f59",
   "metadata": {},
   "outputs": [],
   "source": [
    "# right/2 + left/2\n",
    "# wobj = wavio.read(wavFileName)\n",
    "# sound_sig = wobj.data.T[0]\n",
    "# print(wobj.rate)\n",
    "# if wobj.rate != default_sr:\n",
    "#     U.convert_sr_for_single_file(original_sound_path, converted_sound_path,default_sr)\n",
    "#     wobj = wavio.read(converted_sound_path)\n",
    "#     print(f\"Converted wav sampling rate is {wobj.rate}\")\n",
    "#     sound_sig = wobj.data.T[0]"
   ]
  },
  {
   "cell_type": "code",
   "execution_count": 24,
   "id": "5a0179fe-d5ab-48cf-b7ab-15c9b5926670",
   "metadata": {},
   "outputs": [],
   "source": [
    "def run(src_wav, dest_c_fine_name, ary_name):\n",
    "    # testWavFile = \"/home/ai/Documents/3-118487-A-26.wav\"\n",
    "    # theCHeadFile = \"./wav_c_array_files/3-118487-A-26.h\"\n",
    "    wav_ary = readWavFile(src_wav)\n",
    "    print(\"write wav to C Head file\")\n",
    "    writeToCFile(dest_c_fine_name,wav_ary, ary_name)"
   ]
  },
  {
   "cell_type": "code",
   "execution_count": 25,
   "id": "13327bd8-8282-45be-842b-8354a4c9ed14",
   "metadata": {},
   "outputs": [],
   "source": [
    "# p_src_wav = \"../../datasets/CurrentUse/wav_files/fold1/positive/alarm_52/_K1XNxEIraA_220.0-230.0_p_52.wav\"\n",
    "p_src_wav = \"../../mcu_codes/forTony/wav_c_array_for_tony/speech_alarm.wav\"\n",
    "p_wav_c_ary = \"../../mcu_codes/forTony/wav_c_array_for_tony/alarm_202400312_rick.h\"\n",
    "# n_src_wav = \"../../mcu_codes/forTony/non_alarm_short.wav\"\n",
    "# n_wav_c_ary = \"../../mcu_codes/forTony/non_alarm_sound_short.h\""
   ]
  },
  {
   "cell_type": "code",
   "execution_count": 26,
   "id": "08224dbf-6277-4f0a-afb8-997789e418e9",
   "metadata": {},
   "outputs": [
    {
     "name": "stdout",
     "output_type": "stream",
     "text": [
      "help sound\n"
     ]
    },
    {
     "data": {
      "text/html": [
       "\n",
       "                <audio  controls=\"controls\" >\n",
       "                    <source src=\"data:audio/x-wav;base64,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\" type=\"audio/x-wav\" />\n",
       "                    Your browser does not support the audio element.\n",
       "                </audio>\n",
       "              "
      ],
      "text/plain": [
       "<IPython.lib.display.Audio object>"
      ]
     },
     "execution_count": 26,
     "metadata": {},
     "output_type": "execute_result"
    }
   ],
   "source": [
    "print(\"help sound\")\n",
    "IPython.display.Audio(p_src_wav)"
   ]
  },
  {
   "cell_type": "code",
   "execution_count": 13,
   "id": "57705f27-c613-42ed-95c7-7a4ffbc1d14b",
   "metadata": {
    "jupyter": {
     "source_hidden": true
    }
   },
   "outputs": [],
   "source": [
    "# print(\"non-alarm sound\")\n",
    "# IPython.display.Audio(n_src_wav)"
   ]
  },
  {
   "cell_type": "code",
   "execution_count": 28,
   "id": "c369db77-8030-4238-a9b7-c12aafac25f7",
   "metadata": {},
   "outputs": [
    {
     "name": "stdout",
     "output_type": "stream",
     "text": [
      "../../mcu_codes/forTony/wav_c_array_for_tony/speech_alarm.wav is mono\n",
      "type of T is <class 'numpy.ndarray'>\n",
      "the wav file length is 20073\n",
      "write wav to C Head file\n"
     ]
    }
   ],
   "source": [
    "run(p_src_wav, p_wav_c_ary, 'speech_alarm')"
   ]
  },
  {
   "cell_type": "code",
   "execution_count": 15,
   "id": "b658733a-7fb7-4eba-b234-04889eaa63b1",
   "metadata": {},
   "outputs": [
    {
     "name": "stdout",
     "output_type": "stream",
     "text": [
      "../../mcu_codes/forTony/non_alarm_short.wav is mono\n",
      "type of T is <class 'numpy.ndarray'>\n",
      "the wav file length is 30244\n",
      "write wav to C Head file\n"
     ]
    }
   ],
   "source": [
    "run(n_src_wav,n_wav_c_ary, 'other_sound')"
   ]
  },
  {
   "cell_type": "code",
   "execution_count": null,
   "id": "fd50c668-1af4-4694-a9dd-bd6e6e1de3a9",
   "metadata": {},
   "outputs": [],
   "source": []
  }
 ],
 "metadata": {
  "kernelspec": {
   "display_name": "Python 3 (ipykernel)",
   "language": "python",
   "name": "python3"
  },
  "language_info": {
   "codemirror_mode": {
    "name": "ipython",
    "version": 3
   },
   "file_extension": ".py",
   "mimetype": "text/x-python",
   "name": "python",
   "nbconvert_exporter": "python",
   "pygments_lexer": "ipython3",
   "version": "3.11.5"
  }
 },
 "nbformat": 4,
 "nbformat_minor": 5
}
