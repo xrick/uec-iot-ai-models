version https://git-lfs.github.com/spec/v1
oid sha256:2d117059d6b261b79547e4fbafff02ad50ade0093951f388cf44528e82b568f4
size 214368
