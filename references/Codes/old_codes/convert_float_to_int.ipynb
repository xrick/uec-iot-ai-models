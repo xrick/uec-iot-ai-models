{
 "cells": [
  {
   "cell_type": "code",
   "execution_count": 1,
   "metadata": {},
   "outputs": [],
   "source": [
    "import numpy as np\n",
    "import wave\n",
    "import os\n",
    "import sys\n",
    "import numpy as np\n",
    "from os import listdir\n",
    "from os.path import isfile, isdir, join\n",
    "import wave\n",
    "import struct\n",
    "from tqdm import tqdm\n",
    "import tensorflow as tf\n",
    "import scipy.io as spio\n",
    "import matplotlib.pyplot as plt\n",
    "import json\n",
    "# import soundfile as sf"
   ]
  },
  {
   "cell_type": "code",
   "execution_count": 2,
   "metadata": {},
   "outputs": [],
   "source": [
    "max_int32_value = 2147483647\n",
    "converted_training_mat_file = \"../../NCTU/DNN_VAD/int_training_data/training_data_int32.mat\"\n",
    "originat_weight_mat = \"../../Weights/w_original_128x32.mat\""
   ]
  },
  {
   "cell_type": "code",
   "execution_count": 3,
   "metadata": {},
   "outputs": [],
   "source": [
    "def S(bits):\n",
    "    return 2.0 ** (bits - 1)"
   ]
  },
  {
   "cell_type": "code",
   "execution_count": 4,
   "metadata": {},
   "outputs": [],
   "source": [
    "def test_conversion():\n",
    "    testary = np.array([[0.546846464, 0.96796461, 0.7496664],[0.48649646,0.32466841,0.5346434]])\n",
    "    res_ary = performConvertion(testary, 1000000, 'uint32')\n",
    "    print(res_ary)"
   ]
  },
  {
   "cell_type": "code",
   "execution_count": null,
   "metadata": {
    "scrolled": true
   },
   "outputs": [],
   "source": []
  },
  {
   "cell_type": "code",
   "execution_count": 5,
   "metadata": {},
   "outputs": [],
   "source": [
    "# def load_weights(weightFile):\n",
    "#     dict_data = spio.loadmat(weightFile)\n",
    "#     w1 = dict_data[\"w1\"]\n",
    "#     w2 = dict_data[\"w2\"]\n",
    "#     w3 = dict_data[\"w3\"]\n",
    "#     b1 = dict_data[\"b1\"]\n",
    "#     b2 = dict_data[\"b2\"]\n",
    "#     b3 = dict_data[\"b3\"]\n",
    "#     return w1, w2, w3, b1, b2, b3"
   ]
  },
  {
   "cell_type": "code",
   "execution_count": 7,
   "metadata": {},
   "outputs": [],
   "source": [
    "#for load training data\n",
    "def load_training_data(fileName):\n",
    "    ret_mat = spio.loadmat(fileName)[\"x_data\"]\n",
    "    return ret_mat\n",
    "\n",
    "def performConvertion(src_array, scalar_multiplier, dtypeStr):\n",
    "    #ret_clip = (audio_array[0:mat_len]*max_value).astype(dtype='double')\n",
    "    processed_array = (src_array*scalar_multiplier).astype(dtypeStr)\n",
    "    return processed_array\n",
    "\n",
    "def performAdvnacedConvertion(src_array,bits,dtypeStr):\n",
    "    scale = S(bits)\n",
    "    w1,w2,w3,b1,b2,b3 = load_weights(src_array)\n",
    "    quant_w1 = quant_weight(w1,8)\n",
    "    print(quant_w1)\n",
    "#     return processedWeight\n",
    "\n",
    "def load_weights(weightFile):\n",
    "    dict_data = spio.loadmat(weightFile)\n",
    "    w1 = dict_data[\"w1\"]\n",
    "    w2 = dict_data[\"w2\"]\n",
    "    w3 = dict_data[\"w3\"]\n",
    "    b1 = dict_data[\"b1\"]\n",
    "    b2 = dict_data[\"b2\"]\n",
    "    b3 = dict_data[\"b3\"]\n",
    "    return w1, w2, w3, b1, b2, b3"
   ]
  },
  {
   "cell_type": "code",
   "execution_count": 20,
   "metadata": {},
   "outputs": [],
   "source": [
    "def quant_weight(ori_weight, bits, typeStr):\n",
    "    min_wt = np.amin(ori_weight)\n",
    "    max_wt = np.amax(ori_weight)\n",
    "    # calculat the bits necessary for representing the range\n",
    "    repr_bits = int(np.ceil(np.log2(max(abs(min_wt),abs(max_wt)))))\n",
    "    frac_bits = bits-repr_bits-1\n",
    "    quant_weight = np.round(ori_weight*(2**frac_bits)).astype(typeStr)\n",
    "    # we need to return the frac_bits for the reason that when we do the inference\n",
    "    # we need to scale the quantized weights to their original range by\n",
    "    # weight = quant_weight * 2^frac_bits\n",
    "    return quant_weight, frac_bits"
   ]
  },
  {
   "cell_type": "code",
   "execution_count": 1,
   "metadata": {},
   "outputs": [],
   "source": [
    "def performConversion(srcWeightFile, bits,typeStr,des_file):\n",
    "    w1,w2,w3,b1,b2,b3 = load_weights(srcWeightFile)\n",
    "    quant_w1, frac_bits1 = quant_weight(w1,bits,typeStr)\n",
    "    quant_w2, frac_bits2 = quant_weight(w2,bits,typeStr)\n",
    "    quant_w3, frac_bits3 = quant_weight(w3,bits,typeStr)\n",
    "    \n",
    "    quant_b1, frac_bits4 = quant_weight(b1,bits,typeStr)\n",
    "    quant_b2, frac_bits5 = quant_weight(b2,bits,typeStr)\n",
    "    quant_b3, frac_bits6 = quant_weight(b3,bits,typeStr)\n",
    "    print(\"\\nquant_w1 is\\n{}\".format(quant_w2))\n",
    "    print(\"\\nquant_scale for w1 is\\n{}\".format(frac_bits1))\n",
    "    print(\"\\nquant_scale for w2 is\\n{}\".format(frac_bits2))\n",
    "    print(\"\\nquant_scale for w3 is\\n{}\".format(frac_bits3))\n",
    "    print(\"\\nquant_scale for b1 is\\n{}\".format(frac_bits4))\n",
    "    print(\"\\nquant_scale for b2 is\\n{}\".format(frac_bits5))\n",
    "    print(\"\\nquant_scale for b3 is\\n{}\".format(frac_bits6))\n",
    "    spio.savemat(des_file,{\n",
    "                          'w1': quant_w1, 'w2': quant_w2, 'w3': quant_w3, \n",
    "                          'b1': quant_b1, 'b2': quant_b2, 'b3': quant_b3,\n",
    "                          's1':frac_bits1, 's2':frac_bits2, 's3':frac_bits3,\n",
    "                          's4':frac_bits4, 's5':frac_bits5, 's6':frac_bits6\n",
    "                         })\n",
    "    \n",
    "    \n"
   ]
  },
  {
   "cell_type": "code",
   "execution_count": 24,
   "metadata": {},
   "outputs": [
    {
     "name": "stdout",
     "output_type": "stream",
     "text": [
      "\n",
      "quant_w1 is\n",
      "[[ 15   4  -7 ...  23  -3   2]\n",
      " [  8   3   4 ... -11 -13   5]\n",
      " [ -3   0  -6 ...  -5 -20  31]\n",
      " ...\n",
      " [ 11 -25   9 ...   8 -14  -4]\n",
      " [  0  -4   0 ...   0 -26 -18]\n",
      " [ -6   5   4 ...  10 -26  -8]]\n",
      "\n",
      "quant_scale for w1 is\n",
      "5\n",
      "\n",
      "quant_scale for w2 is\n",
      "6\n",
      "\n",
      "quant_scale for w3 is\n",
      "5\n",
      "\n",
      "quant_scale for b1 is\n",
      "6\n",
      "\n",
      "quant_scale for b2 is\n",
      "7\n",
      "\n",
      "quant_scale for b3 is\n",
      "8\n"
     ]
    }
   ],
   "source": [
    "save_file = \"../../Weights/int8_weights_for_original_128x32_v3.mat\"\n",
    "performConversion(originat_weight_mat,8,\"int8\",save_file)"
   ]
  },
  {
   "cell_type": "code",
   "execution_count": 18,
   "metadata": {},
   "outputs": [],
   "source": [
    "def save_training_mat(srcArray):\n",
    "    speech_mat_dict = {\"x_data\":srcArray}\n",
    "    spio.savemat(converted_mat_file,speech_mat_dict,oned_as='column')\n",
    "    \n",
    "def save_weight_mat(srcWeightFile, bits,typeStr):\n",
    "    weight1,weight2,weight3,bias1,bias2,bias3 = load_weights(srcWeightFile)\n",
    "    weight1 = performConvertion(weight1,bits,typeStr)\n",
    "    weight2 = performConvertion(weight2,bits,typeStr)\n",
    "    weight3 = performConvertion(weight3,bits,typeStr)\n",
    "    bias1 = performConvertion(bias1,bits,typeStr)\n",
    "    bias2 = performConvertion(bias2,bits,typeStr)\n",
    "    bias3 = performConvertion(bias3,bits,typeStr)\n",
    "    print(weight2)\n",
    "    spio.savemat(\"../../Weights/int{}_weights_for_original_128x32.mat\".format(bits),\n",
    "                     {'w1': weight1, 'w2': weight2, 'w3': weight3, 'b1': bias1, 'b2': bias2, 'b3': bias3})"
   ]
  },
  {
   "cell_type": "code",
   "execution_count": 19,
   "metadata": {},
   "outputs": [
    {
     "name": "stdout",
     "output_type": "stream",
     "text": [
      "[[  7   1  -3 ...  11  -1   1]\n",
      " [  4   1   2 ...  -5  -6   2]\n",
      " [ -1   0  -3 ...  -2 -10  15]\n",
      " ...\n",
      " [  5 -12   4 ...   4  -6  -2]\n",
      " [  0  -1   0 ...   0 -12  -9]\n",
      " [ -2   2   1 ...   4 -13  -3]]\n"
     ]
    }
   ],
   "source": [
    "save_weight_mat(converted_weight_mat)"
   ]
  },
  {
   "cell_type": "code",
   "execution_count": 40,
   "metadata": {},
   "outputs": [],
   "source": [
    "nctu_training_mat = \"../../speechData/nctu_origin_training_data/train_1106a_sharp_12.mat\"\n",
    "src_array = loaddata(nctu_training_mat)"
   ]
  },
  {
   "cell_type": "code",
   "execution_count": 41,
   "metadata": {},
   "outputs": [
    {
     "name": "stdout",
     "output_type": "stream",
     "text": [
      "[[0.26684122 0.70283141 0.88426972 ... 0.71809787 0.16920831 0.16905722]\n",
      " [0.17060792 0.56428417 0.91814424 ... 0.75815144 0.05993171 0.0333237 ]\n",
      " [0.49442102 0.79770209 0.84977773 ... 0.84733115 0.0953902  0.        ]\n",
      " ...\n",
      " [0.7567909  0.99432799 0.70640176 ... 0.22294714 0.09880513 0.07683635]\n",
      " [0.76510084 0.99751292 0.69988347 ... 0.11805857 0.04398413 0.03533766]\n",
      " [0.75494277 0.99998792 0.6995279  ... 0.09852559 0.         0.01161164]]\n"
     ]
    }
   ],
   "source": [
    "print(src_array)"
   ]
  },
  {
   "cell_type": "code",
   "execution_count": 42,
   "metadata": {},
   "outputs": [],
   "source": [
    "converted_ary = performConvertion(src_array,max_int32_value,\"int32\")"
   ]
  },
  {
   "cell_type": "code",
   "execution_count": 43,
   "metadata": {},
   "outputs": [
    {
     "name": "stdout",
     "output_type": "stream",
     "text": [
      "[[ 573037146 1509318960 1898954757 ... 1542103438  363372077  363047614]\n",
      " [ 366377713 1211791028 1971699742 ... 1628117816  128702374   71562108]\n",
      " [1061761056 1713052187 1824883783 ... 1819629791  204848902          0]\n",
      " ...\n",
      " [1625196090 2135303087 1516986224 ...  478775340  212182402  165004796]\n",
      " [1643041537 2142142687 1502988301 ...  253528839   94455201   75887043]\n",
      " [1621227245 2147457716 1502224725 ...  211582086          0   24935799]]\n"
     ]
    }
   ],
   "source": [
    "print(converted_ary)"
   ]
  },
  {
   "cell_type": "code",
   "execution_count": 44,
   "metadata": {},
   "outputs": [],
   "source": [
    "save_to_mat(converted_ary)"
   ]
  },
  {
   "cell_type": "code",
   "execution_count": null,
   "metadata": {},
   "outputs": [],
   "source": []
  }
 ],
 "metadata": {
  "kernelspec": {
   "display_name": "Python 3",
   "language": "python",
   "name": "python3"
  },
  "language_info": {
   "codemirror_mode": {
    "name": "ipython",
    "version": 3
   },
   "file_extension": ".py",
   "mimetype": "text/x-python",
   "name": "python",
   "nbconvert_exporter": "python",
   "pygments_lexer": "ipython3",
   "version": "3.7.4"
  }
 },
 "nbformat": 4,
 "nbformat_minor": 2
}
