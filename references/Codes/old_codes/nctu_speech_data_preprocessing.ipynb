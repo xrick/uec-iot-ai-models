version https://git-lfs.github.com/spec/v1
oid sha256:745b5574985bc02b0b3157a79cd21229e7926a996a4182edc06f43fb46a2656a
size 8570
