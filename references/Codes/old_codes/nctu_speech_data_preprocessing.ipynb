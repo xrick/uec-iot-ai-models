{
 "cells": [
  {
   "cell_type": "code",
   "execution_count": 9,
   "metadata": {},
   "outputs": [],
   "source": [
    "import sys\n",
    "import librosa\n",
    "import os\n",
    "from os import path\n",
    "from os import listdir\n",
    "from os.path import isfile, join\n",
    "import numpy as np\n",
    "import scipy.io as spio\n",
    "import scipy.io.wavfile as sciwav\n",
    "from tqdm import tqdm\n",
    "np.set_printoptions(threshold=sys.maxsize)"
   ]
  },
  {
   "cell_type": "code",
   "execution_count": null,
   "metadata": {},
   "outputs": [],
   "source": []
  },
  {
   "cell_type": "code",
   "execution_count": 10,
   "metadata": {},
   "outputs": [],
   "source": [
    "gspeechcmd_full_wav_file = \"../../../../Speech_Corpora/google_speech_command_dataset/speech_commands_v0.01/bird/00b01445_nohash_0.wav\"\n",
    "nctu_wav_test_file = \"../../../../MyWork/NCTU/DNN_VAD/data/clean speech/MIR-1K/ABJones_1_lyrics.wav\""
   ]
  },
  {
   "cell_type": "code",
   "execution_count": 11,
   "metadata": {},
   "outputs": [],
   "source": [
    "# def test_read_wav(wavfilename):\n",
    "#     wav_ary, sr = librosa.load(nctu_wav_test_file)\n",
    "#     wav_16000 = librosa.resample(wav_ary,sr,16000)\n",
    "#     len_wav_16000 = len(wav_16000)\n",
    "    \n",
    "#     print(\"length of wav_ary is {}, sample rate is {}\".format(len(wav_ary),sr))\n",
    "#     print(\"length of wav_16000 is {}, sample rate is {}\".format(len(wav_16000),16000))\n",
    "#     return wav_16000, len_wav"
   ]
  },
  {
   "cell_type": "markdown",
   "metadata": {},
   "source": [
    "# Quantization of wav read using librosa.load\n",
    "This sounds like a quantization problem. If samples in the wave file are stored as float and librosa is just performing a straight cast to an int, and value less than 1 will be truncated to 0. More than likely, this is why sig is an array of all zeros. The float must be scaled to map it into range of an int. For example,\n",
    "\n",
    ">>> a = sp.randn(10)\n",
    ">>> a\n",
    "array([-0.04250369,  0.244113  ,  0.64479281, -0.3665814 , -0.2836227 ,\n",
    "       -0.27808428, -0.07668698, -1.3104602 ,  0.95253315, -0.56778205])\n",
    "Convert a to type int without scaling\n",
    "\n",
    ">>> a.astype(int)\n",
    "array([0, 0, 0, 0, 0, 0, 0, 0, 0, 0])\n",
    "Convert a to int with scaling for 16-bit integer\n",
    "\n",
    ">>> b = (a* 32767).astype(int)\n",
    ">>> b\n",
    "array([ -1392,   7998,  21127, -12011,  -9293,  -9111,  -2512, -42939,\n",
    "        31211, -18604])\n",
    "Convert scaled int back to float\n",
    "\n",
    ">>> c = b/32767.0\n",
    ">>> c\n",
    "array([-0.04248177,  0.24408704,  0.64476455, -0.36655782, -0.28360851,\n",
    "       -0.27805414, -0.0766625 , -1.31043428,  0.9525132 , -0.56776635])\n",
    "c and b are only equal to about 3 or 4 decimal places due to quantization to int.\n",
    "\n",
    "If librosa is returning a float, you can scale it by 2**15 and cast it to an int to get same range of values that scipy wave reader is returning. Since librosa is returning a float, chances are the values going to lie within a much smaller range, such as [-1, +1], than a 16-bit integer which will be in [-32768, +32767]. So you need to scale one to get the ranges to match. For example,\n",
    "\n",
    "sig, rate = librosa.load(spec_file, mono=True)\n",
    "sig = sig × 32767"
   ]
  },
  {
   "cell_type": "code",
   "execution_count": 7,
   "metadata": {},
   "outputs": [],
   "source": [
    "def read_and_convert_wav_to_16K_SR(wav_file):\n",
    "    std_sr = 16000\n",
    "#     raw_wav, sr = librosa.load(wav_file)\n",
    "    sr, sig = wavio.read(wav_file)\n",
    "    print(\"sample rate is {}\".format(sr))\n",
    "    return sig"
   ]
  },
  {
   "cell_type": "code",
   "execution_count": 8,
   "metadata": {},
   "outputs": [
    {
     "name": "stdout",
     "output_type": "stream",
     "text": [
      "sample rate is 16000\n"
     ]
    }
   ],
   "source": [
    "# test_read_wav(nctu_wav_test_file)\n",
    "wav_ = read_and_convert_wav_to_16K_SR(nctu_wav_test_file)\n",
    "with open(\"./wav_out_test_2.txt\",\"w\") as fw:\n",
    "    fw.write(str(wav_))\n",
    "    fw.flush()"
   ]
  },
  {
   "cell_type": "markdown",
   "metadata": {},
   "source": [
    "## divide audio signal into frames\n",
    "If you know for sure that your signal is 2 seconds long, then the sampling frequency can be found from dt*N=2, where dt=1/fs is sampling period and N is number of samples, which you don't need.\n",
    "IF you already have an array of sampled signal, it has particular length (number of samples). In addition, you know that the 'duration' of that array is 2 seconds, so, you must break your array onto 2000ms/100ms=20 pieces:"
   ]
  },
  {
   "cell_type": "code",
   "execution_count": 13,
   "metadata": {},
   "outputs": [
    {
     "data": {
      "text/plain": [
       "' Matlab codes\\nx=[your array of N samples]; n=round(length(x)/20); %find how many samples will each frame contain P=zeros(n,20); %preallocate the matrix for 20 colums of Nsamples/20 in each for k=0:19     P(:,k+1)=x(1+n*k:n*(k+1)); end '"
      ]
     },
     "execution_count": 13,
     "metadata": {},
     "output_type": "execute_result"
    }
   ],
   "source": [
    "\"\"\" Matlab codes\n",
    "x=[your array of N samples];\n",
    "n=round(length(x)/20); %find how many samples will each frame contain\n",
    "P=zeros(n,20); %preallocate the matrix for 20 colums of Nsamples/20 in each\n",
    "for k=0:19\n",
    "    P(:,k+1)=x(1+n*k:n*(k+1));\n",
    "end\n",
    "\"\"\""
   ]
  },
  {
   "cell_type": "code",
   "execution_count": null,
   "metadata": {},
   "outputs": [],
   "source": [
    "def getFilesInFloder(folderPath):\n",
    "    onlyfiles = [f for f in listdir(folderPath) if isfile(join(folderPath, f))]\n",
    "    return onlyfiles"
   ]
  },
  {
   "cell_type": "code",
   "execution_count": null,
   "metadata": {},
   "outputs": [],
   "source": [
    "def convert2mat(filename):\n",
    "    \"\"\"mat file description:\n",
    "    each row contains 40 elements\n",
    "    each row is 100ms\n",
    "    1 frame is 25ms, beacuase \n",
    "    \"\"\"\n",
    "    pass"
   ]
  },
  {
   "cell_type": "code",
   "execution_count": null,
   "metadata": {},
   "outputs": [],
   "source": [
    "# if __name__ == \"__main__\":\n",
    "#     flag = path.exists(full_wav_file)\n",
    "#     if flag:\n",
    "#         test_read_wav(full_wav_file)\n",
    "#     else:\n",
    "#         print(\"file doesn't exist.\")"
   ]
  },
  {
   "cell_type": "code",
   "execution_count": 8,
   "metadata": {},
   "outputs": [],
   "source": [
    "# test_read_one_frame_and_plot(full_wav_file)"
   ]
  },
  {
   "cell_type": "code",
   "execution_count": 6,
   "metadata": {},
   "outputs": [],
   "source": [
    "# import matplotlib.pyplot as plt\n",
    "# import matplotlib.pylab as plt\n",
    "\n",
    "# def plot(vector, xlabel=None, ylabel=None):\n",
    "#     plt.figure()\n",
    "#     plt.plot(vector)\n",
    "#     plt.xlabel(xlabel)\n",
    "#     plt.ylabel(ylabel)\n",
    "#     plt.plot()\n",
    "\n",
    "\n",
    "# def test_read_one_frame_and_plot(wavfilename):\n",
    "#     wav2_ary, sr2 = librosa.load(wavfilename)\n",
    "#     wav2_16000 = librosa.resample(wav2_ary,sr2,16000)\n",
    "#     plot(wav2_16000,\"whole\")\n",
    "#     start_point=1600\n",
    "#     step_quantity=1600\n",
    "#     wav_len=16000\n",
    "#     for idx in range(start_point,wav_len,step_quantity):\n",
    "# #         idx1 = idx-1600\n",
    "# #         idx2 = idx-1200\n",
    "# #         idx3 = idx-800\n",
    "# #         idx4 = idx-400\n",
    "#         _s=idx-1600\n",
    "#         _e=idx\n",
    "#         print(\"the {}-th segment values are {}\".format(idx/1600,wav2_16000[_s:_e]))\n",
    "#         plot(wav2_16000[_s:_e],idx/1600)\n",
    "#         print(\"*******************************************************************\")"
   ]
  }
 ],
 "metadata": {
  "kernelspec": {
   "display_name": "Python 3.7.6 64-bit ('pytorchenv': conda)",
   "language": "python",
   "name": "python37664bitpytorchenvconda337e7ecd0b2647f2ac8f9b891c930e22"
  },
  "language_info": {
   "codemirror_mode": {
    "name": "ipython",
    "version": 3
   },
   "file_extension": ".py",
   "mimetype": "text/x-python",
   "name": "python",
   "nbconvert_exporter": "python",
   "pygments_lexer": "ipython3",
   "version": "3.7.6"
  }
 },
 "nbformat": 4,
 "nbformat_minor": 2
}
