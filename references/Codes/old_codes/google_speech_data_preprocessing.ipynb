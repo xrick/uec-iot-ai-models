version https://git-lfs.github.com/spec/v1
oid sha256:c3157a024caed6b3a922b7e18ac5a36abe80794c3f4f11a3390ba74c280174ce
size 310259
