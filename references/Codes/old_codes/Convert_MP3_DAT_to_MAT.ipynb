{
 "cells": [
  {
   "cell_type": "code",
   "execution_count": 1,
   "metadata": {},
   "outputs": [],
   "source": [
    "import os\n",
    "import sys\n",
    "import numpy as np\n",
    "from os import listdir\n",
    "from os.path import isfile, isdir, join\n",
    "import wave\n",
    "import struct\n",
    "from tqdm import tqdm\n",
    "import soundfile as sf"
   ]
  },
  {
   "cell_type": "markdown",
   "metadata": {},
   "source": [
    "## How to get file extension\n",
    ">>> import os\n",
    ">>> filename, file_extension = os.path.splitext('/path/to/somefile.ext')\n",
    ">>> filename\n",
    "'/path/to/somefile'\n",
    ">>> file_extension\n",
    "'.ext'"
   ]
  },
  {
   "cell_type": "code",
   "execution_count": 2,
   "metadata": {},
   "outputs": [],
   "source": [
    "min_value = np.iinfo('int16').min\n",
    "max_value = np.iinfo('int16').max"
   ]
  },
  {
   "cell_type": "markdown",
   "metadata": {},
   "source": [
    "## get specific type of files\n",
    "\n",
    "\n",
    "You can use glob:\n",
    "\n",
    "import glob, os\n",
    "os.chdir(\"/mydir\")\n",
    "for file in glob.glob(\"*.txt\"):\n",
    "    print(file)\n",
    "\n",
    "or simply os.listdir:\n",
    "\n",
    "import os\n",
    "for file in os.listdir(\"/mydir\"):\n",
    "    if file.endswith(\".txt\"):\n",
    "        print(os.path.join(\"/mydir\", file))\n",
    "\n",
    "or if you want to traverse directory, use os.walk:\n",
    "\n",
    "import os\n",
    "for root, dirs, files in os.walk(\"/mydir\"):\n",
    "    for file in files:\n",
    "        if file.endswith(\".txt\"):\n",
    "             print(os.path.join(root, file))\n",
    "\n"
   ]
  },
  {
   "cell_type": "code",
   "execution_count": 3,
   "metadata": {},
   "outputs": [],
   "source": [
    "def testFileExt(trueExt,filefullpath):\n",
    "    filename, file_extension = os.path.splitext('/path/to/somefile.ext')\n",
    "    if file_extension == trueExt:\n",
    "        return True\n",
    "    else:\n",
    "        return False"
   ]
  },
  {
   "cell_type": "code",
   "execution_count": 4,
   "metadata": {},
   "outputs": [],
   "source": [
    "def getFilesInFloder(folderPath):\n",
    "    onlyfiles = [f for f in listdir(folderPath) if isfile(join(folderPath, f))]\n",
    "    return onlyfiles\n",
    "\n",
    "def getDirsInFolder(baseDirPath):\n",
    "    onlySubDirs = [d for d in listdir(baseDirPath) if isdir(join(baseDirPath, d))]\n",
    "    return onlySubDirs"
   ]
  },
  {
   "cell_type": "code",
   "execution_count": 7,
   "metadata": {},
   "outputs": [],
   "source": [
    "file_dir = \"../../speechData/noise_for_test_20200319/\"#\"D:/MyGitPrjs/2018_Acustic_Resource_Classes/noise_dat/\"\n",
    "files = getFilesInFloder(file_dir)"
   ]
  },
  {
   "cell_type": "code",
   "execution_count": 8,
   "metadata": {},
   "outputs": [],
   "source": [
    "def Dat2WAV(filesPath=None):\n",
    "    sampleRate=16000\n",
    "    for file in tqdm(files):\n",
    "        #read dat file\n",
    "        if file.endswith(\".dat\"):\n",
    "            tmp_list = []\n",
    "            with open(file_dir+file,\"r\") as rf:\n",
    "                tmp_list = rf.readlines()\n",
    "                \n",
    "            print(\"file:{} length is {}\".format(file,len(tmp_list)))\n",
    "            with wave.open(\"../../speechData/noise_for_test_20200319/converted/{}.wav\".format(file),\"w\")as obj:\n",
    "                obj.setnchannels(1) # mono\n",
    "                obj.setsampwidth(2)\n",
    "                obj.setframerate(sampleRate)\n",
    "                tmp_list = tmp_list[1:]\n",
    "                for value in tmp_list:\n",
    "                    value = value.replace(\"\\n\",\"\")\n",
    "                    value = int(float(value))\n",
    "                    data = struct.pack('<h', value)\n",
    "                    obj.writeframesraw(data)\n",
    "    print(\"processing completed.\")\n",
    "        "
   ]
  },
  {
   "cell_type": "code",
   "execution_count": 10,
   "metadata": {},
   "outputs": [
    {
     "name": "stderr",
     "output_type": "stream",
     "text": [
      " 20%|██        | 1/5 [00:00<00:00,  5.48it/s]"
     ]
    },
    {
     "name": "stdout",
     "output_type": "stream",
     "text": [
      "file:上升.dat length is 160001\n",
      "file:驢.dat length is 160001\n"
     ]
    },
    {
     "name": "stderr",
     "output_type": "stream",
     "text": [
      " 60%|██████    | 3/5 [00:00<00:00,  5.68it/s]"
     ]
    },
    {
     "name": "stdout",
     "output_type": "stream",
     "text": [
      "file:開場.dat length is 160001\n",
      "file:波浪.dat length is 160001\n"
     ]
    },
    {
     "name": "stderr",
     "output_type": "stream",
     "text": [
      "100%|██████████| 5/5 [00:00<00:00,  5.77it/s]"
     ]
    },
    {
     "name": "stdout",
     "output_type": "stream",
     "text": [
      "file:象.dat length is 160001\n",
      "processing completed.\n"
     ]
    },
    {
     "name": "stderr",
     "output_type": "stream",
     "text": [
      "\n"
     ]
    }
   ],
   "source": [
    "Dat2WAV()"
   ]
  },
  {
   "cell_type": "code",
   "execution_count": 20,
   "metadata": {},
   "outputs": [],
   "source": [
    "ffmpeg_mp3_to_wav_cmd = \"ffmpeg -i {mp3} -vn -acodec pcm_s16le -ac 1 -ar {sr} -f wav {wav}\"\n",
    "mpg123_mp3_to_wav_cmd = \"mpg123 -w {wav} {mp3}\""
   ]
  },
  {
   "cell_type": "code",
   "execution_count": 21,
   "metadata": {},
   "outputs": [],
   "source": [
    "import subprocess\n",
    "def run_win_cmd(cmd):\n",
    "    result = []\n",
    "    process = subprocess.Popen(cmd,\n",
    "                               shell=True,\n",
    "                               stdout=subprocess.PIPE,\n",
    "                               stderr=subprocess.PIPE)\n",
    "    for line in process.stdout:\n",
    "        result.append(line)\n",
    "    errcode = process.returncode\n",
    "    for line in result:\n",
    "        print(line)\n",
    "    if errcode is not None:\n",
    "        raise Exception('cmd %s failed, see above for details', cmd)"
   ]
  },
  {
   "cell_type": "code",
   "execution_count": 28,
   "metadata": {},
   "outputs": [],
   "source": [
    "noise_mp3_files_path = \"D:/MyGitPrjs/2018_Acustic_Resource_Classes/noise_mp3/\"\n",
    "speech_mp3_files_path = \"D:/MyGitPrjs/2018_Acustic_Resource_Classes/speech_only_mp3/\"\n",
    "mp3_file_list = getFilesInFloder(noise_mp3_files_path)\n",
    "speech_mp3_file_list = getFilesInFloder(speech_mp3_files_path)\n",
    "def convert_mp3_to_wav():\n",
    "    for f in tqdm(speech_mp3_file_list):\n",
    "#         print(\"processing {}.....\".format(f))\n",
    "        command = ffmpeg_mp3_to_wav_cmd.format(mp3=speech_mp3_files_path+f, sr=16000, wav=\"D:/MyGitPrjs/2018_Acustic_Resource_Classes/speech_only_wav/two_channel_wav/{}.wav\".format(f))\n",
    "        wcommand = 'cmd /c \"{}\"'.format(command)        \n",
    "#         print(wcommand)\n",
    "        os.system(wcommand)\n"
   ]
  },
  {
   "cell_type": "code",
   "execution_count": 29,
   "metadata": {},
   "outputs": [
    {
     "name": "stderr",
     "output_type": "stream",
     "text": [
      "100%|██████████████████████████████████████████████████████████████████████████████████| 22/22 [00:05<00:00,  4.09it/s]\n"
     ]
    }
   ],
   "source": [
    "convert_mp3_to_wav()"
   ]
  },
  {
   "cell_type": "code",
   "execution_count": 23,
   "metadata": {},
   "outputs": [],
   "source": [
    "def convert_two_channel_wav_to_mat(src_dir,filename,mat_save_dir, chnum=2):\n",
    "    mat_len = 160000\n",
    "    #read wav file\n",
    "    audio_array, sr  = sf.read(src_dir+filename)#librosa.load(filename)\n",
    "    if chnum==2:\n",
    "        audio_array = audio_array[:,0]\n",
    "    ret_clip = (audio_array[0:mat_len]*max_value).astype(dtype='double')\n",
    "    mat_dict = {\"s\":ret_clip}\n",
    "    spio.savemat(mat_save_dir+filename+\".mat\",mat_dict,oned_as='column')\n",
    "    print(\"converting {} to mat file completed.\".format(filename))"
   ]
  },
  {
   "cell_type": "code",
   "execution_count": null,
   "metadata": {},
   "outputs": [],
   "source": []
  }
 ],
 "metadata": {
  "kernelspec": {
   "display_name": "Python 3",
   "language": "python",
   "name": "python3"
  },
  "language_info": {
   "codemirror_mode": {
    "name": "ipython",
    "version": 3
   },
   "file_extension": ".py",
   "mimetype": "text/x-python",
   "name": "python",
   "nbconvert_exporter": "python",
   "pygments_lexer": "ipython3",
   "version": "3.7.4"
  }
 },
 "nbformat": 4,
 "nbformat_minor": 2
}
