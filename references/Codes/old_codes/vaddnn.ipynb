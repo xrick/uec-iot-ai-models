{
 "cells": [
  {
   "cell_type": "code",
   "execution_count": 4,
   "metadata": {},
   "outputs": [],
   "source": [
    "import torch\n",
    "import torch.nn as nn\n",
    "import numpy as np\n",
    "import scipy.io as matio"
   ]
  },
  {
   "cell_type": "code",
   "execution_count": 5,
   "metadata": {},
   "outputs": [],
   "source": [
    "device=torch.device('cuda' if torch.cuda.is_available() else 'cpu')"
   ]
  },
  {
   "cell_type": "code",
   "execution_count": 13,
   "metadata": {},
   "outputs": [],
   "source": [
    "class DNN(nn.Module):\n",
    "    \n",
    "    def __init__(self,config=None):\n",
    "        super(DNN,self)\n",
    "        self.learning_rate=0.005\n",
    "        self.batch_size=128\n",
    "        self.n_band = 40\n",
    "        self.n_hidden1 = 512\n",
    "        self.n_hidden2 = 32\n",
    "        self.n_classes = 2\n",
    "        self.EPOCHES=18000\n",
    "        self.input_layer = nn.Linear(n_band,n_hidden1)\n",
    "        self.hidden_layer = nn.Linear(n_hidden1,n_hidden2)\n",
    "        self.output_layer = nn.Linear(n_hidden2,n_classes)\n",
    "        self.activation_fun = nn.ReLU(inplace=False)\n",
    "        self.criterion = nn.CrossEntropyLoss(reduction='mean') \n",
    "        \n",
    "    def forward(self,x):\n",
    "        x = self.input_layer(x)\n",
    "        x = self.activation_fun(x)\n",
    "        x = self.hidden_layer(x)\n",
    "        x = self.activation_fun(x)\n",
    "        x = self.output_layer(x)\n",
    "        return x"
   ]
  },
  {
   "cell_type": "code",
   "execution_count": null,
   "metadata": {},
   "outputs": [],
   "source": []
  }
 ],
 "metadata": {
  "kernelspec": {
   "display_name": "Python 3",
   "language": "python",
   "name": "python3"
  },
  "language_info": {
   "codemirror_mode": {
    "name": "ipython",
    "version": 3
   },
   "file_extension": ".py",
   "mimetype": "text/x-python",
   "name": "python",
   "nbconvert_exporter": "python",
   "pygments_lexer": "ipython3",
   "version": "3.7.6"
  }
 },
 "nbformat": 4,
 "nbformat_minor": 2
}
