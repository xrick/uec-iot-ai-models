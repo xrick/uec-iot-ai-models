version https://git-lfs.github.com/spec/v1
oid sha256:8a015d3bd2fab764fb27c6a44b0322f906a72fdb3813742120fc5611ce1e7678
size 20827
