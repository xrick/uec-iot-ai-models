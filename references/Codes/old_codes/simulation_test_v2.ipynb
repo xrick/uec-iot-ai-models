{
 "cells": [
  {
   "cell_type": "code",
   "execution_count": 48,
   "metadata": {
    "pycharm": {
     "is_executing": false
    }
   },
   "outputs": [],
   "source": [
    "import numpy as np\n",
    "import scipy.io as spio\n",
    "from os import listdir\n",
    "from os.path import isfile, join\n",
    "import timeit as tt\n",
    "import json\n",
    "import sys\n",
    "#import pandas\n",
    "np.set_printoptions(threshold=sys.maxsize)"
   ]
  },
  {
   "cell_type": "code",
   "execution_count": 49,
   "metadata": {
    "pycharm": {
     "is_executing": false
    }
   },
   "outputs": [],
   "source": [
    "test_config={\n",
    "    \"matfile\":\"\",\n",
    "    \"comp_base\":\"\",\n",
    "    \"midFreq\":\"\",\n",
    "    \"inband\":\"\",\n",
    "    \"bandnum\":\"\",\n",
    "    \"lbl_len\":\"\"\n",
    "}"
   ]
  },
  {
   "cell_type": "code",
   "execution_count": 50,
   "metadata": {
    "pycharm": {
     "is_executing": false
    }
   },
   "outputs": [],
   "source": [
    "def write_speech_to_mat(source, destination):\n",
    "    pass"
   ]
  },
  {
   "cell_type": "code",
   "execution_count": 51,
   "metadata": {
    "pycharm": {
     "is_executing": false
    }
   },
   "outputs": [],
   "source": [
    "def load_file(file_name):\n",
    "    pass"
   ]
  },
  {
   "cell_type": "code",
   "execution_count": 52,
   "metadata": {
    "pycharm": {
     "is_executing": false
    }
   },
   "outputs": [],
   "source": [
    "def load_matrix_weight(mat_file):\n",
    "    pass"
   ]
  },
  {
   "cell_type": "code",
   "execution_count": 53,
   "metadata": {
    "pycharm": {
     "is_executing": false
    }
   },
   "outputs": [],
   "source": [
    "def sigmoid(X):\n",
    "    return 1/(1+np.exp(-X))\n",
    "\n",
    "def relu(X):\n",
    "    return np.maximum(0,X)\n",
    "\n",
    "def softmax(X):\n",
    "    expo = np.exp(X)\n",
    "    expo_sum = np.sum(np.exp(X))\n",
    "    return expo/expo_sum"
   ]
  },
  {
   "cell_type": "code",
   "execution_count": 54,
   "metadata": {
    "pycharm": {
     "is_executing": false
    }
   },
   "outputs": [],
   "source": [
    "def getFilesInFloder(folderPath):\n",
    "    onlyfiles = [f for f in listdir(folderPath) if isfile(join(folderPath, f))]\n",
    "    return onlyfiles"
   ]
  },
  {
   "cell_type": "code",
   "execution_count": 55,
   "metadata": {
    "pycharm": {
     "is_executing": false
    }
   },
   "outputs": [],
   "source": [
    "def genICFilterMatrix(bandnum, y_length, mid_freq_matrix):\n",
    "    ret_icfilter = np.zeros((bandnum, y_length),dtype=float)\n",
    "    for i in range(bandnum):\n",
    "        if i == 9:\n",
    "            for j in range(y_length):\n",
    "                ret_icfilter[i][j]=10**((-360*abs(np.log10(15.625*(j-1)+1)-np.log10(15.625*(mid_freq_matrix[i]-1))))/20)\n",
    "        elif i == 10:\n",
    "            for j in range(y_length):\n",
    "                ret_icfilter[i][j]=10**((-360*abs(np.log10(15.625*(j-1)+1)-np.log10(15.625*(mid_freq_matrix[i]-1))))/20)\n",
    "        else:\n",
    "            for j in range(y_length):\n",
    "                ret_icfilter[i][j]=10**((-20*12*abs(np.log10(15.625*(j-1)+1)-np.log10(15.625*(mid_freq_matrix[i]-1))))/20)\n",
    "    \n",
    "    return ret_icfilter"
   ]
  },
  {
   "cell_type": "code",
   "execution_count": 56,
   "metadata": {},
   "outputs": [],
   "source": [
    "class NumpyEncoder(json.JSONEncoder):\n",
    "    \"\"\" Special json encoder for numpy types \"\"\"\n",
    "    def default(self, obj):\n",
    "        if isinstance(obj, (np.int_, np.intc, np.intp, np.int8,\n",
    "            np.int16, np.int32, np.int64, np.uint8,\n",
    "            np.uint16, np.uint32, np.uint64)):\n",
    "            return int(obj)\n",
    "        elif isinstance(obj, (np.float_, np.float16, np.float32, \n",
    "            np.float64)):\n",
    "            return float(obj)\n",
    "        elif isinstance(obj,(np.ndarray,)): #### This is the fix\n",
    "            return obj.tolist()\n",
    "        return json.JSONEncoder.default(self, obj)"
   ]
  },
  {
   "cell_type": "code",
   "execution_count": 57,
   "metadata": {},
   "outputs": [],
   "source": [
    "# rec_structure = \n",
    "# {\n",
    "#     \"test_global_parameters\":\n",
    "#     {\n",
    "#         \"start_frame\"=,\n",
    "#         \"end_frame\"=,\n",
    "#         \"step_quantity\"=,\n",
    "#     }\n",
    "#     ,\n",
    "#     \"test_record\":\n",
    "#     {\n",
    "#         \"\":\"\"\n",
    "        \n",
    "#     }\n",
    "    \n",
    "\n",
    "# }"
   ]
  },
  {
   "cell_type": "code",
   "execution_count": 58,
   "metadata": {
    "pycharm": {
     "is_executing": false
    }
   },
   "outputs": [],
   "source": [
    "def runAccuracyTest(weights_file=None, test_matfile=None, comp_base=1, threshold=-145, lbl_len=513,\n",
    "                    icfilterary=None ,startPoint=1600, stepQuantity=400 \\\n",
    "                   ):\n",
    "    \"\"\"doing the accuracy of input matfile\n",
    "    \n",
    "    parameters:on-default argument fo\n",
    "    test_matfile: to test mat file path\n",
    "    camp_base: accuracy co\n",
    "    \n",
    "    \"\"\"\n",
    "    weights = spio.loadmat(weights_file)\n",
    "    w1 = weights[\"w1\"]\n",
    "    w2 = weights[\"w2\"]\n",
    "    w3 = weights[\"w3\"]\n",
    "    b1 = weights[\"b1\"]\n",
    "    b2 = weights[\"b2\"]\n",
    "    b3 = weights[\"b3\"]\n",
    "    mat_data = spio.loadmat(test_matfile)\n",
    "    \n",
    "    inband = 4\n",
    "    bandnum = 10\n",
    "    count_answer_1 = 0\n",
    "    count_answer_0 = 0\n",
    "    count_test_1 = 0\n",
    "    count_test_0 = 0\n",
    "\n",
    "    y_answer = np.empty([0,0],dtype=int)\n",
    "    y_test = np.empty([0,0])\n",
    "\n",
    "    local_power = np.empty([0,0])\n",
    "    local_power_normalize = np.empty([0,0],dtype=int)\n",
    "    x_all = np.empty([0,0])\n",
    "    x_normalize_all = np.empty([0,0])\n",
    "    \n",
    "    s_len = int(400*(np.floor(len(mat_data['s'])/400)))\n",
    "    sample_num = inband * bandnum\n",
    "    test_counter = 0\n",
    "#     loop_record={}\n",
    "#     loop_record[\"mat_file\"]=test_matfile\n",
    "#     loop_record[\"comp_base\"]=comp_base\n",
    "#     constant_str1 = \"loop\"\n",
    "    for i in range(startPoint,s_len,stepQuantity):\n",
    "        test_counter += 1\n",
    "        #divide four segment every 25ms\n",
    "        idx1 = i-1600\n",
    "        idx2 = i-1200\n",
    "        idx3 = i-800\n",
    "        idx4 = i-400\n",
    "        s1 = mat_data['s'][idx1:idx2] #0-399\n",
    "        s2 = mat_data['s'][idx2:idx3] #400-799run_test_main,number\n",
    "        s3 = mat_data['s'][idx3:idx4] #800-1199\n",
    "        s4 = mat_data['s'][idx4:i]    #1200-1599\n",
    "#         loop_record={\n",
    "#             \"s1\":\"{}_{}\".format(idx1,idx2),\n",
    "#             \"s2\":\"{}_{}\".format(idx2,idx3),\n",
    "#             \"s3\":\"{}_{}\".format(idx3,idx4),\n",
    "#             \"s4\":\"{}_{}\".format(idx4,i)\n",
    "#         }\n",
    "#         loop_record[\"threshold\"]=threshold      \n",
    "#         s1 = mat_data['s'][i-1600:i-1200]#0-399\n",
    "#         s2 = mat_data['s'][i-1200:i-800] #400-799\n",
    "#         s3 = mat_data['s'][i-800:i-400]  #800-1199\n",
    "#         s4 = mat_data['s'][i-400:i]      #1200-1599\n",
    "\n",
    "        s_fft_1 = np.fft.fft(s1,n=1024,axis=0) \n",
    "        s_fft_2 = np.fft.fft(s2,n=1024,axis=0) \n",
    "        s_fft_3 = np.fft.fft(s3,n=1024,axis=0) \n",
    "        s_fft_4 = np.fft.fft(s4,n=1024,axis=0) \n",
    "\n",
    "        s_fft_1_513 = np.split(s_fft_1,[0,lbl_len-1],axis=0)[1]\n",
    "        s_fft_2_513 = np.split(s_fft_2,[0,lbl_len-1],axis=0)[1]\n",
    "        s_fft_3_513 = np.split(s_fft_3,[0,lbl_len-1],axis=0)[1]\n",
    "        s_fft_4_513 = np.split(s_fft_4,[0,lbl_len-1],axis=0)[1]\n",
    "\n",
    "        # there is one error element in every array in position 9 of each array\n",
    "        x1 = np.log(np.matmul(icfilterary,(np.abs(s_fft_1_513)**2)) + 0.0001)\n",
    "        x2 = np.log(np.matmul(icfilterary,(np.abs(s_fft_2_513)**2)) + 0.0001)\n",
    "        x3 = np.log(np.matmul(icfilterary,(np.abs(s_fft_3_513)**2)) + 0.0001)\n",
    "        x4 = np.log(np.matmul(icfilterary,(np.abs(s_fft_4_513)**2)) + 0.0001)\n",
    "\n",
    "        x= np.array([x1,x2,x3,x4]).reshape(1,sample_num)\n",
    "        x_40 = x[0:40]\n",
    "        \n",
    "        max_ele = np.amax(x_40,axis=1)\n",
    "        min_ele = np.amin(x_40,axis=1)\n",
    "        sum_of_x = np.sum(x_40)\n",
    "        \n",
    "        # normalize\n",
    "        x_normalize = (x_40-min_ele)/(max_ele-min_ele+0.0001)\n",
    "\n",
    "        #counting the test\n",
    "        if sum_of_x > threshold:\n",
    "            #performing the model weight mulplications\n",
    "            answer = softmax(np.matmul(relu(np.matmul(relu(np.matmul(x_normalize,w1)+b1),w2)+b2),w3)+b3)\n",
    "            if answer[0,0] > answer[0,1]:\n",
    "                y_test = np.append(y_test, 0)\n",
    "                count_test_0 += 1\n",
    "            else:\n",
    "                y_test = np.append(y_test, 1)\n",
    "                count_test_1 += 1\n",
    "        else:\n",
    "            y_test = np.append(y_test, 0)\n",
    "            count_test_0 += 1\n",
    "\n",
    "        #counting our answer\n",
    "        if comp_base == 1:\n",
    "            if sum_of_x > threshold:\n",
    "                y_answer = np.append(y_answer,1)\n",
    "                count_answer_1 += 1\n",
    "            else:\n",
    "                y_answer = np.append(y_answer,0)\n",
    "                count_answer_0 += 1\n",
    "        else:\n",
    "            y_answer = np.append(y_answer,0)\n",
    "            count_answer_0 += 1\n",
    "            \n",
    "#     loop_record[\"total_loop\"] = test_counter\n",
    "    acc = 0\n",
    "    LED = 0\n",
    "    wrong = np.empty([0,0])\n",
    "#     loop_record[\"y_answer\"]=y_answer.tolist()\n",
    "    y_answer_len = len(y_answer)\n",
    "#     loop_record[\"y_answer_len\"]=y_answer_len\n",
    "    \n",
    "#     loop_record[\"y_test\"] = y_test.tolist()\n",
    "    y_test_len = len(y_test)\n",
    "#     loop_record[\"y_test_len\"] = y_test_len\n",
    "    \n",
    "    if comp_base == 1: #if our test data is human voice\n",
    "        for c in range(y_answer_len):\n",
    "            acc += abs(y_answer[c]-y_test[c])\n",
    "\n",
    "        acc = (y_answer_len-acc)/y_answer_len\n",
    "    else:\n",
    "        acc = count_test_0/(count_test_0+count_test_1)\n",
    "    \n",
    "#     loop_record[\"accuracy\"]=acc\n",
    "#     return loop_record\n",
    "    print(\"acc is \", acc)\n",
    "    print(\"{} test completed\\n\".format(test_matfile))\n",
    "    return acc #json.dumps(loop_record,cls=NumpyEncoder)\n"
   ]
  },
  {
   "cell_type": "code",
   "execution_count": 43,
   "metadata": {
    "pycharm": {
     "is_executing": false
    }
   },
   "outputs": [
    {
     "name": "stderr",
     "output_type": "stream",
     "text": [
      "/home/user/anaconda3/lib/python3.7/site-packages/ipykernel_launcher.py:12: RuntimeWarning: invalid value encountered in log10\n",
      "  if sys.path[0] == '':\n",
      "/home/user/anaconda3/lib/python3.7/site-packages/ipykernel_launcher.py:6: RuntimeWarning: invalid value encountered in log10\n",
      "  \n"
     ]
    }
   ],
   "source": [
    "middleFreq = [16, 20, 26, 36, 48, 60, 80, 101, 256, 353]\n",
    "_weights = \"../../Weights/w_original_128x32.mat\n",
    "y_len = 513\n",
    "icfilterary = genICFilterMatrix(10, y_len, middleFreq)[:,1:]\n",
    "def run_multitest_main():\n",
    "    _matfilespath = \"../../speechData/forKriz/clean_mat/\"\n",
    "    cflag = 1\n",
    "    filelist = getFilesInFloder(_matfilespath)\n",
    "    print(\"files in _matfilespath are {}\".format(filelist))\n",
    "    acclist = []\n",
    "    for f in filelist:\n",
    "        _acc = runAccuracyTest(_weights, _matfilespath+f, icfilterary=icfilterary,comp_base=cflag)\n",
    "        acclist.append(_acc)\n",
    "#         with open(\"logfiles/noise1016_M1_1/\"+f+\".log\", 'w') as outfile:\n",
    "#             outfile.write(str(log))\n",
    "#             outfile.flush()\n",
    "    #calculating average of all accs\n",
    "    avg = sum(acclist)/len(acclist)\n",
    "    print(\"The average is \", round(avg,5))"
   ]
  },
  {
   "cell_type": "code",
   "execution_count": 44,
   "metadata": {
    "scrolled": false
   },
   "outputs": [
    {
     "name": "stdout",
     "output_type": "stream",
     "text": [
      "files in _matfilespath are ['ABJones_5_lyrics.wav.mat', 'amy_15_lyrics.wav.mat', 'amy_14_lyrics.wav.mat', 'amy_3_lyrics.wav.mat', 'amy_11_lyrics.wav.mat', 'amy_5_lyrics.wav.mat', 'amy_2_lyrics.wav.mat', 'amy_10_lyrics.wav.mat', 'amy_6_lyrics.wav.mat', 'amy_12_lyrics.wav.mat', 'ABJones_1_lyrics.wav.mat', 'ABJones_4_lyrics.wav.mat', 'amy_13_lyrics.wav.mat', 'amy_1_lyrics.wav.mat', 'amy_9_lyrics.wav.mat', 'ABJones_3_lyrics.wav.mat', 'ABJones_2_lyrics.wav.mat', 'amy_4_lyrics.wav.mat', 'amy_7_lyrics.wav.mat', 'amy_8_lyrics.wav.mat']\n",
      "acc is  1.0\n",
      "../../speechData/forKriz/clean_mat/ABJones_5_lyrics.wav.mat test completed\n",
      "\n",
      "acc is  1.0\n",
      "../../speechData/forKriz/clean_mat/amy_15_lyrics.wav.mat test completed\n",
      "\n"
     ]
    },
    {
     "name": "stderr",
     "output_type": "stream",
     "text": [
      "/home/user/anaconda3/lib/python3.7/site-packages/ipykernel_launcher.py:8: RuntimeWarning: overflow encountered in exp\n",
      "  \n",
      "/home/user/anaconda3/lib/python3.7/site-packages/ipykernel_launcher.py:9: RuntimeWarning: overflow encountered in exp\n",
      "  if __name__ == '__main__':\n",
      "/home/user/anaconda3/lib/python3.7/site-packages/ipykernel_launcher.py:10: RuntimeWarning: invalid value encountered in true_divide\n",
      "  # Remove the CWD from sys.path while we load stuff.\n"
     ]
    },
    {
     "name": "stdout",
     "output_type": "stream",
     "text": [
      "acc is  0.9974747474747475\n",
      "../../speechData/forKriz/clean_mat/amy_14_lyrics.wav.mat test completed\n",
      "\n",
      "acc is  1.0\n",
      "../../speechData/forKriz/clean_mat/amy_3_lyrics.wav.mat test completed\n",
      "\n",
      "acc is  0.9974747474747475\n",
      "../../speechData/forKriz/clean_mat/amy_11_lyrics.wav.mat test completed\n",
      "\n",
      "acc is  1.0\n",
      "../../speechData/forKriz/clean_mat/amy_5_lyrics.wav.mat test completed\n",
      "\n",
      "acc is  1.0\n",
      "../../speechData/forKriz/clean_mat/amy_2_lyrics.wav.mat test completed\n",
      "\n",
      "acc is  0.9949494949494949\n",
      "../../speechData/forKriz/clean_mat/amy_10_lyrics.wav.mat test completed\n",
      "\n",
      "acc is  1.0\n",
      "../../speechData/forKriz/clean_mat/amy_6_lyrics.wav.mat test completed\n",
      "\n",
      "acc is  1.0\n",
      "../../speechData/forKriz/clean_mat/amy_12_lyrics.wav.mat test completed\n",
      "\n",
      "acc is  1.0\n",
      "../../speechData/forKriz/clean_mat/ABJones_1_lyrics.wav.mat test completed\n",
      "\n",
      "acc is  1.0\n",
      "../../speechData/forKriz/clean_mat/ABJones_4_lyrics.wav.mat test completed\n",
      "\n",
      "acc is  0.9974747474747475\n",
      "../../speechData/forKriz/clean_mat/amy_13_lyrics.wav.mat test completed\n",
      "\n",
      "acc is  1.0\n",
      "../../speechData/forKriz/clean_mat/amy_1_lyrics.wav.mat test completed\n",
      "\n",
      "acc is  1.0\n",
      "../../speechData/forKriz/clean_mat/amy_9_lyrics.wav.mat test completed\n",
      "\n",
      "acc is  1.0\n",
      "../../speechData/forKriz/clean_mat/ABJones_3_lyrics.wav.mat test completed\n",
      "\n",
      "acc is  0.9924242424242424\n",
      "../../speechData/forKriz/clean_mat/ABJones_2_lyrics.wav.mat test completed\n",
      "\n",
      "acc is  1.0\n",
      "../../speechData/forKriz/clean_mat/amy_4_lyrics.wav.mat test completed\n",
      "\n",
      "acc is  0.9949494949494949\n",
      "../../speechData/forKriz/clean_mat/amy_7_lyrics.wav.mat test completed\n",
      "\n",
      "acc is  1.0\n",
      "../../speechData/forKriz/clean_mat/amy_8_lyrics.wav.mat test completed\n",
      "\n",
      "The average is  0.99874\n",
      "total test time is  : 1.4990843650011811\n"
     ]
    }
   ],
   "source": [
    "#perform performance measurement\n",
    "print(\"total test time is  : {}\".format(tt.timeit(run_multitest_main,number=1)))"
   ]
  },
  {
   "cell_type": "code",
   "execution_count": 34,
   "metadata": {},
   "outputs": [],
   "source": [
    "# def single_file_test():\n",
    "#     _weights = \"../weight/8+2band(25ms)/20200110/weight_512x32_20200110_15786815140978317.mat\"\n",
    "#     y_len = 513\n",
    "#     middleFreq = [16, 20, 26, 36, 48, 60, 80, 101, 256, 353]\n",
    "#     icfilterary = genICFilterMatrix(10, y_len, middleFreq)[:,1:]\n",
    "#     _matfile = \"../data/noise_mat/Speakers_Train/bear.dat.mat\"\n",
    "#     _matfile2 = \"../data/test_mat/cow.dat.mat\"\n",
    "#     testlst = []\n",
    "#     _acc, jsonlog = runAccuracyTest(_weights,_matfile2,icfilterary=icfilterary)\n",
    "    \n",
    "#     with open(\"test_singlefile.log\",\"w\") as f:\n",
    "#         f.write(str(jsonlog))\n",
    "#         f.flush()\n",
    "#     # print(\"_acc is {}\".format(_acc))\n",
    "#     print(jsonlog)"
   ]
  },
  {
   "cell_type": "code",
   "execution_count": 19,
   "metadata": {},
   "outputs": [],
   "source": [
    "# print(\"total test time is  : {}\".format(tt.timeit(single_file_test,number=1)))"
   ]
  },
  {
   "cell_type": "code",
   "execution_count": 12,
   "metadata": {
    "pycharm": {
     "is_executing": false,
     "name": "#%%\n"
    }
   },
   "outputs": [],
   "source": [
    "#load mat file\n",
    "# weights = spio.loadmat('../weight/8+2band(25ms)/20200110/weight_512x32_20200110_15786815140978317.mat')\n",
    "# w1 = weights[\"w1\"]\n",
    "# w2 = weights[\"w2\"]\n",
    "# w3 = weights[\"w3\"]\n",
    "# b1 = weights[\"b1\"]\n",
    "# b2 = weights[\"b2\"]\n",
    "# b3 = weights[\"b3\"]\n",
    "s = spio.loadmat('../data/noise_mat/Speakers_Train/bear.dat.mat')\n",
    "target = 0 # 0: mean we load the noise data; 1: load the human speech\n",
    "# print(\"s length is {}\".format(len(s)))\n"
   ]
  },
  {
   "cell_type": "code",
   "execution_count": 13,
   "metadata": {
    "pycharm": {
     "is_executing": false
    }
   },
   "outputs": [
    {
     "name": "stdout",
     "output_type": "stream",
     "text": [
      "['A1_P20_ForestDay.dat.mat', 'A1_上升.dat.mat', 'A1_驢.dat.mat', 'A1_開場.dat.mat', 'A1_Holmes坐皮椅.dat.mat', 'A1_Kz踏office地毯.dat.mat', 'A1_手持officeMic敲桌子 .dat.mat', 'A1_P20_Sailing.dat.mat', 'A1_十指關節敲桌子 .dat.mat', 'A1_拍軟墊牆壁.dat.mat', 'A1_P20_Flow.dat.mat', 'A1_P20_Impromuto.dat.mat', 'A1_環境音.dat.mat', 'A1_敲白板.dat.mat']\n"
     ]
    }
   ],
   "source": [
    "print(getFilesInFloder(\"../data/noise_mat/A1/\"))"
   ]
  },
  {
   "cell_type": "code",
   "execution_count": 14,
   "metadata": {
    "pycharm": {
     "is_executing": false
    }
   },
   "outputs": [],
   "source": [
    "# midfre = [16, 20, 26, 36, 48, 60, 80, 101, 256, 353]\n",
    "# second_range = 512\n",
    "# icfilter = np.zeros((bandnum, second_range),dtype=float)"
   ]
  },
  {
   "cell_type": "code",
   "execution_count": 103,
   "metadata": {},
   "outputs": [
    {
     "name": "stdout",
     "output_type": "stream",
     "text": [
      "(1541, 1)\n"
     ]
    }
   ],
   "source": [
    "tmp_ary = np.array([1,1])\n",
    "for i in range(3):\n",
    "    tmp_ary2 = np.random.randint(low = 1, high = 99, size = 513)\n",
    "    tmp_ary = np.append(tmp_ary,tmp_ary2)\n",
    "tmp_ary = tmp_ary.reshape(len(tmp_ary),1)\n",
    "print(tmp_ary.shape)"
   ]
  },
  {
   "cell_type": "code",
   "execution_count": null,
   "metadata": {},
   "outputs": [],
   "source": []
  }
 ],
 "metadata": {
  "kernelspec": {
   "display_name": "Python 3",
   "language": "python",
   "name": "python3"
  },
  "language_info": {
   "codemirror_mode": {
    "name": "ipython",
    "version": 3
   },
   "file_extension": ".py",
   "mimetype": "text/x-python",
   "name": "python",
   "nbconvert_exporter": "python",
   "pygments_lexer": "ipython3",
   "version": "3.7.4"
  },
  "pycharm": {
   "stem_cell": {
    "cell_type": "raw",
    "metadata": {
     "collapsed": false
    },
    "source": []
   }
  }
 },
 "nbformat": 4,
 "nbformat_minor": 2
}
