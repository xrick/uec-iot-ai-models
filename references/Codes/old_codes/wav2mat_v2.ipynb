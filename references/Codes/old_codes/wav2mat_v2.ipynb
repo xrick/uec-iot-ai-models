{
 "cells": [
  {
   "cell_type": "code",
   "execution_count": 41,
   "metadata": {},
   "outputs": [],
   "source": [
    "# print(\"Noise File List (20 files)\")\n",
    "# noisefilespath1 = \"./data/forKriz/Noise/\"\n",
    "# noisefilelist1 = getFilesInFloder(noisefilespath1)\n",
    "# print(len(noisefilelist1))\n",
    "# print(noisefilelist1)\n",
    "# with open(\"./data/forKriz/noisefiles.txt\",\"w\") as fin:\n",
    "#     for file in noisefilelist1:\n",
    "#         fin.write(file)\n",
    "#         fin.write(\"\\n\")"
   ]
  },
  {
   "cell_type": "code",
   "execution_count": 68,
   "metadata": {},
   "outputs": [],
   "source": [
    "import os\n",
    "import sys\n",
    "import numpy as np\n",
    "from os import listdir\n",
    "from os.path import isfile, join\n",
    "import scipy.io as spio\n",
    "import librosa\n",
    "import scipy.io.wavfile as sciwav\n",
    "import soundfile as sf\n",
    "from tqdm import tqdm"
   ]
  },
  {
   "cell_type": "code",
   "execution_count": 16,
   "metadata": {},
   "outputs": [],
   "source": [
    "def getFilesInFloder(folderPath):\n",
    "    onlyfiles = [f for f in listdir(folderPath) if isfile(join(folderPath, f))]\n",
    "    return onlyfiles"
   ]
  },
  {
   "cell_type": "code",
   "execution_count": 17,
   "metadata": {},
   "outputs": [],
   "source": [
    "min_value = np.iinfo('int16').min\n",
    "max_value = np.iinfo('int16').max"
   ]
  },
  {
   "cell_type": "code",
   "execution_count": null,
   "metadata": {},
   "outputs": [],
   "source": []
  },
  {
   "cell_type": "code",
   "execution_count": 3,
   "metadata": {},
   "outputs": [],
   "source": [
    "# sr, stereo_data = librosa.load(test_file)\n",
    "# nparts = 100\n",
    "# part_length = len(stereo_data) // nparts \n",
    "\n",
    "# stereo_parts = numpy.split(stereo_data[:part_length*nparts], nparts)\n",
    "\n",
    "# new_data = numpy.vstack([numpy.zeros((1, 2), dtype=stereo_data.dtype)] +\n",
    "#                         stereo_parts)\n",
    "\n",
    "# sciwav.write('testfile.txt', sr, new_data)"
   ]
  },
  {
   "cell_type": "markdown",
   "metadata": {},
   "source": [
    "# Convert MP3 to WAV"
   ]
  },
  {
   "cell_type": "markdown",
   "metadata": {},
   "source": [
    "## linux command line like following\n",
    "<b>convert to wav: &nbsp;\n",
    "ffmpeg -i foo.mp3 -vn -acodec pcm_s16le -ac 1 -ar 44100 -f wav foo.wav<br /> \n",
    "<b>or\n",
    "<br />mpg123 -w foo.wav foo.mp3"
   ]
  },
  {
   "cell_type": "code",
   "execution_count": 4,
   "metadata": {},
   "outputs": [],
   "source": [
    "ffmpeg_mp3_to_wav_cmd = \"ffmpeg -i {mp3} -vn -acodec pcm_s16le -ac 1 -ar {sr} -f wav {wav}\"\n",
    "mpg123_mp3_to_wav_cmd = \"mpg123 -w {wav} {mp3}\""
   ]
  },
  {
   "cell_type": "code",
   "execution_count": 67,
   "metadata": {},
   "outputs": [
    {
     "name": "stdout",
     "output_type": "stream",
     "text": [
      "['磁鐵敲擊.mp3.wav', '插座開關.mp3.wav', '拍身體1.mp3.wav', '揉塑膠袋.mp3.wav', '窗簾2.mp3.wav', '電話按鍵.mp3.wav', '麥克筆敲擊1.mp3.wav', '板擦拍敲桌子.mp3.wav', '拍手2.mp3.wav', '插座敲擊.mp3.wav', '椅子聲.mp3.wav', '拖拉辦公椅.mp3.wav', '銅摩擦聲.mp3.wav', '電燈開關.mp3.wav', '腳步聲.mp3.wav', '關門聲.mp3.wav', '敲玻璃.mp3.wav']\n"
     ]
    }
   ],
   "source": [
    "noise_wav_list = getFilesInFloder(\"./data/forKriz/Noise_wav/\")\n",
    "clean_wav_list = getFilesInFloder(\"./data/forKriz/Clean/\")\n",
    "\n",
    "print(noise_wav_list)\n"
   ]
  },
  {
   "cell_type": "code",
   "execution_count": 6,
   "metadata": {},
   "outputs": [],
   "source": [
    "# for nf in clean_mp3_list:\n",
    "#     print(\"processing {}.....\".format(nf))\n",
    "#     command = \"mpg123 -w {wav} {mp3}\".format(wav=\"./data/forKriz/Clean_mp3/\"+nf+\".wav\", \\\n",
    "#                                              mp3=\"./data/forKriz/Clean/\"+nf)\n",
    "#     print(command)\n",
    "#     os.system(command)"
   ]
  },
  {
   "cell_type": "code",
   "execution_count": 7,
   "metadata": {},
   "outputs": [],
   "source": [
    "# for nf in noise_mp3_list:\n",
    "#     print(\"processing {}.....\".format(nf))\n",
    "#     command = \"mpg123 -w {wav} {mp3}\".format(wav=\"./data/forKriz/Noisetest_file = \"./data/noise/Ambient noise/環境音NOISE1.mp3\"_mp3/\"+nf+\".wav\", \\\n",
    "#                                              mp3=\"./data/forKriz/Noise/\"+nf)\n",
    "#     print(command)\n",
    "#     os.system(command)"
   ]
  },
  {
   "cell_type": "markdown",
   "metadata": {},
   "source": [
    "## Comvert mav to dat"
   ]
  },
  {
   "cell_type": "code",
   "execution_count": 22,
   "metadata": {},
   "outputs": [],
   "source": [
    "from random import seed\n",
    "from random import random\n",
    "import time"
   ]
  },
  {
   "cell_type": "code",
   "execution_count": 27,
   "metadata": {},
   "outputs": [],
   "source": [
    "# def WAV2DAT(filename):\n",
    "#     seed(time.time())\n",
    "#     tmpfilename = int(random() * 1000)\n",
    "#     dat_len = 160000\n",
    "#     audio_array, sr  = sf.read(filename)#librosa.load(filename)\n",
    "#     audio_len = len(audio_array)\n",
    "# #     nparts = 100\n",
    "# #     part_length = len(audio_array) // nparts \n",
    "#     print(\"shape of audio array is {}\".format(audio_array.shape))\n",
    "#     header_str = \"1651 9 80000000 0 27100 5\"\n",
    "    \n",
    "#     with open(\"./converted_dat/{}.dat\".format(tmpfilename),\"w\") as fw:\n",
    "#         fw.write(header_str)\n",
    "#         if audio_len > dat_len:\n",
    "#             for i in range(dat_len):\n",
    "#                 fw.write(str(round(audio_array[i]*max_value,1)))\n",
    "#                 fw.write(\"\\n\")\n",
    "#         else:\n",
    "#             #fill the array up to 16000 with zero\n",
    "#             pass\n",
    "        \n"
   ]
  },
  {
   "cell_type": "code",
   "execution_count": 28,
   "metadata": {},
   "outputs": [
    {
     "name": "stdout",
     "output_type": "stream",
     "text": [
      "shape of audio array is (981275,)\n"
     ]
    }
   ],
   "source": [
    "# test_file = \"./data/forKriz/Clean/ABJones_1_lyrics.wav\"\n",
    "# WAV2DAT(test_file)"
   ]
  },
  {
   "cell_type": "code",
   "execution_count": 73,
   "metadata": {},
   "outputs": [],
   "source": [
    "noise_mat_dir = \"./data/forKriz/noise_mat/\"\n",
    "clean_mat_dir = \"./data/forKriz/clean_mat/\"\n",
    "def WAV2MAT(src_dir,filename,mat_save_dir, chnum=1):\n",
    "    mat_len = 160000\n",
    "    #read wav file\n",
    "    audio_array, sr  = sf.read(src_dir+filename)#librosa.load(filename)\n",
    "    if chnum==2:\n",
    "        audio_array = audio_array[:,0]\n",
    "    ret_clip = (audio_array[0:mat_len]*max_value).astype(dtype='double')\n",
    "    mat_dict = {\"s\":ret_clip}\n",
    "    spio.savemat(mat_save_dir+filename+\".mat\",mat_dict,oned_as='column')\n",
    "    print(\"converting {} to mat file completed.\".format(filename))\n",
    "#     audio_len = len(audio_array)\n",
    "#     ret_ary = np.empty([1,mat_len],dtype='int16')\n",
    "#     for i in range(mat_len):\n",
    "#         ret_ary[0][i]= int(audio_array[i]*max_value)\n",
    "#     return ret_ary\n",
    "        "
   ]
  },
  {
   "cell_type": "code",
   "execution_count": 74,
   "metadata": {},
   "outputs": [
    {
     "name": "stderr",
     "output_type": "stream",
     "text": [
      "100%|██████████| 17/17 [00:00<00:00, 547.36it/s]"
     ]
    },
    {
     "name": "stdout",
     "output_type": "stream",
     "text": [
      "startint processing noise wav files\n",
      "converting 磁鐵敲擊.mp3.wav to mat file completed.\n",
      "converting 插座開關.mp3.wav to mat file completed.\n",
      "converting 拍身體1.mp3.wav to mat file completed.\n",
      "converting 揉塑膠袋.mp3.wav to mat file completed.\n",
      "converting 窗簾2.mp3.wav to mat file completed.\n",
      "converting 電話按鍵.mp3.wav to mat file completed.\n",
      "converting 麥克筆敲擊1.mp3.wav to mat file completed.\n",
      "converting 板擦拍敲桌子.mp3.wav to mat file completed.\n",
      "converting 拍手2.mp3.wav to mat file completed.\n",
      "converting 插座敲擊.mp3.wav to mat file completed.\n",
      "converting 椅子聲.mp3.wav to mat file completed.\n",
      "converting 拖拉辦公椅.mp3.wav to mat file completed.\n",
      "converting 銅摩擦聲.mp3.wav to mat file completed.\n",
      "converting 電燈開關.mp3.wav to mat file completed.\n",
      "converting 腳步聲.mp3.wav to mat file completed.\n",
      "converting 關門聲.mp3.wav to mat file completed.\n",
      "converting 敲玻璃.mp3.wav to mat file completed.\n"
     ]
    },
    {
     "name": "stderr",
     "output_type": "stream",
     "text": [
      "\n"
     ]
    }
   ],
   "source": [
    "# test_file = \"./data/forKriz/Clean/ABJones_1_lyrics.wav\"\n",
    "# WAV2MAT(test_file)\n",
    "\n",
    "print(\"startint processing noise wav files\")\n",
    "for f in tqdm(noise_wav_list):\n",
    "    WAV2MAT(\"./data/forKriz/Noise_wav/\",f,noise_mat_dir,chnum=2)\n"
   ]
  },
  {
   "cell_type": "code",
   "execution_count": 71,
   "metadata": {},
   "outputs": [
    {
     "name": "stderr",
     "output_type": "stream",
     "text": [
      "100%|██████████| 20/20 [00:00<00:00, 693.49it/s]"
     ]
    },
    {
     "name": "stdout",
     "output_type": "stream",
     "text": [
      "startint processing clean wav files\n",
      "converting amy_2_lyrics.wav to mat file completed.\n",
      "converting amy_5_lyrics.wav to mat file completed.\n",
      "converting ABJones_3_lyrics.wav to mat file completed.\n",
      "converting amy_8_lyrics.wav to mat file completed.\n",
      "converting amy_14_lyrics.wav to mat file completed.\n",
      "converting ABJones_5_lyrics.wav to mat file completed.\n",
      "converting amy_10_lyrics.wav to mat file completed.\n",
      "converting amy_11_lyrics.wav to mat file completed.\n",
      "converting amy_15_lyrics.wav to mat file completed.\n",
      "converting ABJones_1_lyrics.wav to mat file completed.\n",
      "converting ABJones_4_lyrics.wav to mat file completed.\n",
      "converting amy_1_lyrics.wav to mat file completed.\n",
      "converting ABJones_2_lyrics.wav to mat file completed.\n",
      "converting amy_3_lyrics.wav to mat file completed.\n",
      "converting amy_13_lyrics.wav to mat file completed.\n",
      "converting amy_6_lyrics.wav to mat file completed.\n",
      "converting amy_9_lyrics.wav to mat file completed.\n",
      "converting amy_7_lyrics.wav to mat file completed.\n",
      "converting amy_12_lyrics.wav to mat file completed.\n",
      "converting amy_4_lyrics.wav to mat file completed.\n"
     ]
    },
    {
     "name": "stderr",
     "output_type": "stream",
     "text": [
      "\n"
     ]
    }
   ],
   "source": [
    "print(\"startint processing clean wav files\")\n",
    "for f in tqdm(clean_wav_list):\n",
    "    WAV2MAT(\"./data/forKriz/Clean//\",f,clean_mat_dir)"
   ]
  },
  {
   "cell_type": "code",
   "execution_count": 72,
   "metadata": {},
   "outputs": [
    {
     "name": "stdout",
     "output_type": "stream",
     "text": [
      "(330624, 2)\n"
     ]
    }
   ],
   "source": [
    "audio_array, sr  = sf.read('./data/forKriz/Noise_wav/拍身體1.mp3.wav')\n",
    "print(audio_array.shape)"
   ]
  },
  {
   "cell_type": "code",
   "execution_count": null,
   "metadata": {},
   "outputs": [],
   "source": []
  }
 ],
 "metadata": {
  "kernelspec": {
   "display_name": "Python 3",
   "language": "python",
   "name": "python3"
  },
  "language_info": {
   "codemirror_mode": {
    "name": "ipython",
    "version": 3
   },
   "file_extension": ".py",
   "mimetype": "text/x-python",
   "name": "python",
   "nbconvert_exporter": "python",
   "pygments_lexer": "ipython3",
   "version": "3.7.6"
  }
 },
 "nbformat": 4,
 "nbformat_minor": 2
}
