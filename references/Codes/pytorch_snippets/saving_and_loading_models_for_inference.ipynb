{
 "cells": [
  {
   "cell_type": "code",
   "execution_count": null,
   "metadata": {
    "collapsed": false
   },
   "outputs": [],
   "source": [
    "# For tips on running notebooks in Google Colab, see\n",
    "# https://pytorch.org/tutorials/beginner/colab\n",
    "%matplotlib inline"
   ]
  },
  {
   "cell_type": "markdown",
   "metadata": {},
   "source": [
    "Saving and loading models for inference in PyTorch\n",
    "==================================================\n",
    "\n",
    "There are two approaches for saving and loading models for inference in\n",
    "PyTorch. The first is saving and loading the `state_dict`, and the\n",
    "second is saving and loading the entire model.\n",
    "\n",
    "Introduction\n",
    "------------\n",
    "\n",
    "Saving the model's `state_dict` with the `torch.save()` function will\n",
    "give you the most flexibility for restoring the model later. This is the\n",
    "recommended method for saving models, because it is only really\n",
    "necessary to save the trained model's learned parameters. When saving\n",
    "and loading an entire model, you save the entire module using Python's\n",
    "[pickle](https://docs.python.org/3/library/pickle.html) module. Using\n",
    "this approach yields the most intuitive syntax and involves the least\n",
    "amount of code. The disadvantage of this approach is that the serialized\n",
    "data is bound to the specific classes and the exact directory structure\n",
    "used when the model is saved. The reason for this is because pickle does\n",
    "not save the model class itself. Rather, it saves a path to the file\n",
    "containing the class, which is used during load time. Because of this,\n",
    "your code can break in various ways when used in other projects or after\n",
    "refactors. In this recipe, we will explore both ways on how to save and\n",
    "load models for inference.\n",
    "\n",
    "Setup\n",
    "-----\n",
    "\n",
    "Before we begin, we need to install `torch` if it isn't already\n",
    "available.\n",
    "\n",
    "    pip install torch\n"
   ]
  },
  {
   "cell_type": "markdown",
   "metadata": {},
   "source": [
    "Steps\n",
    "=====\n",
    "\n",
    "1.  Import all necessary libraries for loading our data\n",
    "2.  Define and initialize the neural network\n",
    "3.  Initialize the optimizer\n",
    "4.  Save and load the model via `state_dict`\n",
    "5.  Save and load the entire model\n",
    "\n",
    "1. Import necessary libraries for loading our data\n",
    "--------------------------------------------------\n",
    "\n",
    "For this recipe, we will use `torch` and its subsidiaries `torch.nn` and\n",
    "`torch.optim`.\n"
   ]
  },
  {
   "cell_type": "code",
   "execution_count": null,
   "metadata": {
    "collapsed": false
   },
   "outputs": [],
   "source": [
    "import torch\n",
    "import torch.nn as nn\n",
    "import torch.optim as optim"
   ]
  },
  {
   "cell_type": "markdown",
   "metadata": {},
   "source": [
    "2. Define and initialize the neural network\n",
    "===========================================\n",
    "\n",
    "For sake of example, we will create a neural network for training\n",
    "images. To learn more see the Defining a Neural Network recipe.\n"
   ]
  },
  {
   "cell_type": "code",
   "execution_count": null,
   "metadata": {
    "collapsed": false
   },
   "outputs": [],
   "source": [
    "class Net(nn.Module):\n",
    "    def __init__(self):\n",
    "        super(Net, self).__init__()\n",
    "        self.conv1 = nn.Conv2d(3, 6, 5)\n",
    "        self.pool = nn.MaxPool2d(2, 2)\n",
    "        self.conv2 = nn.Conv2d(6, 16, 5)\n",
    "        self.fc1 = nn.Linear(16 * 5 * 5, 120)\n",
    "        self.fc2 = nn.Linear(120, 84)\n",
    "        self.fc3 = nn.Linear(84, 10)\n",
    "\n",
    "    def forward(self, x):\n",
    "        x = self.pool(F.relu(self.conv1(x)))\n",
    "        x = self.pool(F.relu(self.conv2(x)))\n",
    "        x = x.view(-1, 16 * 5 * 5)\n",
    "        x = F.relu(self.fc1(x))\n",
    "        x = F.relu(self.fc2(x))\n",
    "        x = self.fc3(x)\n",
    "        return x\n",
    "\n",
    "net = Net()\n",
    "print(net)"
   ]
  },
  {
   "cell_type": "markdown",
   "metadata": {},
   "source": [
    "3. Initialize the optimizer\n",
    "===========================\n",
    "\n",
    "We will use SGD with momentum.\n"
   ]
  },
  {
   "cell_type": "code",
   "execution_count": null,
   "metadata": {
    "collapsed": false
   },
   "outputs": [],
   "source": [
    "optimizer = optim.SGD(net.parameters(), lr=0.001, momentum=0.9)"
   ]
  },
  {
   "cell_type": "markdown",
   "metadata": {},
   "source": [
    "4. Save and load the model via `state_dict`\n",
    "===========================================\n",
    "\n",
    "Let's save and load our model using just `state_dict`.\n"
   ]
  },
  {
   "cell_type": "code",
   "execution_count": null,
   "metadata": {
    "collapsed": false
   },
   "outputs": [],
   "source": [
    "# Specify a path\n",
    "PATH = \"state_dict_model.pt\"\n",
    "\n",
    "# Save\n",
    "torch.save(net.state_dict(), PATH)\n",
    "\n",
    "# Load\n",
    "model = Net()\n",
    "model.load_state_dict(torch.load(PATH))\n",
    "model.eval()"
   ]
  },
  {
   "cell_type": "markdown",
   "metadata": {},
   "source": [
    "A common PyTorch convention is to save models using either a `.pt` or\n",
    "`.pth` file extension.\n",
    "\n",
    "Notice that the `load_state_dict()` function takes a dictionary object,\n",
    "NOT a path to a saved object. This means that you must deserialize the\n",
    "saved state\\_dict before you pass it to the `load_state_dict()`\n",
    "function. For example, you CANNOT load using\n",
    "`model.load_state_dict(PATH)`.\n",
    "\n",
    "Remember too, that you must call `model.eval()` to set dropout and batch\n",
    "normalization layers to evaluation mode before running inference.\n",
    "Failing to do this will yield inconsistent inference results.\n",
    "\n",
    "5. Save and load entire model\n",
    "=============================\n",
    "\n",
    "Now let's try the same thing with the entire model.\n"
   ]
  },
  {
   "cell_type": "code",
   "execution_count": null,
   "metadata": {
    "collapsed": false
   },
   "outputs": [],
   "source": [
    "# Specify a path\n",
    "PATH = \"entire_model.pt\"\n",
    "\n",
    "# Save\n",
    "torch.save(net, PATH)\n",
    "\n",
    "# Load\n",
    "model = torch.load(PATH)\n",
    "model.eval()"
   ]
  },
  {
   "cell_type": "markdown",
   "metadata": {},
   "source": [
    "Again here, remember that you must call `model.eval()` to set dropout\n",
    "and batch normalization layers to evaluation mode before running\n",
    "inference.\n",
    "\n",
    "Congratulations! You have successfully saved and load models for\n",
    "inference in PyTorch.\n",
    "\n",
    "Learn More\n",
    "==========\n",
    "\n",
    "Take a look at these other recipes to continue your learning:\n",
    "\n",
    "-   [Saving and loading a general checkpoint in\n",
    "    PyTorch](https://pytorch.org/tutorials/recipes/recipes/saving_and_loading_a_general_checkpoint.html)\n",
    "-   [Saving and loading multiple models in one file using\n",
    "    PyTorch](https://pytorch.org/tutorials/recipes/recipes/saving_multiple_models_in_one_file.html)\n"
   ]
  }
 ],
 "metadata": {
  "kernelspec": {
   "display_name": "Python 3",
   "language": "python",
   "name": "python3"
  },
  "language_info": {
   "codemirror_mode": {
    "name": "ipython",
    "version": 3
   },
   "file_extension": ".py",
   "mimetype": "text/x-python",
   "name": "python",
   "nbconvert_exporter": "python",
   "pygments_lexer": "ipython3",
   "version": "3.10.14"
  }
 },
 "nbformat": 4,
 "nbformat_minor": 0
}
